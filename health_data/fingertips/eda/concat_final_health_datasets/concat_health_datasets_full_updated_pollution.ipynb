{
 "cells": [
  {
   "cell_type": "markdown",
   "metadata": {},
   "source": [
    "## DS4A Concat Final Health Datasets and Merge to Pollution Data"
   ]
  },
  {
   "cell_type": "code",
   "execution_count": 34,
   "metadata": {},
   "outputs": [
    {
     "name": "stderr",
     "output_type": "stream",
     "text": [
      "<ipython-input-34-7cd2f3678a89>:4: FutureWarning: Passing a negative integer is deprecated in version 1.0 and will not be supported in future version. Instead, use None to not limit the column width.\n",
      "  pd.set_option('display.max_colwidth', -1)    # stop the column text truncating...\n"
     ]
    }
   ],
   "source": [
    "import pandas as pd\n",
    "pd.set_option(\"display.max_rows\", None, \"display.max_columns\", None)\n",
    "import os\n",
    "pd.set_option('display.max_colwidth', -1)    # stop the column text truncating... \n",
    "pd.set_option(\"display.max_rows\", None, \"display.max_columns\", None)\n",
    "import matplotlib.pyplot as plt\n",
    "import seaborn as sns\n",
    "import numpy as np"
   ]
  },
  {
   "cell_type": "markdown",
   "metadata": {},
   "source": [
    "### 1. Load in the Datasets"
   ]
  },
  {
   "cell_type": "code",
   "execution_count": 35,
   "metadata": {},
   "outputs": [],
   "source": [
    "admissions_df = pd.read_csv('../../data_output/hospital_admissions_resp_crdv/admissions_resp_crdv_inc_strk.csv')\n",
    "prevalence_df = pd.read_csv('../../data_output/nhs_qof_dataset/nhs_qof_dataset_ccg.csv')\n",
    "admissions_df = admissions_df.rename(columns={'Time period Sortable':'Year'})\n",
    "prevalence_df = prevalence_df.rename(columns={'Time period Sortable':'Year'})\n",
    "mortality_df = pd.read_csv('mortality_data_final.csv')\n"
   ]
  },
  {
   "cell_type": "code",
   "execution_count": 36,
   "metadata": {},
   "outputs": [],
   "source": [
    "# remove the erroneous indicator \n",
    "admissions_df = admissions_df[admissions_df['Area Name']!= 'NHS Basildon And Brentwood CCG']\n",
    "prevalence_df = prevalence_df[prevalence_df['Area Name']!= 'NHS Basildon And Brentwood CCG']"
   ]
  },
  {
   "cell_type": "markdown",
   "metadata": {},
   "source": [
    "### 2. Rename Indicators "
   ]
  },
  {
   "cell_type": "code",
   "execution_count": 37,
   "metadata": {},
   "outputs": [
    {
     "data": {
      "text/plain": [
       "array(['COPD Admissions', 'Respiratory Admissions',\n",
       "       'Respiratory Tract Admissions 1yr',\n",
       "       'Respiratory Tract Admissions U1yr', 'Asthma Admissions Over 19yr',\n",
       "       'Asthma Admissions Under 19yr', 'Pneumonia Admissions',\n",
       "       'CHD Admissions', 'Heart Failure Admissions', 'Stroke Admissions',\n",
       "       'Stroke Atrial Fib Admissions'], dtype=object)"
      ]
     },
     "execution_count": 37,
     "metadata": {},
     "output_type": "execute_result"
    }
   ],
   "source": [
    "indicator_dict = {\n",
    "       'Emergency hospital admissions for COPD, all ages': 'COPD Admissions',\n",
    "       'Emergency hospital admissions for respiratory disease': 'Respiratory Admissions',\n",
    "       'Admissions for lower respiratory tract infections in infants aged 1 year': 'Respiratory Tract Admissions 1yr',\n",
    "       'Admissions for lower respiratory tract infections in infants aged under 1 year': 'Respiratory Tract Admissions U1yr',\n",
    "       'Emergency hospital admissions for asthma in adults (aged 19 years and over)': 'Asthma Admissions Over 19yr',\n",
    "       'Hospital admissions for asthma (under 19 years)':'Asthma Admissions Under 19yr',\n",
    "       'Emergency hospital admissions for pneumonia': 'Pneumonia Admissions',\n",
    "       'CHD admissions (all ages)': 'CHD Admissions', \n",
    "       'Heart failure admissions (all ages)': 'Heart Failure Admissions',\n",
    "       'Stroke admissions (Sentinel Stroke National Audit Programme)': 'Stroke Admissions',\n",
    "       'Stroke admissions with history of atrial fibrillation not prescribed anticoagulation prior to stroke': 'Stroke Atrial Fib Admissions'   \n",
    "}\n",
    "\n",
    "respiratory = [\n",
    "    'COPD Admissions',\n",
    "    'Respiratory Admissions',\n",
    "    'Respiratory Tract Admissions 1yr',\n",
    "    'Respiratory Tract Admissions U1yr',\n",
    "    'Asthma Admissions Over 19yr',\n",
    "    'Asthma Admissions Under 19yr',\n",
    "    'Pneumonia Admissions',\n",
    "]\n",
    "cardiov_ = [\n",
    "    'CHD Admissions',\n",
    "    'Heart Failure Admissions',\n",
    "    'Stroke Admissions',\n",
    "    'Stroke Atrial Fib Admissions' \n",
    "]\n",
    "\n",
    "admissions_df['Indicator Name'] = admissions_df['Indicator Name'].map(indicator_dict)\n",
    "admissions_df['Indicator Name'].unique()"
   ]
  },
  {
   "cell_type": "code",
   "execution_count": 38,
   "metadata": {},
   "outputs": [
    {
     "data": {
      "text/plain": [
       "array(['Hypertension Prevalence', 'Diabetes Prevalence', 'CHD Prevalence',\n",
       "       'Heart Failure Prevalence', 'CKD Prevalence', 'Stroke: Prevalence',\n",
       "       'Atrial Fibrillation Prevalence', 'COPD Prevalence',\n",
       "       'Asthma Prevalence'], dtype=object)"
      ]
     },
     "execution_count": 38,
     "metadata": {},
     "output_type": "execute_result"
    }
   ],
   "source": [
    "indicator_dict_q = {\n",
    "       'Hypertension: QOF prevalence (all ages)': 'Hypertension Prevalence',\n",
    "       'Diabetes: QOF prevalence (17+)': 'Diabetes Prevalence', \n",
    "       'CHD: QOF prevalence (all ages)': 'CHD Prevalence',\n",
    "       'Heart Failure: QOF prevalence (all ages)': 'Heart Failure Prevalence' ,\n",
    "       'CKD: QOF prevalence (18+)': 'CKD Prevalence', \n",
    "       'Stroke: QOF prevalence (all ages)': 'Stroke: Prevalence',\n",
    "       'Atrial fibrillation: QOF prevalence': 'Atrial Fibrillation Prevalence',\n",
    "       'COPD: QOF prevalence (all ages)': 'COPD Prevalence',\n",
    "       'Asthma: QOF prevalence (all ages)': 'Asthma Prevalence'\n",
    "}\n",
    "\n",
    "resp_p = [\n",
    "    'COPD Prevalence',\n",
    "    'Asthma Prevalence'  \n",
    "]\n",
    "\n",
    "cardio_p = [\n",
    "    'Hypertension Prevalence',\n",
    "    'Diabetes Prevalence', \n",
    "    'CHD Prevalence',\n",
    "    'Heart Failure Prevalence',\n",
    "    'CKD Prevalence', \n",
    "    'Stroke: Prevalence',\n",
    "    'Atrial Fibrillation Prevalence',\n",
    "]\n",
    "\n",
    "prevalence_df['Indicator Name'] = prevalence_df['Indicator Name'].map(indicator_dict_q)\n",
    "prevalence_df['Indicator Name'].unique()"
   ]
  },
  {
   "cell_type": "code",
   "execution_count": 39,
   "metadata": {},
   "outputs": [],
   "source": [
    "# remove locations not supported by pollution data\n",
    "not_supported_poll = [\n",
    "    'NHS Brent CCG',\n",
    "    'NHS Croydon CCG',\n",
    "    'NHS Guildford and Waverley CCG',\n",
    "    'NHS Harrow CCG',\n",
    "    'NHS Basildon And Brentwood CCG'\n",
    "]\n",
    "\n",
    "\n",
    "['Buckinghamshire', 'Ealing', 'East Berkshire',\n",
    "       'Hammersmith and Fulham', 'Hillingdon', 'Hounslow', 'Oxford',\n",
    "       'Oxfordshire', 'Reading', 'South West London', 'Surrey Heartlands',\n",
    "       'Watford']\n",
    "\n",
    "\n",
    "\n",
    "prevalence_df = prevalence_df[~prevalence_df['Area Name'].isin(not_supported_poll)]\n",
    "admissions_df = admissions_df[~admissions_df['Area Name'].isin(not_supported_poll)]\n",
    "\n",
    "# restrict prevalence_df and admissions_df to PERSONS only (NOT male/female, as we do not have the right indicators)\n",
    "prevalence_df = prevalence_df[prevalence_df['Sex'] == 'Persons']\n",
    "admissions_df = admissions_df[admissions_df['Sex'] == 'Persons']"
   ]
  },
  {
   "cell_type": "markdown",
   "metadata": {},
   "source": [
    "#### Join the health data sets up (treat mortality first)"
   ]
  },
  {
   "cell_type": "code",
   "execution_count": 40,
   "metadata": {},
   "outputs": [
    {
     "data": {
      "text/html": [
       "<div>\n",
       "<style scoped>\n",
       "    .dataframe tbody tr th:only-of-type {\n",
       "        vertical-align: middle;\n",
       "    }\n",
       "\n",
       "    .dataframe tbody tr th {\n",
       "        vertical-align: top;\n",
       "    }\n",
       "\n",
       "    .dataframe thead th {\n",
       "        text-align: right;\n",
       "    }\n",
       "</style>\n",
       "<table border=\"1\" class=\"dataframe\">\n",
       "  <thead>\n",
       "    <tr style=\"text-align: right;\">\n",
       "      <th></th>\n",
       "      <th>Unnamed: 0</th>\n",
       "      <th>Unnamed: 0.1</th>\n",
       "      <th>Indicator ID</th>\n",
       "      <th>Indicator Name</th>\n",
       "      <th>Parent Code</th>\n",
       "      <th>Parent Name</th>\n",
       "      <th>Area Code</th>\n",
       "      <th>Area Name</th>\n",
       "      <th>Area Type</th>\n",
       "      <th>Sex</th>\n",
       "      <th>Age</th>\n",
       "      <th>Category Type</th>\n",
       "      <th>Category</th>\n",
       "      <th>Time period</th>\n",
       "      <th>Value</th>\n",
       "      <th>Lower CI 95.0 limit</th>\n",
       "      <th>Upper CI 95.0 limit</th>\n",
       "      <th>Lower CI 99.8 limit</th>\n",
       "      <th>Upper CI 99.8 limit</th>\n",
       "      <th>Count</th>\n",
       "      <th>Denominator</th>\n",
       "      <th>Value note</th>\n",
       "      <th>Recent Trend</th>\n",
       "      <th>Compared to England value or percentiles</th>\n",
       "      <th>Compared to percentiles</th>\n",
       "      <th>Year</th>\n",
       "      <th>New data</th>\n",
       "      <th>Compared to goal</th>\n",
       "      <th>CCG Location</th>\n",
       "    </tr>\n",
       "  </thead>\n",
       "  <tbody>\n",
       "    <tr>\n",
       "      <th>3</th>\n",
       "      <td>19852</td>\n",
       "      <td>19852</td>\n",
       "      <td>219</td>\n",
       "      <td>Hypertension Prevalence</td>\n",
       "      <td>E92000001</td>\n",
       "      <td>England</td>\n",
       "      <td>E38000048</td>\n",
       "      <td>NHS Ealing CCG</td>\n",
       "      <td>CCGs (2019/20)</td>\n",
       "      <td>Persons</td>\n",
       "      <td>All ages</td>\n",
       "      <td>NaN</td>\n",
       "      <td>NaN</td>\n",
       "      <td>2009/10</td>\n",
       "      <td>12.026980</td>\n",
       "      <td>11.920710</td>\n",
       "      <td>12.134068</td>\n",
       "      <td>11.859797</td>\n",
       "      <td>12.196195</td>\n",
       "      <td>42954.0</td>\n",
       "      <td>357147.0</td>\n",
       "      <td>Aggregated from all known lower geography values</td>\n",
       "      <td>NaN</td>\n",
       "      <td>Lower</td>\n",
       "      <td>Not compared</td>\n",
       "      <td>2009</td>\n",
       "      <td>NaN</td>\n",
       "      <td>NaN</td>\n",
       "      <td>Inner Radius</td>\n",
       "    </tr>\n",
       "    <tr>\n",
       "      <th>4</th>\n",
       "      <td>19869</td>\n",
       "      <td>19869</td>\n",
       "      <td>219</td>\n",
       "      <td>Hypertension Prevalence</td>\n",
       "      <td>E92000001</td>\n",
       "      <td>England</td>\n",
       "      <td>E38000070</td>\n",
       "      <td>NHS Hammersmith And Fulham CCG</td>\n",
       "      <td>CCGs (2019/20)</td>\n",
       "      <td>Persons</td>\n",
       "      <td>All ages</td>\n",
       "      <td>NaN</td>\n",
       "      <td>NaN</td>\n",
       "      <td>2009/10</td>\n",
       "      <td>9.423858</td>\n",
       "      <td>9.290173</td>\n",
       "      <td>9.559265</td>\n",
       "      <td>9.213858</td>\n",
       "      <td>9.638136</td>\n",
       "      <td>17070.0</td>\n",
       "      <td>181136.0</td>\n",
       "      <td>Aggregated from all known lower geography values</td>\n",
       "      <td>NaN</td>\n",
       "      <td>Lower</td>\n",
       "      <td>Not compared</td>\n",
       "      <td>2009</td>\n",
       "      <td>NaN</td>\n",
       "      <td>NaN</td>\n",
       "      <td>Outer Radius</td>\n",
       "    </tr>\n",
       "    <tr>\n",
       "      <th>6</th>\n",
       "      <td>19877</td>\n",
       "      <td>19877</td>\n",
       "      <td>219</td>\n",
       "      <td>Hypertension Prevalence</td>\n",
       "      <td>E92000001</td>\n",
       "      <td>England</td>\n",
       "      <td>E38000079</td>\n",
       "      <td>NHS Herts Valleys CCG</td>\n",
       "      <td>CCGs (2019/20)</td>\n",
       "      <td>Persons</td>\n",
       "      <td>All ages</td>\n",
       "      <td>NaN</td>\n",
       "      <td>NaN</td>\n",
       "      <td>2009/10</td>\n",
       "      <td>12.546181</td>\n",
       "      <td>12.457431</td>\n",
       "      <td>12.635472</td>\n",
       "      <td>12.406497</td>\n",
       "      <td>12.687210</td>\n",
       "      <td>66730.0</td>\n",
       "      <td>531875.0</td>\n",
       "      <td>Aggregated from all known lower geography values</td>\n",
       "      <td>NaN</td>\n",
       "      <td>Lower</td>\n",
       "      <td>Not compared</td>\n",
       "      <td>2009</td>\n",
       "      <td>NaN</td>\n",
       "      <td>NaN</td>\n",
       "      <td>Outer Radius</td>\n",
       "    </tr>\n",
       "    <tr>\n",
       "      <th>7</th>\n",
       "      <td>19880</td>\n",
       "      <td>19880</td>\n",
       "      <td>219</td>\n",
       "      <td>Hypertension Prevalence</td>\n",
       "      <td>E92000001</td>\n",
       "      <td>England</td>\n",
       "      <td>E38000082</td>\n",
       "      <td>NHS Hillingdon CCG</td>\n",
       "      <td>CCGs (2019/20)</td>\n",
       "      <td>Persons</td>\n",
       "      <td>All ages</td>\n",
       "      <td>NaN</td>\n",
       "      <td>NaN</td>\n",
       "      <td>2009/10</td>\n",
       "      <td>12.690711</td>\n",
       "      <td>12.564328</td>\n",
       "      <td>12.818179</td>\n",
       "      <td>12.491938</td>\n",
       "      <td>12.892180</td>\n",
       "      <td>33530.0</td>\n",
       "      <td>264209.0</td>\n",
       "      <td>Aggregated from all known lower geography values</td>\n",
       "      <td>NaN</td>\n",
       "      <td>Lower</td>\n",
       "      <td>Not compared</td>\n",
       "      <td>2009</td>\n",
       "      <td>NaN</td>\n",
       "      <td>NaN</td>\n",
       "      <td>Inner Radius</td>\n",
       "    </tr>\n",
       "    <tr>\n",
       "      <th>8</th>\n",
       "      <td>19882</td>\n",
       "      <td>19882</td>\n",
       "      <td>219</td>\n",
       "      <td>Hypertension Prevalence</td>\n",
       "      <td>E92000001</td>\n",
       "      <td>England</td>\n",
       "      <td>E38000084</td>\n",
       "      <td>NHS Hounslow CCG</td>\n",
       "      <td>CCGs (2019/20)</td>\n",
       "      <td>Persons</td>\n",
       "      <td>All ages</td>\n",
       "      <td>NaN</td>\n",
       "      <td>NaN</td>\n",
       "      <td>2009/10</td>\n",
       "      <td>11.489722</td>\n",
       "      <td>11.359422</td>\n",
       "      <td>11.621321</td>\n",
       "      <td>11.284870</td>\n",
       "      <td>11.697803</td>\n",
       "      <td>26176.0</td>\n",
       "      <td>227821.0</td>\n",
       "      <td>Aggregated from all known lower geography values</td>\n",
       "      <td>NaN</td>\n",
       "      <td>Lower</td>\n",
       "      <td>Not compared</td>\n",
       "      <td>2009</td>\n",
       "      <td>NaN</td>\n",
       "      <td>NaN</td>\n",
       "      <td>Inner Radius</td>\n",
       "    </tr>\n",
       "  </tbody>\n",
       "</table>\n",
       "</div>"
      ],
      "text/plain": [
       "   Unnamed: 0  Unnamed: 0.1  Indicator ID           Indicator Name  \\\n",
       "3  19852       19852         219           Hypertension Prevalence   \n",
       "4  19869       19869         219           Hypertension Prevalence   \n",
       "6  19877       19877         219           Hypertension Prevalence   \n",
       "7  19880       19880         219           Hypertension Prevalence   \n",
       "8  19882       19882         219           Hypertension Prevalence   \n",
       "\n",
       "  Parent Code Parent Name  Area Code                       Area Name  \\\n",
       "3  E92000001   England     E38000048  NHS Ealing CCG                   \n",
       "4  E92000001   England     E38000070  NHS Hammersmith And Fulham CCG   \n",
       "6  E92000001   England     E38000079  NHS Herts Valleys CCG            \n",
       "7  E92000001   England     E38000082  NHS Hillingdon CCG               \n",
       "8  E92000001   England     E38000084  NHS Hounslow CCG                 \n",
       "\n",
       "        Area Type      Sex       Age  Category Type  Category Time period  \\\n",
       "3  CCGs (2019/20)  Persons  All ages NaN            NaN        2009/10      \n",
       "4  CCGs (2019/20)  Persons  All ages NaN            NaN        2009/10      \n",
       "6  CCGs (2019/20)  Persons  All ages NaN            NaN        2009/10      \n",
       "7  CCGs (2019/20)  Persons  All ages NaN            NaN        2009/10      \n",
       "8  CCGs (2019/20)  Persons  All ages NaN            NaN        2009/10      \n",
       "\n",
       "       Value  Lower CI 95.0 limit  Upper CI 95.0 limit  Lower CI 99.8 limit  \\\n",
       "3  12.026980  11.920710            12.134068            11.859797             \n",
       "4  9.423858   9.290173             9.559265             9.213858              \n",
       "6  12.546181  12.457431            12.635472            12.406497             \n",
       "7  12.690711  12.564328            12.818179            12.491938             \n",
       "8  11.489722  11.359422            11.621321            11.284870             \n",
       "\n",
       "   Upper CI 99.8 limit    Count  Denominator  \\\n",
       "3  12.196195            42954.0  357147.0      \n",
       "4  9.638136             17070.0  181136.0      \n",
       "6  12.687210            66730.0  531875.0      \n",
       "7  12.892180            33530.0  264209.0      \n",
       "8  11.697803            26176.0  227821.0      \n",
       "\n",
       "                                         Value note Recent Trend  \\\n",
       "3  Aggregated from all known lower geography values  NaN           \n",
       "4  Aggregated from all known lower geography values  NaN           \n",
       "6  Aggregated from all known lower geography values  NaN           \n",
       "7  Aggregated from all known lower geography values  NaN           \n",
       "8  Aggregated from all known lower geography values  NaN           \n",
       "\n",
       "  Compared to England value or percentiles Compared to percentiles  Year  \\\n",
       "3  Lower                                    Not compared            2009   \n",
       "4  Lower                                    Not compared            2009   \n",
       "6  Lower                                    Not compared            2009   \n",
       "7  Lower                                    Not compared            2009   \n",
       "8  Lower                                    Not compared            2009   \n",
       "\n",
       "   New data  Compared to goal  CCG Location  \n",
       "3 NaN       NaN                Inner Radius  \n",
       "4 NaN       NaN                Outer Radius  \n",
       "6 NaN       NaN                Outer Radius  \n",
       "7 NaN       NaN                Inner Radius  \n",
       "8 NaN       NaN                Inner Radius  "
      ]
     },
     "execution_count": 40,
     "metadata": {},
     "output_type": "execute_result"
    }
   ],
   "source": [
    "prevalence_df.head()"
   ]
  },
  {
   "cell_type": "code",
   "execution_count": 41,
   "metadata": {},
   "outputs": [],
   "source": [
    "mortality_df = mortality_df.rename(columns={'Indicator': 'Indicator Name', 'Radius': 'CCG Location', 'Mortality Rate': 'Value'})\n",
    "\n",
    "# set the indicator type field... \n",
    "mortality_df['Indicator Type'] = 'Health - Mortality'\n",
    "prevalence_df['Indicator Type'] = 'Health - Prevalence'\n",
    "admissions_df['Indicator Type'] = 'Health- Admission'\n"
   ]
  },
  {
   "cell_type": "code",
   "execution_count": 42,
   "metadata": {},
   "outputs": [
    {
     "data": {
      "text/html": [
       "<div>\n",
       "<style scoped>\n",
       "    .dataframe tbody tr th:only-of-type {\n",
       "        vertical-align: middle;\n",
       "    }\n",
       "\n",
       "    .dataframe tbody tr th {\n",
       "        vertical-align: top;\n",
       "    }\n",
       "\n",
       "    .dataframe thead th {\n",
       "        text-align: right;\n",
       "    }\n",
       "</style>\n",
       "<table border=\"1\" class=\"dataframe\">\n",
       "  <thead>\n",
       "    <tr style=\"text-align: right;\">\n",
       "      <th></th>\n",
       "      <th>Unnamed: 0</th>\n",
       "      <th>Indicator Full Name</th>\n",
       "      <th>Indicator Name</th>\n",
       "      <th>Area Name</th>\n",
       "      <th>CCG Location</th>\n",
       "      <th>Year</th>\n",
       "      <th>Time period</th>\n",
       "      <th>Value</th>\n",
       "      <th>Indicator Type</th>\n",
       "    </tr>\n",
       "  </thead>\n",
       "  <tbody>\n",
       "  </tbody>\n",
       "</table>\n",
       "</div>"
      ],
      "text/plain": [
       "Empty DataFrame\n",
       "Columns: [Unnamed: 0, Indicator Full Name, Indicator Name, Area Name, CCG Location, Year, Time period, Value, Indicator Type]\n",
       "Index: []"
      ]
     },
     "execution_count": 42,
     "metadata": {},
     "output_type": "execute_result"
    }
   ],
   "source": [
    "mortality_df['Indicator Name'].unique()\n",
    "mortality_df[mortality_df.duplicated()]"
   ]
  },
  {
   "cell_type": "code",
   "execution_count": 43,
   "metadata": {},
   "outputs": [
    {
     "data": {
      "text/plain": [
       "(5122, 6)"
      ]
     },
     "execution_count": 43,
     "metadata": {},
     "output_type": "execute_result"
    }
   ],
   "source": [
    "concat_cols = ['Year', 'Indicator Type', 'Indicator Name', 'Area Name', 'CCG Location', 'Value']\n",
    "\n",
    "\n",
    "# print((mortality_df[concat_cols]).shape)\n",
    "# print((prevalence_df[concat_cols]).shape)\n",
    "# print((admissions_df[concat_cols]).shape)\n",
    "\n",
    "health_df = pd.concat([\n",
    "    mortality_df[concat_cols], \n",
    "    prevalence_df[concat_cols], \n",
    "    admissions_df[concat_cols]\n",
    "], \n",
    "    axis=0\n",
    ")\n",
    "\n",
    "\n",
    "health_df.shape"
   ]
  },
  {
   "cell_type": "code",
   "execution_count": 44,
   "metadata": {},
   "outputs": [
    {
     "data": {
      "text/plain": [
       "array(['Under 75 Resp Disease', 'Pneumonia (all mentions)',\n",
       "       'COPD (contributory cause)', '<75 Coronary Heart Disease',\n",
       "       'Asthma'], dtype=object)"
      ]
     },
     "execution_count": 44,
     "metadata": {},
     "output_type": "execute_result"
    }
   ],
   "source": [
    "mortality_df['Indicator Name'].unique()"
   ]
  },
  {
   "cell_type": "code",
   "execution_count": 45,
   "metadata": {
    "scrolled": true
   },
   "outputs": [
    {
     "data": {
      "text/plain": [
       "(1044, 6)"
      ]
     },
     "execution_count": 45,
     "metadata": {},
     "output_type": "execute_result"
    }
   ],
   "source": [
    "# there is an observed issus with duplicates after concatting (for the mortality frame, for now we will drop the duplicates at this point. further investigation is required.)\n",
    "health_df[health_df.duplicated()].shape"
   ]
  },
  {
   "cell_type": "code",
   "execution_count": 46,
   "metadata": {},
   "outputs": [],
   "source": [
    "health_df = health_df.drop_duplicates()"
   ]
  },
  {
   "cell_type": "code",
   "execution_count": 47,
   "metadata": {},
   "outputs": [
    {
     "data": {
      "text/plain": [
       "(4078, 6)"
      ]
     },
     "execution_count": 47,
     "metadata": {},
     "output_type": "execute_result"
    }
   ],
   "source": [
    "health_df[health_df.duplicated()]\n",
    "health_df.shape"
   ]
  },
  {
   "cell_type": "code",
   "execution_count": 48,
   "metadata": {},
   "outputs": [],
   "source": [
    "def rename_mortality_indicator(indicator_name):\n",
    "    if indicator_name in ['Asthma', 'Under 75 Resp Disease', 'Pneumonia (all mentions)', 'COPD (contributory cause)', '<75 Coronary Heart Disease']:\n",
    "        return indicator_name + ' Mortality Rate'\n",
    "    else:\n",
    "        return indicator_name"
   ]
  },
  {
   "cell_type": "code",
   "execution_count": 49,
   "metadata": {},
   "outputs": [],
   "source": [
    "# final step - rename the health indicators\n",
    "health_df['Indicator Name'] = health_df['Indicator Name'].apply(rename_mortality_indicator)"
   ]
  },
  {
   "cell_type": "code",
   "execution_count": 50,
   "metadata": {},
   "outputs": [
    {
     "data": {
      "text/plain": [
       "array(['Under 75 Resp Disease Mortality Rate',\n",
       "       'Pneumonia (all mentions) Mortality Rate',\n",
       "       'COPD (contributory cause) Mortality Rate',\n",
       "       '<75 Coronary Heart Disease Mortality Rate',\n",
       "       'Asthma Mortality Rate', 'Hypertension Prevalence',\n",
       "       'Diabetes Prevalence', 'CHD Prevalence',\n",
       "       'Heart Failure Prevalence', 'CKD Prevalence', 'Stroke: Prevalence',\n",
       "       'Atrial Fibrillation Prevalence', 'COPD Prevalence',\n",
       "       'Asthma Prevalence', 'COPD Admissions', 'Respiratory Admissions',\n",
       "       'Respiratory Tract Admissions 1yr',\n",
       "       'Respiratory Tract Admissions U1yr', 'Asthma Admissions Over 19yr',\n",
       "       'Asthma Admissions Under 19yr', 'Pneumonia Admissions',\n",
       "       'CHD Admissions', 'Heart Failure Admissions', 'Stroke Admissions',\n",
       "       'Stroke Atrial Fib Admissions'], dtype=object)"
      ]
     },
     "execution_count": 50,
     "metadata": {},
     "output_type": "execute_result"
    }
   ],
   "source": [
    "health_df['Indicator Name'].unique()"
   ]
  },
  {
   "cell_type": "markdown",
   "metadata": {},
   "source": [
    "### 3. Confirm CCG Region Location with Shape files and Get NHS CCG Distances from Heathrow Airport"
   ]
  },
  {
   "cell_type": "markdown",
   "metadata": {},
   "source": [
    "The team would like to redefine the NHS CCG region location assumptions (inner/outer), intially made visually, with measured distance from heathrow in metres. "
   ]
  },
  {
   "cell_type": "code",
   "execution_count": 51,
   "metadata": {},
   "outputs": [],
   "source": [
    "# load in the shape file, with distance calculated in the geography notebook.\n",
    "geog = pd.read_csv('../../../geography/nhs_ccg_geometry.csv', encoding='utf-8')\n",
    "geog.head(2)\n",
    "# fix naming convention\n",
    "geog['Area Name'] = geog['Area Name'].apply(lambda x: 'NHS Hammersmith And Fulham CCG' if x=='NHS Hammersmith and Fulham CCG' else x)"
   ]
  },
  {
   "cell_type": "code",
   "execution_count": 52,
   "metadata": {},
   "outputs": [
    {
     "data": {
      "text/plain": [
       "(4078, 9)"
      ]
     },
     "execution_count": 52,
     "metadata": {},
     "output_type": "execute_result"
    }
   ],
   "source": [
    "health_df_dist = pd.merge(health_df, geog[['Area Name', 'heathrow_distance', 'LAT', 'LONG']], how='left', on='Area Name')\n",
    "# print(health_df.shape)\n",
    "health_df_dist.shape"
   ]
  },
  {
   "cell_type": "code",
   "execution_count": 53,
   "metadata": {},
   "outputs": [
    {
     "data": {
      "text/plain": [
       "array(['NHS Ealing CCG', 'NHS Hillingdon CCG', 'NHS Hounslow CCG',\n",
       "       'NHS Buckinghamshire CCG', 'NHS East Berkshire CCG',\n",
       "       'NHS North West Surrey CCG', 'NHS Brent CCG',\n",
       "       'NHS Hammersmith And Fulham CCG', 'NHS Harrow CCG',\n",
       "       'NHS Herts Valleys CCG', 'NHS Oxfordshire CCG',\n",
       "       'NHS Surrey Heath CCG', 'NHS Berkshire West CCG',\n",
       "       'NHS Croydon CCG', 'NHS Kingston CCG', 'NHS Merton CCG',\n",
       "       'NHS Richmond CCG', 'NHS Sutton CCG', 'NHS Wandsworth CCG',\n",
       "       'NHS Guildford and Waverley CCG'], dtype=object)"
      ]
     },
     "execution_count": 53,
     "metadata": {},
     "output_type": "execute_result"
    }
   ],
   "source": [
    "health_df_dist['Area Name'].unique()"
   ]
  },
  {
   "cell_type": "code",
   "execution_count": 54,
   "metadata": {},
   "outputs": [
    {
     "data": {
      "text/plain": [
       "(4078, 9)"
      ]
     },
     "execution_count": 54,
     "metadata": {},
     "output_type": "execute_result"
    }
   ],
   "source": [
    "health_df_dist.shape"
   ]
  },
  {
   "cell_type": "code",
   "execution_count": 55,
   "metadata": {},
   "outputs": [
    {
     "data": {
      "text/html": [
       "<div>\n",
       "<style scoped>\n",
       "    .dataframe tbody tr th:only-of-type {\n",
       "        vertical-align: middle;\n",
       "    }\n",
       "\n",
       "    .dataframe tbody tr th {\n",
       "        vertical-align: top;\n",
       "    }\n",
       "\n",
       "    .dataframe thead th {\n",
       "        text-align: right;\n",
       "    }\n",
       "</style>\n",
       "<table border=\"1\" class=\"dataframe\">\n",
       "  <thead>\n",
       "    <tr style=\"text-align: right;\">\n",
       "      <th></th>\n",
       "      <th>Year</th>\n",
       "      <th>Indicator Type</th>\n",
       "      <th>Indicator Name</th>\n",
       "      <th>Area Name</th>\n",
       "      <th>CCG Location</th>\n",
       "      <th>Value</th>\n",
       "      <th>heathrow_distance</th>\n",
       "      <th>LAT</th>\n",
       "      <th>LONG</th>\n",
       "    </tr>\n",
       "  </thead>\n",
       "  <tbody>\n",
       "  </tbody>\n",
       "</table>\n",
       "</div>"
      ],
      "text/plain": [
       "Empty DataFrame\n",
       "Columns: [Year, Indicator Type, Indicator Name, Area Name, CCG Location, Value, heathrow_distance, LAT, LONG]\n",
       "Index: []"
      ]
     },
     "execution_count": 55,
     "metadata": {},
     "output_type": "execute_result"
    }
   ],
   "source": [
    "# health_df_dist[health_df_dist['Area Name']== 'NHS Oxfordshire CCG'].head(100)\n",
    "# print(health_df_dist.shape)\n",
    "\n",
    "duplicate = health_df_dist[health_df_dist.duplicated()] \n",
    "duplicate.shape\n",
    "duplicate[duplicate['Area Name'] == 'NHS Oxfordshire CCG'].head(2)"
   ]
  },
  {
   "cell_type": "code",
   "execution_count": 56,
   "metadata": {},
   "outputs": [
    {
     "data": {
      "text/html": [
       "<div>\n",
       "<style scoped>\n",
       "    .dataframe tbody tr th:only-of-type {\n",
       "        vertical-align: middle;\n",
       "    }\n",
       "\n",
       "    .dataframe tbody tr th {\n",
       "        vertical-align: top;\n",
       "    }\n",
       "\n",
       "    .dataframe thead th {\n",
       "        text-align: right;\n",
       "    }\n",
       "</style>\n",
       "<table border=\"1\" class=\"dataframe\">\n",
       "  <thead>\n",
       "    <tr style=\"text-align: right;\">\n",
       "      <th></th>\n",
       "      <th>Year</th>\n",
       "      <th>Indicator Type</th>\n",
       "      <th>Indicator Name</th>\n",
       "      <th>Area Name</th>\n",
       "      <th>CCG Location</th>\n",
       "      <th>Value</th>\n",
       "      <th>heathrow_distance</th>\n",
       "      <th>LAT</th>\n",
       "      <th>LONG</th>\n",
       "    </tr>\n",
       "  </thead>\n",
       "  <tbody>\n",
       "    <tr>\n",
       "      <th>2947</th>\n",
       "      <td>2015</td>\n",
       "      <td>Health- Admission</td>\n",
       "      <td>Respiratory Tract Admissions 1yr</td>\n",
       "      <td>NHS Surrey Heath CCG</td>\n",
       "      <td>Outer Radius</td>\n",
       "      <td>NaN</td>\n",
       "      <td>23497.23959</td>\n",
       "      <td>51.3281</td>\n",
       "      <td>-0.70434</td>\n",
       "    </tr>\n",
       "    <tr>\n",
       "      <th>2963</th>\n",
       "      <td>2016</td>\n",
       "      <td>Health- Admission</td>\n",
       "      <td>Respiratory Tract Admissions 1yr</td>\n",
       "      <td>NHS Surrey Heath CCG</td>\n",
       "      <td>Outer Radius</td>\n",
       "      <td>NaN</td>\n",
       "      <td>23497.23959</td>\n",
       "      <td>51.3281</td>\n",
       "      <td>-0.70434</td>\n",
       "    </tr>\n",
       "  </tbody>\n",
       "</table>\n",
       "</div>"
      ],
      "text/plain": [
       "      Year     Indicator Type                    Indicator Name  \\\n",
       "2947  2015  Health- Admission  Respiratory Tract Admissions 1yr   \n",
       "2963  2016  Health- Admission  Respiratory Tract Admissions 1yr   \n",
       "\n",
       "                 Area Name  CCG Location  Value  heathrow_distance      LAT  \\\n",
       "2947  NHS Surrey Heath CCG  Outer Radius NaN     23497.23959        51.3281   \n",
       "2963  NHS Surrey Heath CCG  Outer Radius NaN     23497.23959        51.3281   \n",
       "\n",
       "         LONG  \n",
       "2947 -0.70434  \n",
       "2963 -0.70434  "
      ]
     },
     "execution_count": 56,
     "metadata": {},
     "output_type": "execute_result"
    }
   ],
   "source": [
    "health_df_dist[health_df_dist['Value'].isna()]\n",
    "# the team will address the two points at the same time as the pollutant nans... "
   ]
  },
  {
   "cell_type": "code",
   "execution_count": 57,
   "metadata": {},
   "outputs": [],
   "source": [
    "health_df_dist['CCG Location'] = health_df_dist['CCG Location'].apply(\n",
    "    lambda x: x.replace('Radius', '').strip() \n",
    ")"
   ]
  },
  {
   "cell_type": "code",
   "execution_count": 58,
   "metadata": {},
   "outputs": [],
   "source": [
    "# re-define the CCG locations\n",
    "health_df_dist['CCG Location'] = np.where(\n",
    "health_df_dist['heathrow_distance'] < 15000, 'Inner', 'Outer'\n",
    ")\n",
    "health_df_dist.rename(columns={'CCG Location': 'Radius Location'}, inplace=True)"
   ]
  },
  {
   "cell_type": "code",
   "execution_count": 59,
   "metadata": {},
   "outputs": [],
   "source": [
    "# output to CSV \n",
    "health_df_dist.to_csv('health_data_final.csv', encoding='utf-8')"
   ]
  },
  {
   "cell_type": "code",
   "execution_count": 60,
   "metadata": {},
   "outputs": [],
   "source": [
    "# Buckinghamshire, Harrow, Guildford and Waverley, Surrey Heath, Brent, Croydon\n",
    "\n",
    "\n",
    "# • Buckinghamshire (excluded from pollution (no data) but keep for health analysis)\n",
    "# • Harrow to be (excluded from pollution (no data) but keep for health analysis)\n",
    "# • Brent (de-prioritised, only if time)  \n",
    "# • Guildford/waverley - (excluded from pollution (no data) but keep for health analysis)\n",
    "# • Surrey Heath CCG (excluded from pollution (no data) but keep for health analysis) \n"
   ]
  },
  {
   "cell_type": "code",
   "execution_count": 61,
   "metadata": {},
   "outputs": [],
   "source": [
    "# we need to create a pollution CCG mapping (as some of the CCG locations have shared pollution indicators)\n",
    "pollution_map = {\n",
    "    'NHS Buckinghamshire CCG': 'No Pollution Readings',\n",
    "    'NHS Ealing CCG': 'Ealing', \n",
    "    'NHS East Berkshire CCG': 'East Berkshire', \n",
    "    'NHS Hillingdon CCG': 'Hillingdon',\n",
    "    'NHS Hounslow CCG': 'Hounslow', \n",
    "    'NHS North West Surrey CCG': 'Surrey Heartlands',\n",
    "    'NHS Berkshire West CCG': 'Reading', \n",
    "    'NHS Brent CCG': 'No Pollution Readings',\n",
    "    'NHS Croydon CCG': 'No Pollution Readings',\n",
    "    'NHS Guildford and Waverley CCG': 'Guildford',\n",
    "    'NHS Hammersmith And Fulham CCG': 'Hammersmith and Fulham', \n",
    "    'NHS Harrow CCG': 'No Pollution Readings',\n",
    "    'NHS Herts Valleys CCG': 'Watford', \n",
    "    'NHS Kingston CCG': 'South West London', \n",
    "    'NHS Merton CCG': 'South West London', \n",
    "    'NHS Oxfordshire CCG': 'Oxford', \n",
    "    'NHS Richmond CCG': 'South West London', \n",
    "    'NHS Surrey Heath CCG': 'No Pollution Readings',\n",
    "    'NHS Sutton CCG': 'South West London', \n",
    "    'NHS Wandsworth CCG': 'South West London'\n",
    "}\n",
    "\n",
    "\n",
    "health_df_dist['CCG_Poll_Map'] = health_df_dist['Area Name'].map(pollution_map)\n"
   ]
  },
  {
   "cell_type": "code",
   "execution_count": 62,
   "metadata": {},
   "outputs": [
    {
     "data": {
      "text/plain": [
       "array(['Ealing', 'Hillingdon', 'Hounslow', 'No Pollution Readings',\n",
       "       'East Berkshire', 'Surrey Heartlands', 'Hammersmith and Fulham',\n",
       "       'Watford', 'Oxford', 'Reading', 'South West London', 'Guildford'],\n",
       "      dtype=object)"
      ]
     },
     "execution_count": 62,
     "metadata": {},
     "output_type": "execute_result"
    }
   ],
   "source": [
    "health_df_dist['CCG_Poll_Map'].unique()"
   ]
  },
  {
   "cell_type": "markdown",
   "metadata": {},
   "source": [
    "### 4. Transform Health DF into Multi-Variate format"
   ]
  },
  {
   "cell_type": "code",
   "execution_count": 63,
   "metadata": {},
   "outputs": [],
   "source": [
    "# restrict the columns to those requried \n",
    "health_df_dist_wide = health_df_dist.copy()\n",
    "health_df_dist_wide = health_df_dist_wide[['Year', 'Area Name','Indicator Name', 'Value', 'Radius Location', 'heathrow_distance', 'CCG_Poll_Map', 'LAT', 'LONG']]\n",
    "\n",
    "health_df_pivot = health_df_dist_wide.pivot_table(\n",
    "    values='Value',\n",
    "    index= ['Year', 'Area Name', 'Radius Location', 'heathrow_distance', 'CCG_Poll_Map', 'LAT', 'LONG'],\n",
    "    columns='Indicator Name'\n",
    ").reset_index().rename(columns={'Indicator Name': 'Index'})\n",
    "\n",
    "# output to CSV (blanked out for now)\n",
    "health_df_pivot.to_csv('health_data_final_wide_format.csv', encoding='utf-8')"
   ]
  },
  {
   "cell_type": "markdown",
   "metadata": {},
   "source": [
    "### 5. Combine with Pollution Data "
   ]
  },
  {
   "cell_type": "code",
   "execution_count": 91,
   "metadata": {},
   "outputs": [],
   "source": [
    "poll_updated = pd.read_csv('../../../../data_final/pollution_wide_ccg.csv', encoding='utf-8')"
   ]
  },
  {
   "cell_type": "code",
   "execution_count": 75,
   "metadata": {},
   "outputs": [
    {
     "data": {
      "text/plain": [
       "array(['Buckinghamshire', 'Ealing', 'East Berkshire', 'Guildford',\n",
       "       'Hammersmith and Fulham', 'Hillingdon', 'Hounslow', 'Oxford',\n",
       "       'Reading', 'South West London', 'Surrey Heartlands', 'Watford'],\n",
       "      dtype=object)"
      ]
     },
     "execution_count": 75,
     "metadata": {},
     "output_type": "execute_result"
    }
   ],
   "source": [
    "poll_updated.CCG.unique()"
   ]
  },
  {
   "cell_type": "code",
   "execution_count": 77,
   "metadata": {},
   "outputs": [],
   "source": [
    "# rename columns to match health data \n",
    "poll_updated.rename(columns={'CCG':'CCG_Poll_Map', 'Date': 'Year'}, inplace=1)\n",
    "\n",
    "# append reading ccg name for some values \n",
    "poll_updated['CCG_Poll_Map']  = poll_updated['CCG_Poll_Map'].apply(lambda x: 'Reading' if 'Reading' in x else x)"
   ]
  },
  {
   "cell_type": "code",
   "execution_count": 78,
   "metadata": {},
   "outputs": [
    {
     "data": {
      "text/plain": [
       "array(['Buckinghamshire', 'Ealing', 'East Berkshire', 'Guildford',\n",
       "       'Hammersmith and Fulham', 'Hillingdon', 'Hounslow', 'Oxford',\n",
       "       'Reading', 'South West London', 'Surrey Heartlands', 'Watford'],\n",
       "      dtype=object)"
      ]
     },
     "execution_count": 78,
     "metadata": {},
     "output_type": "execute_result"
    }
   ],
   "source": [
    "poll_updated.CCG_Poll_Map.unique()"
   ]
  },
  {
   "cell_type": "markdown",
   "metadata": {},
   "source": [
    "we will drop the indicators that are present in closer regions and not present in further away regions (as we need the same indicators bewteen both regions for comparisons) "
   ]
  },
  {
   "cell_type": "code",
   "execution_count": 79,
   "metadata": {
    "scrolled": false
   },
   "outputs": [
    {
     "name": "stdout",
     "output_type": "stream",
     "text": [
      "(172, 12)\n"
     ]
    },
    {
     "data": {
      "text/plain": [
       "Unnamed: 0                                    0  \n",
       "CCG_Poll_Map                                  0  \n",
       "Year                                          0  \n",
       "Carbon monoxide                               152\n",
       "Nitric Oxide                                  153\n",
       "Nitrogen dioxide                              1  \n",
       "Oxides of Nitrogen                            155\n",
       "Ozone                                         83 \n",
       "PM10 Particulate matter                       154\n",
       "PM10 particulate matter (Hourly measured)     22 \n",
       "PM2.5 particulate matter (Hourly measured)    97 \n",
       "Sulphur dioxide                               132\n",
       "dtype: int64"
      ]
     },
     "execution_count": 79,
     "metadata": {},
     "output_type": "execute_result"
    }
   ],
   "source": [
    "print(poll_updated.shape)\n",
    "poll_updated.isna().sum()"
   ]
  },
  {
   "cell_type": "markdown",
   "metadata": {},
   "source": [
    "Finally, rename the CCGs to match the health indicators"
   ]
  },
  {
   "cell_type": "code",
   "execution_count": 80,
   "metadata": {},
   "outputs": [],
   "source": [
    "# shorten pollution indicator names\n",
    "poll_updated.rename(columns= {\n",
    "    'PM10 particulate matter (Hourly measured)': 'PM10',\n",
    "    'PM2.5 particulate matter (Hourly measured)': 'PM2.5',\n",
    "}, inplace=True)\n"
   ]
  },
  {
   "cell_type": "code",
   "execution_count": 81,
   "metadata": {},
   "outputs": [
    {
     "data": {
      "text/html": [
       "<div>\n",
       "<style scoped>\n",
       "    .dataframe tbody tr th:only-of-type {\n",
       "        vertical-align: middle;\n",
       "    }\n",
       "\n",
       "    .dataframe tbody tr th {\n",
       "        vertical-align: top;\n",
       "    }\n",
       "\n",
       "    .dataframe thead th {\n",
       "        text-align: right;\n",
       "    }\n",
       "</style>\n",
       "<table border=\"1\" class=\"dataframe\">\n",
       "  <thead>\n",
       "    <tr style=\"text-align: right;\">\n",
       "      <th></th>\n",
       "      <th>Unnamed: 0</th>\n",
       "      <th>CCG_Poll_Map</th>\n",
       "      <th>Year</th>\n",
       "      <th>Carbon monoxide</th>\n",
       "      <th>Nitric Oxide</th>\n",
       "      <th>Nitrogen dioxide</th>\n",
       "      <th>Oxides of Nitrogen</th>\n",
       "      <th>Ozone</th>\n",
       "      <th>PM10 Particulate matter</th>\n",
       "      <th>PM10</th>\n",
       "      <th>PM2.5</th>\n",
       "      <th>Sulphur dioxide</th>\n",
       "    </tr>\n",
       "  </thead>\n",
       "  <tbody>\n",
       "    <tr>\n",
       "      <th>0</th>\n",
       "      <td>0</td>\n",
       "      <td>Buckinghamshire</td>\n",
       "      <td>2020</td>\n",
       "      <td>0.138750</td>\n",
       "      <td>33.781525</td>\n",
       "      <td>33.042030</td>\n",
       "      <td>NaN</td>\n",
       "      <td>49.984467</td>\n",
       "      <td>16.014508</td>\n",
       "      <td>NaN</td>\n",
       "      <td>NaN</td>\n",
       "      <td>NaN</td>\n",
       "    </tr>\n",
       "    <tr>\n",
       "      <th>1</th>\n",
       "      <td>1</td>\n",
       "      <td>Ealing</td>\n",
       "      <td>2004</td>\n",
       "      <td>0.770049</td>\n",
       "      <td>NaN</td>\n",
       "      <td>57.882938</td>\n",
       "      <td>NaN</td>\n",
       "      <td>33.992080</td>\n",
       "      <td>NaN</td>\n",
       "      <td>23.333576</td>\n",
       "      <td>15.391342</td>\n",
       "      <td>10.043232</td>\n",
       "    </tr>\n",
       "    <tr>\n",
       "      <th>2</th>\n",
       "      <td>2</td>\n",
       "      <td>Ealing</td>\n",
       "      <td>2005</td>\n",
       "      <td>0.762150</td>\n",
       "      <td>NaN</td>\n",
       "      <td>52.862974</td>\n",
       "      <td>NaN</td>\n",
       "      <td>28.594453</td>\n",
       "      <td>NaN</td>\n",
       "      <td>25.916647</td>\n",
       "      <td>21.009842</td>\n",
       "      <td>8.370425</td>\n",
       "    </tr>\n",
       "    <tr>\n",
       "      <th>3</th>\n",
       "      <td>3</td>\n",
       "      <td>Ealing</td>\n",
       "      <td>2006</td>\n",
       "      <td>0.730095</td>\n",
       "      <td>NaN</td>\n",
       "      <td>55.035635</td>\n",
       "      <td>NaN</td>\n",
       "      <td>32.527539</td>\n",
       "      <td>NaN</td>\n",
       "      <td>25.443425</td>\n",
       "      <td>18.450045</td>\n",
       "      <td>6.206311</td>\n",
       "    </tr>\n",
       "    <tr>\n",
       "      <th>4</th>\n",
       "      <td>4</td>\n",
       "      <td>Ealing</td>\n",
       "      <td>2007</td>\n",
       "      <td>0.651978</td>\n",
       "      <td>NaN</td>\n",
       "      <td>54.247691</td>\n",
       "      <td>NaN</td>\n",
       "      <td>28.473891</td>\n",
       "      <td>NaN</td>\n",
       "      <td>24.401769</td>\n",
       "      <td>NaN</td>\n",
       "      <td>6.530478</td>\n",
       "    </tr>\n",
       "  </tbody>\n",
       "</table>\n",
       "</div>"
      ],
      "text/plain": [
       "   Unnamed: 0     CCG_Poll_Map  Year  Carbon monoxide  Nitric Oxide  \\\n",
       "0  0           Buckinghamshire  2020  0.138750         33.781525      \n",
       "1  1           Ealing           2004  0.770049        NaN             \n",
       "2  2           Ealing           2005  0.762150        NaN             \n",
       "3  3           Ealing           2006  0.730095        NaN             \n",
       "4  4           Ealing           2007  0.651978        NaN             \n",
       "\n",
       "   Nitrogen dioxide  Oxides of Nitrogen      Ozone  PM10 Particulate matter  \\\n",
       "0  33.042030        NaN                  49.984467  16.014508                 \n",
       "1  57.882938        NaN                  33.992080 NaN                        \n",
       "2  52.862974        NaN                  28.594453 NaN                        \n",
       "3  55.035635        NaN                  32.527539 NaN                        \n",
       "4  54.247691        NaN                  28.473891 NaN                        \n",
       "\n",
       "        PM10      PM2.5  Sulphur dioxide  \n",
       "0 NaN        NaN        NaN               \n",
       "1  23.333576  15.391342  10.043232        \n",
       "2  25.916647  21.009842  8.370425         \n",
       "3  25.443425  18.450045  6.206311         \n",
       "4  24.401769 NaN         6.530478         "
      ]
     },
     "execution_count": 81,
     "metadata": {},
     "output_type": "execute_result"
    }
   ],
   "source": [
    "poll_updated.head()"
   ]
  },
  {
   "cell_type": "markdown",
   "metadata": {},
   "source": [
    "and merge pollution and health data\n"
   ]
  },
  {
   "cell_type": "code",
   "execution_count": 82,
   "metadata": {},
   "outputs": [],
   "source": [
    "health_poll_df = pd.merge(health_df_pivot, poll_updated, how='left', on=['Year','CCG_Poll_Map' ])"
   ]
  },
  {
   "cell_type": "code",
   "execution_count": 83,
   "metadata": {},
   "outputs": [
    {
     "data": {
      "text/html": [
       "<div>\n",
       "<style scoped>\n",
       "    .dataframe tbody tr th:only-of-type {\n",
       "        vertical-align: middle;\n",
       "    }\n",
       "\n",
       "    .dataframe tbody tr th {\n",
       "        vertical-align: top;\n",
       "    }\n",
       "\n",
       "    .dataframe thead th {\n",
       "        text-align: right;\n",
       "    }\n",
       "</style>\n",
       "<table border=\"1\" class=\"dataframe\">\n",
       "  <thead>\n",
       "    <tr style=\"text-align: right;\">\n",
       "      <th></th>\n",
       "      <th>Year</th>\n",
       "      <th>Area Name</th>\n",
       "      <th>Radius Location</th>\n",
       "      <th>heathrow_distance</th>\n",
       "      <th>CCG_Poll_Map</th>\n",
       "      <th>LAT</th>\n",
       "      <th>LONG</th>\n",
       "      <th>&lt;75 Coronary Heart Disease Mortality Rate</th>\n",
       "      <th>Asthma Admissions Over 19yr</th>\n",
       "      <th>Asthma Admissions Under 19yr</th>\n",
       "      <th>Asthma Mortality Rate</th>\n",
       "      <th>Asthma Prevalence</th>\n",
       "      <th>Atrial Fibrillation Prevalence</th>\n",
       "      <th>CHD Admissions</th>\n",
       "      <th>CHD Prevalence</th>\n",
       "      <th>CKD Prevalence</th>\n",
       "      <th>COPD (contributory cause) Mortality Rate</th>\n",
       "      <th>COPD Admissions</th>\n",
       "      <th>COPD Prevalence</th>\n",
       "      <th>Diabetes Prevalence</th>\n",
       "      <th>Heart Failure Admissions</th>\n",
       "      <th>Heart Failure Prevalence</th>\n",
       "      <th>Hypertension Prevalence</th>\n",
       "      <th>Pneumonia (all mentions) Mortality Rate</th>\n",
       "      <th>Pneumonia Admissions</th>\n",
       "      <th>Respiratory Admissions</th>\n",
       "      <th>Respiratory Tract Admissions 1yr</th>\n",
       "      <th>Respiratory Tract Admissions U1yr</th>\n",
       "      <th>Stroke Admissions</th>\n",
       "      <th>Stroke Atrial Fib Admissions</th>\n",
       "      <th>Stroke: Prevalence</th>\n",
       "      <th>Under 75 Resp Disease Mortality Rate</th>\n",
       "      <th>Unnamed: 0</th>\n",
       "      <th>Carbon monoxide</th>\n",
       "      <th>Nitric Oxide</th>\n",
       "      <th>Nitrogen dioxide</th>\n",
       "      <th>Oxides of Nitrogen</th>\n",
       "      <th>Ozone</th>\n",
       "      <th>PM10 Particulate matter</th>\n",
       "      <th>PM10</th>\n",
       "      <th>PM2.5</th>\n",
       "      <th>Sulphur dioxide</th>\n",
       "    </tr>\n",
       "  </thead>\n",
       "  <tbody>\n",
       "    <tr>\n",
       "      <th>0</th>\n",
       "      <td>2003</td>\n",
       "      <td>NHS Berkshire West CCG</td>\n",
       "      <td>Outer</td>\n",
       "      <td>49791.74229</td>\n",
       "      <td>Reading</td>\n",
       "      <td>51.4458</td>\n",
       "      <td>-1.16963</td>\n",
       "      <td>57.82</td>\n",
       "      <td>NaN</td>\n",
       "      <td>NaN</td>\n",
       "      <td>NaN</td>\n",
       "      <td>NaN</td>\n",
       "      <td>NaN</td>\n",
       "      <td>639.353</td>\n",
       "      <td>NaN</td>\n",
       "      <td>NaN</td>\n",
       "      <td>NaN</td>\n",
       "      <td>NaN</td>\n",
       "      <td>NaN</td>\n",
       "      <td>NaN</td>\n",
       "      <td>118.793</td>\n",
       "      <td>NaN</td>\n",
       "      <td>NaN</td>\n",
       "      <td>NaN</td>\n",
       "      <td>NaN</td>\n",
       "      <td>NaN</td>\n",
       "      <td>NaN</td>\n",
       "      <td>NaN</td>\n",
       "      <td>NaN</td>\n",
       "      <td>NaN</td>\n",
       "      <td>NaN</td>\n",
       "      <td>NaN</td>\n",
       "      <td>NaN</td>\n",
       "      <td>NaN</td>\n",
       "      <td>NaN</td>\n",
       "      <td>NaN</td>\n",
       "      <td>NaN</td>\n",
       "      <td>NaN</td>\n",
       "      <td>NaN</td>\n",
       "      <td>NaN</td>\n",
       "      <td>NaN</td>\n",
       "      <td>NaN</td>\n",
       "    </tr>\n",
       "    <tr>\n",
       "      <th>1</th>\n",
       "      <td>2003</td>\n",
       "      <td>NHS Brent CCG</td>\n",
       "      <td>Outer</td>\n",
       "      <td>16247.54245</td>\n",
       "      <td>No Pollution Readings</td>\n",
       "      <td>51.5644</td>\n",
       "      <td>-0.27568</td>\n",
       "      <td>76.04</td>\n",
       "      <td>NaN</td>\n",
       "      <td>NaN</td>\n",
       "      <td>NaN</td>\n",
       "      <td>NaN</td>\n",
       "      <td>NaN</td>\n",
       "      <td>NaN</td>\n",
       "      <td>NaN</td>\n",
       "      <td>NaN</td>\n",
       "      <td>NaN</td>\n",
       "      <td>NaN</td>\n",
       "      <td>NaN</td>\n",
       "      <td>NaN</td>\n",
       "      <td>NaN</td>\n",
       "      <td>NaN</td>\n",
       "      <td>NaN</td>\n",
       "      <td>NaN</td>\n",
       "      <td>NaN</td>\n",
       "      <td>NaN</td>\n",
       "      <td>NaN</td>\n",
       "      <td>NaN</td>\n",
       "      <td>NaN</td>\n",
       "      <td>NaN</td>\n",
       "      <td>NaN</td>\n",
       "      <td>NaN</td>\n",
       "      <td>NaN</td>\n",
       "      <td>NaN</td>\n",
       "      <td>NaN</td>\n",
       "      <td>NaN</td>\n",
       "      <td>NaN</td>\n",
       "      <td>NaN</td>\n",
       "      <td>NaN</td>\n",
       "      <td>NaN</td>\n",
       "      <td>NaN</td>\n",
       "      <td>NaN</td>\n",
       "    </tr>\n",
       "    <tr>\n",
       "      <th>2</th>\n",
       "      <td>2003</td>\n",
       "      <td>NHS Buckinghamshire CCG</td>\n",
       "      <td>Outer</td>\n",
       "      <td>38818.06153</td>\n",
       "      <td>No Pollution Readings</td>\n",
       "      <td>51.7414</td>\n",
       "      <td>-0.80644</td>\n",
       "      <td>51.21</td>\n",
       "      <td>NaN</td>\n",
       "      <td>NaN</td>\n",
       "      <td>NaN</td>\n",
       "      <td>NaN</td>\n",
       "      <td>NaN</td>\n",
       "      <td>730.138</td>\n",
       "      <td>NaN</td>\n",
       "      <td>NaN</td>\n",
       "      <td>NaN</td>\n",
       "      <td>NaN</td>\n",
       "      <td>NaN</td>\n",
       "      <td>NaN</td>\n",
       "      <td>107.011</td>\n",
       "      <td>NaN</td>\n",
       "      <td>NaN</td>\n",
       "      <td>NaN</td>\n",
       "      <td>NaN</td>\n",
       "      <td>NaN</td>\n",
       "      <td>NaN</td>\n",
       "      <td>NaN</td>\n",
       "      <td>NaN</td>\n",
       "      <td>NaN</td>\n",
       "      <td>NaN</td>\n",
       "      <td>NaN</td>\n",
       "      <td>NaN</td>\n",
       "      <td>NaN</td>\n",
       "      <td>NaN</td>\n",
       "      <td>NaN</td>\n",
       "      <td>NaN</td>\n",
       "      <td>NaN</td>\n",
       "      <td>NaN</td>\n",
       "      <td>NaN</td>\n",
       "      <td>NaN</td>\n",
       "      <td>NaN</td>\n",
       "    </tr>\n",
       "    <tr>\n",
       "      <th>3</th>\n",
       "      <td>2003</td>\n",
       "      <td>NHS Croydon CCG</td>\n",
       "      <td>Outer</td>\n",
       "      <td>28645.84070</td>\n",
       "      <td>No Pollution Readings</td>\n",
       "      <td>51.3660</td>\n",
       "      <td>-0.07761</td>\n",
       "      <td>65.63</td>\n",
       "      <td>NaN</td>\n",
       "      <td>NaN</td>\n",
       "      <td>NaN</td>\n",
       "      <td>NaN</td>\n",
       "      <td>NaN</td>\n",
       "      <td>NaN</td>\n",
       "      <td>NaN</td>\n",
       "      <td>NaN</td>\n",
       "      <td>NaN</td>\n",
       "      <td>NaN</td>\n",
       "      <td>NaN</td>\n",
       "      <td>NaN</td>\n",
       "      <td>NaN</td>\n",
       "      <td>NaN</td>\n",
       "      <td>NaN</td>\n",
       "      <td>NaN</td>\n",
       "      <td>NaN</td>\n",
       "      <td>NaN</td>\n",
       "      <td>NaN</td>\n",
       "      <td>NaN</td>\n",
       "      <td>NaN</td>\n",
       "      <td>NaN</td>\n",
       "      <td>NaN</td>\n",
       "      <td>NaN</td>\n",
       "      <td>NaN</td>\n",
       "      <td>NaN</td>\n",
       "      <td>NaN</td>\n",
       "      <td>NaN</td>\n",
       "      <td>NaN</td>\n",
       "      <td>NaN</td>\n",
       "      <td>NaN</td>\n",
       "      <td>NaN</td>\n",
       "      <td>NaN</td>\n",
       "      <td>NaN</td>\n",
       "    </tr>\n",
       "    <tr>\n",
       "      <th>4</th>\n",
       "      <td>2003</td>\n",
       "      <td>NHS Ealing CCG</td>\n",
       "      <td>Inner</td>\n",
       "      <td>11465.53093</td>\n",
       "      <td>Ealing</td>\n",
       "      <td>51.5244</td>\n",
       "      <td>-0.31405</td>\n",
       "      <td>82.91</td>\n",
       "      <td>NaN</td>\n",
       "      <td>NaN</td>\n",
       "      <td>NaN</td>\n",
       "      <td>NaN</td>\n",
       "      <td>NaN</td>\n",
       "      <td>954.994</td>\n",
       "      <td>NaN</td>\n",
       "      <td>NaN</td>\n",
       "      <td>NaN</td>\n",
       "      <td>NaN</td>\n",
       "      <td>NaN</td>\n",
       "      <td>NaN</td>\n",
       "      <td>193.386</td>\n",
       "      <td>NaN</td>\n",
       "      <td>NaN</td>\n",
       "      <td>NaN</td>\n",
       "      <td>NaN</td>\n",
       "      <td>NaN</td>\n",
       "      <td>NaN</td>\n",
       "      <td>NaN</td>\n",
       "      <td>NaN</td>\n",
       "      <td>NaN</td>\n",
       "      <td>NaN</td>\n",
       "      <td>NaN</td>\n",
       "      <td>NaN</td>\n",
       "      <td>NaN</td>\n",
       "      <td>NaN</td>\n",
       "      <td>NaN</td>\n",
       "      <td>NaN</td>\n",
       "      <td>NaN</td>\n",
       "      <td>NaN</td>\n",
       "      <td>NaN</td>\n",
       "      <td>NaN</td>\n",
       "      <td>NaN</td>\n",
       "    </tr>\n",
       "  </tbody>\n",
       "</table>\n",
       "</div>"
      ],
      "text/plain": [
       "   Year                Area Name Radius Location  heathrow_distance  \\\n",
       "0  2003  NHS Berkshire West CCG   Outer           49791.74229         \n",
       "1  2003  NHS Brent CCG            Outer           16247.54245         \n",
       "2  2003  NHS Buckinghamshire CCG  Outer           38818.06153         \n",
       "3  2003  NHS Croydon CCG          Outer           28645.84070         \n",
       "4  2003  NHS Ealing CCG           Inner           11465.53093         \n",
       "\n",
       "            CCG_Poll_Map      LAT     LONG  \\\n",
       "0  Reading                51.4458 -1.16963   \n",
       "1  No Pollution Readings  51.5644 -0.27568   \n",
       "2  No Pollution Readings  51.7414 -0.80644   \n",
       "3  No Pollution Readings  51.3660 -0.07761   \n",
       "4  Ealing                 51.5244 -0.31405   \n",
       "\n",
       "   <75 Coronary Heart Disease Mortality Rate  Asthma Admissions Over 19yr  \\\n",
       "0  57.82                                     NaN                            \n",
       "1  76.04                                     NaN                            \n",
       "2  51.21                                     NaN                            \n",
       "3  65.63                                     NaN                            \n",
       "4  82.91                                     NaN                            \n",
       "\n",
       "   Asthma Admissions Under 19yr  Asthma Mortality Rate  Asthma Prevalence  \\\n",
       "0 NaN                           NaN                    NaN                  \n",
       "1 NaN                           NaN                    NaN                  \n",
       "2 NaN                           NaN                    NaN                  \n",
       "3 NaN                           NaN                    NaN                  \n",
       "4 NaN                           NaN                    NaN                  \n",
       "\n",
       "   Atrial Fibrillation Prevalence  CHD Admissions  CHD Prevalence  \\\n",
       "0 NaN                              639.353        NaN               \n",
       "1 NaN                             NaN             NaN               \n",
       "2 NaN                              730.138        NaN               \n",
       "3 NaN                             NaN             NaN               \n",
       "4 NaN                              954.994        NaN               \n",
       "\n",
       "   CKD Prevalence  COPD (contributory cause) Mortality Rate  COPD Admissions  \\\n",
       "0 NaN             NaN                                       NaN                \n",
       "1 NaN             NaN                                       NaN                \n",
       "2 NaN             NaN                                       NaN                \n",
       "3 NaN             NaN                                       NaN                \n",
       "4 NaN             NaN                                       NaN                \n",
       "\n",
       "   COPD Prevalence  Diabetes Prevalence  Heart Failure Admissions  \\\n",
       "0 NaN              NaN                   118.793                    \n",
       "1 NaN              NaN                  NaN                         \n",
       "2 NaN              NaN                   107.011                    \n",
       "3 NaN              NaN                  NaN                         \n",
       "4 NaN              NaN                   193.386                    \n",
       "\n",
       "   Heart Failure Prevalence  Hypertension Prevalence  \\\n",
       "0 NaN                       NaN                        \n",
       "1 NaN                       NaN                        \n",
       "2 NaN                       NaN                        \n",
       "3 NaN                       NaN                        \n",
       "4 NaN                       NaN                        \n",
       "\n",
       "   Pneumonia (all mentions) Mortality Rate  Pneumonia Admissions  \\\n",
       "0 NaN                                      NaN                     \n",
       "1 NaN                                      NaN                     \n",
       "2 NaN                                      NaN                     \n",
       "3 NaN                                      NaN                     \n",
       "4 NaN                                      NaN                     \n",
       "\n",
       "   Respiratory Admissions  Respiratory Tract Admissions 1yr  \\\n",
       "0 NaN                     NaN                                 \n",
       "1 NaN                     NaN                                 \n",
       "2 NaN                     NaN                                 \n",
       "3 NaN                     NaN                                 \n",
       "4 NaN                     NaN                                 \n",
       "\n",
       "   Respiratory Tract Admissions U1yr  Stroke Admissions  \\\n",
       "0 NaN                                NaN                  \n",
       "1 NaN                                NaN                  \n",
       "2 NaN                                NaN                  \n",
       "3 NaN                                NaN                  \n",
       "4 NaN                                NaN                  \n",
       "\n",
       "   Stroke Atrial Fib Admissions  Stroke: Prevalence  \\\n",
       "0 NaN                           NaN                   \n",
       "1 NaN                           NaN                   \n",
       "2 NaN                           NaN                   \n",
       "3 NaN                           NaN                   \n",
       "4 NaN                           NaN                   \n",
       "\n",
       "   Under 75 Resp Disease Mortality Rate  Unnamed: 0  Carbon monoxide  \\\n",
       "0 NaN                                   NaN         NaN                \n",
       "1 NaN                                   NaN         NaN                \n",
       "2 NaN                                   NaN         NaN                \n",
       "3 NaN                                   NaN         NaN                \n",
       "4 NaN                                   NaN         NaN                \n",
       "\n",
       "   Nitric Oxide  Nitrogen dioxide  Oxides of Nitrogen  Ozone  \\\n",
       "0 NaN           NaN               NaN                 NaN      \n",
       "1 NaN           NaN               NaN                 NaN      \n",
       "2 NaN           NaN               NaN                 NaN      \n",
       "3 NaN           NaN               NaN                 NaN      \n",
       "4 NaN           NaN               NaN                 NaN      \n",
       "\n",
       "   PM10 Particulate matter  PM10  PM2.5  Sulphur dioxide  \n",
       "0 NaN                      NaN   NaN    NaN               \n",
       "1 NaN                      NaN   NaN    NaN               \n",
       "2 NaN                      NaN   NaN    NaN               \n",
       "3 NaN                      NaN   NaN    NaN               \n",
       "4 NaN                      NaN   NaN    NaN               "
      ]
     },
     "execution_count": 83,
     "metadata": {},
     "output_type": "execute_result"
    }
   ],
   "source": [
    "health_poll_df.head(5)"
   ]
  },
  {
   "cell_type": "code",
   "execution_count": 84,
   "metadata": {},
   "outputs": [],
   "source": [
    "# output datasets to CSV in WIDE and long format.\n",
    "# (also remember to include the INdicator TYPE (get manually from the column names))\n",
    "health_poll_df_long = health_poll_df.melt(\n",
    "    id_vars = ['Year', 'Area Name', 'heathrow_distance', 'CCG_Poll_Map', 'Radius Location', 'LAT', 'LONG'],\n",
    "    var_name = 'Indicator Name',\n",
    "    value_name = 'Value',\n",
    ")"
   ]
  },
  {
   "cell_type": "code",
   "execution_count": 85,
   "metadata": {},
   "outputs": [
    {
     "data": {
      "text/plain": [
       "array(['<75 Coronary Heart Disease Mortality Rate',\n",
       "       'Asthma Admissions Over 19yr', 'Asthma Admissions Under 19yr',\n",
       "       'Asthma Mortality Rate', 'Asthma Prevalence',\n",
       "       'Atrial Fibrillation Prevalence', 'CHD Admissions',\n",
       "       'CHD Prevalence', 'CKD Prevalence',\n",
       "       'COPD (contributory cause) Mortality Rate', 'COPD Admissions',\n",
       "       'COPD Prevalence', 'Diabetes Prevalence',\n",
       "       'Heart Failure Admissions', 'Heart Failure Prevalence',\n",
       "       'Hypertension Prevalence',\n",
       "       'Pneumonia (all mentions) Mortality Rate', 'Pneumonia Admissions',\n",
       "       'Respiratory Admissions', 'Respiratory Tract Admissions 1yr',\n",
       "       'Respiratory Tract Admissions U1yr', 'Stroke Admissions',\n",
       "       'Stroke Atrial Fib Admissions', 'Stroke: Prevalence',\n",
       "       'Under 75 Resp Disease Mortality Rate', 'Unnamed: 0',\n",
       "       'Carbon monoxide', 'Nitric Oxide', 'Nitrogen dioxide',\n",
       "       'Oxides of Nitrogen', 'Ozone', 'PM10 Particulate matter', 'PM10',\n",
       "       'PM2.5', 'Sulphur dioxide'], dtype=object)"
      ]
     },
     "execution_count": 85,
     "metadata": {},
     "output_type": "execute_result"
    }
   ],
   "source": [
    "health_poll_df_long['Indicator Name'].unique()"
   ]
  },
  {
   "cell_type": "code",
   "execution_count": 86,
   "metadata": {},
   "outputs": [
    {
     "name": "stdout",
     "output_type": "stream",
     "text": [
      "['Asthma Admissions Over 19yr', 'Asthma Admissions Under 19yr', 'CHD Admissions', 'COPD Admissions', 'Heart Failure Admissions', 'Pneumonia Admissions', 'Respiratory Admissions', 'Respiratory Tract Admissions 1yr', 'Respiratory Tract Admissions U1yr', 'Stroke Admissions', 'Stroke Atrial Fib Admissions']\n",
      "\n",
      "\n",
      "['Asthma Prevalence', 'Atrial Fibrillation Prevalence', 'CHD Prevalence', 'CKD Prevalence', 'COPD Prevalence', 'Diabetes Prevalence', 'Heart Failure Prevalence', 'Hypertension Prevalence', 'Stroke: Prevalence']\n"
     ]
    }
   ],
   "source": [
    "print([x for x in health_poll_df_long['Indicator Name'].unique() if 'admission' in x.lower()])\n",
    "print('\\n')\n",
    "print([x for x in health_poll_df_long['Indicator Name'].unique() if 'prevalence' in x.lower()])\n",
    "\n",
    "\n",
    "admissions = ['Asthma Admissions Over 19yr', 'Asthma Admissions Under 19yr', 'CHD Admissions', 'COPD Admissions', 'Heart Failure Admissions', 'Pneumonia Admissions', 'Respiratory Admissions', 'Respiratory Tract Admissions 1yr', 'Respiratory Tract Admissions U1yr', 'Stroke Admissions', 'Stroke Atrial Fib Admissions']\n",
    "prev = ['Asthma Prevalence', 'Atrial Fibrillation Prevalence', 'CHD Prevalence', 'CKD Prevalence', 'COPD Prevalence', 'Diabetes Prevalence', 'Heart Failure Prevalence', 'Hypertension Prevalence', 'Stroke: Prevalence']\n",
    "pollution = ['Nitrogen dioxide', 'Ozone', 'PM10', 'PM2.5', 'Sulphur dioxide']\n",
    "\n",
    "\n",
    "health_poll_df_long['Indicator Type'] = np.where(\n",
    "health_poll_df_long['Indicator Name'].isin(admissions), 'Health - Admissions',\n",
    "    np.where(health_poll_df_long['Indicator Name'].isin(prev), 'Health - Prevalence',    \n",
    "             (np.where(health_poll_df_long['Indicator Name'].isin(pollution), 'Air Pollutant', 'Health - Mortality'))))\n",
    "\n"
   ]
  },
  {
   "cell_type": "code",
   "execution_count": 87,
   "metadata": {},
   "outputs": [
    {
     "data": {
      "text/html": [
       "<div>\n",
       "<style scoped>\n",
       "    .dataframe tbody tr th:only-of-type {\n",
       "        vertical-align: middle;\n",
       "    }\n",
       "\n",
       "    .dataframe tbody tr th {\n",
       "        vertical-align: top;\n",
       "    }\n",
       "\n",
       "    .dataframe thead th {\n",
       "        text-align: right;\n",
       "    }\n",
       "</style>\n",
       "<table border=\"1\" class=\"dataframe\">\n",
       "  <thead>\n",
       "    <tr style=\"text-align: right;\">\n",
       "      <th></th>\n",
       "      <th>Year</th>\n",
       "      <th>Area Name</th>\n",
       "      <th>heathrow_distance</th>\n",
       "      <th>CCG_Poll_Map</th>\n",
       "      <th>Radius Location</th>\n",
       "      <th>LAT</th>\n",
       "      <th>LONG</th>\n",
       "      <th>Indicator Name</th>\n",
       "      <th>Value</th>\n",
       "      <th>Indicator Type</th>\n",
       "    </tr>\n",
       "  </thead>\n",
       "  <tbody>\n",
       "    <tr>\n",
       "      <th>0</th>\n",
       "      <td>2003</td>\n",
       "      <td>NHS Berkshire West CCG</td>\n",
       "      <td>49791.74229</td>\n",
       "      <td>Reading</td>\n",
       "      <td>Outer</td>\n",
       "      <td>51.4458</td>\n",
       "      <td>-1.16963</td>\n",
       "      <td>&lt;75 Coronary Heart Disease Mortality Rate</td>\n",
       "      <td>57.82</td>\n",
       "      <td>Health - Mortality</td>\n",
       "    </tr>\n",
       "    <tr>\n",
       "      <th>1</th>\n",
       "      <td>2003</td>\n",
       "      <td>NHS Brent CCG</td>\n",
       "      <td>16247.54245</td>\n",
       "      <td>No Pollution Readings</td>\n",
       "      <td>Outer</td>\n",
       "      <td>51.5644</td>\n",
       "      <td>-0.27568</td>\n",
       "      <td>&lt;75 Coronary Heart Disease Mortality Rate</td>\n",
       "      <td>76.04</td>\n",
       "      <td>Health - Mortality</td>\n",
       "    </tr>\n",
       "    <tr>\n",
       "      <th>2</th>\n",
       "      <td>2003</td>\n",
       "      <td>NHS Buckinghamshire CCG</td>\n",
       "      <td>38818.06153</td>\n",
       "      <td>No Pollution Readings</td>\n",
       "      <td>Outer</td>\n",
       "      <td>51.7414</td>\n",
       "      <td>-0.80644</td>\n",
       "      <td>&lt;75 Coronary Heart Disease Mortality Rate</td>\n",
       "      <td>51.21</td>\n",
       "      <td>Health - Mortality</td>\n",
       "    </tr>\n",
       "    <tr>\n",
       "      <th>3</th>\n",
       "      <td>2003</td>\n",
       "      <td>NHS Croydon CCG</td>\n",
       "      <td>28645.84070</td>\n",
       "      <td>No Pollution Readings</td>\n",
       "      <td>Outer</td>\n",
       "      <td>51.3660</td>\n",
       "      <td>-0.07761</td>\n",
       "      <td>&lt;75 Coronary Heart Disease Mortality Rate</td>\n",
       "      <td>65.63</td>\n",
       "      <td>Health - Mortality</td>\n",
       "    </tr>\n",
       "    <tr>\n",
       "      <th>4</th>\n",
       "      <td>2003</td>\n",
       "      <td>NHS Ealing CCG</td>\n",
       "      <td>11465.53093</td>\n",
       "      <td>Ealing</td>\n",
       "      <td>Inner</td>\n",
       "      <td>51.5244</td>\n",
       "      <td>-0.31405</td>\n",
       "      <td>&lt;75 Coronary Heart Disease Mortality Rate</td>\n",
       "      <td>82.91</td>\n",
       "      <td>Health - Mortality</td>\n",
       "    </tr>\n",
       "  </tbody>\n",
       "</table>\n",
       "</div>"
      ],
      "text/plain": [
       "   Year                Area Name  heathrow_distance           CCG_Poll_Map  \\\n",
       "0  2003  NHS Berkshire West CCG   49791.74229        Reading                 \n",
       "1  2003  NHS Brent CCG            16247.54245        No Pollution Readings   \n",
       "2  2003  NHS Buckinghamshire CCG  38818.06153        No Pollution Readings   \n",
       "3  2003  NHS Croydon CCG          28645.84070        No Pollution Readings   \n",
       "4  2003  NHS Ealing CCG           11465.53093        Ealing                  \n",
       "\n",
       "  Radius Location      LAT     LONG  \\\n",
       "0  Outer           51.4458 -1.16963   \n",
       "1  Outer           51.5644 -0.27568   \n",
       "2  Outer           51.7414 -0.80644   \n",
       "3  Outer           51.3660 -0.07761   \n",
       "4  Inner           51.5244 -0.31405   \n",
       "\n",
       "                              Indicator Name  Value      Indicator Type  \n",
       "0  <75 Coronary Heart Disease Mortality Rate  57.82  Health - Mortality  \n",
       "1  <75 Coronary Heart Disease Mortality Rate  76.04  Health - Mortality  \n",
       "2  <75 Coronary Heart Disease Mortality Rate  51.21  Health - Mortality  \n",
       "3  <75 Coronary Heart Disease Mortality Rate  65.63  Health - Mortality  \n",
       "4  <75 Coronary Heart Disease Mortality Rate  82.91  Health - Mortality  "
      ]
     },
     "execution_count": 87,
     "metadata": {},
     "output_type": "execute_result"
    }
   ],
   "source": [
    "health_poll_df_long.head(5)"
   ]
  },
  {
   "cell_type": "code",
   "execution_count": 88,
   "metadata": {},
   "outputs": [
    {
     "name": "stdout",
     "output_type": "stream",
     "text": [
      "set()\n"
     ]
    }
   ],
   "source": [
    "#check that all indicators have been classified\n",
    "mo = health_poll_df_long[health_poll_df_long['Indicator Type'] == 'Health - Mortality']['Indicator Name'].unique()\n",
    "pv = health_poll_df_long[health_poll_df_long['Indicator Type'] == 'Health - Prevalence']['Indicator Name'].unique()\n",
    "ad = health_poll_df_long[health_poll_df_long['Indicator Type'] == 'Health - Admissions']['Indicator Name'].unique()\n",
    "po = health_poll_df_long[health_poll_df_long['Indicator Type'] == 'Air Pollutant']['Indicator Name'].unique()\n",
    "\n",
    "# empty set means well done\n",
    "print(set(list(health_poll_df_long['Indicator Name'])) - set(list(mo) + list(pv) + list(ad) + list(po)))"
   ]
  },
  {
   "cell_type": "markdown",
   "metadata": {},
   "source": [
    "drop duplicates for the long format data (need to review why duplicates are created, but for now, first will be retained, which is great, because we need one row per year) "
   ]
  },
  {
   "cell_type": "code",
   "execution_count": 89,
   "metadata": {},
   "outputs": [
    {
     "data": {
      "text/html": [
       "<div>\n",
       "<style scoped>\n",
       "    .dataframe tbody tr th:only-of-type {\n",
       "        vertical-align: middle;\n",
       "    }\n",
       "\n",
       "    .dataframe tbody tr th {\n",
       "        vertical-align: top;\n",
       "    }\n",
       "\n",
       "    .dataframe thead th {\n",
       "        text-align: right;\n",
       "    }\n",
       "</style>\n",
       "<table border=\"1\" class=\"dataframe\">\n",
       "  <thead>\n",
       "    <tr style=\"text-align: right;\">\n",
       "      <th></th>\n",
       "      <th>Year</th>\n",
       "      <th>Area Name</th>\n",
       "      <th>heathrow_distance</th>\n",
       "      <th>CCG_Poll_Map</th>\n",
       "      <th>Radius Location</th>\n",
       "      <th>LAT</th>\n",
       "      <th>LONG</th>\n",
       "      <th>Indicator Name</th>\n",
       "      <th>Value</th>\n",
       "      <th>Indicator Type</th>\n",
       "    </tr>\n",
       "  </thead>\n",
       "  <tbody>\n",
       "  </tbody>\n",
       "</table>\n",
       "</div>"
      ],
      "text/plain": [
       "Empty DataFrame\n",
       "Columns: [Year, Area Name, heathrow_distance, CCG_Poll_Map, Radius Location, LAT, LONG, Indicator Name, Value, Indicator Type]\n",
       "Index: []"
      ]
     },
     "execution_count": 89,
     "metadata": {},
     "output_type": "execute_result"
    }
   ],
   "source": [
    "health_poll_df_long = health_poll_df_long.drop_duplicates()\n",
    "health_poll_df_long[health_poll_df_long.duplicated()].head(10)"
   ]
  },
  {
   "cell_type": "code",
   "execution_count": 90,
   "metadata": {},
   "outputs": [],
   "source": [
    "# output datasets to CSV in WIDE and long format.\n",
    "# (also remember to include the INdicator TYPE (get manually from the column names))\n",
    "health_poll_df.to_csv('health_pollution_final_wide.csv', encoding='utf-8')\n",
    "health_poll_df_long.to_csv('health_pollution_final.csv', encoding='utf-8')\n",
    "\n"
   ]
  },
  {
   "cell_type": "markdown",
   "metadata": {},
   "source": [
    "### 6. Run Multivariate EDA analysis "
   ]
  },
  {
   "cell_type": "code",
   "execution_count": 169,
   "metadata": {
    "scrolled": false
   },
   "outputs": [],
   "source": [
    "# # lets make a correlation heatmap matrix!\n",
    "# sns.set(rc={'figure.figsize':(12,9)})\n",
    "\n",
    "# # https://seaborn.pydata.org/generated/seaborn.diverging_palette.html\n",
    "# cmap= sns.diverging_palette(240, 10, as_cmap=True)\n",
    "\n",
    "# admission_corr = health_poll_df_long.corr()\n",
    "# sns.heatmap(admission_corr, cmap=cmap)\n",
    "\n",
    "# plt.title('Correlation Heatmap of Hospital Admissions and Air Pollution Indicators \\n on Selected Areas Around Heathrow Airport')\n",
    "# # plt.show()"
   ]
  },
  {
   "cell_type": "markdown",
   "metadata": {},
   "source": [
    "Observations of interest:\n",
    "\n",
    "* Various hospital admissions are negatively correlated with heathrow distance, supporting our theory that residents living closer to heathrow experience more health ailments\n",
    "* Observed pollutants appear to be (weakly) positively correlated with distance, further investigation will be required\n",
    "* Nitrogen Dioxide is positively correlated with 6 hospital admissions\n",
    "* PM10 particulate matter is positively correlated with with 4 hospital admissions"
   ]
  },
  {
   "cell_type": "code",
   "execution_count": 170,
   "metadata": {},
   "outputs": [],
   "source": [
    "# # lets make a correlation heatmap matrix!\n",
    "# sns.set(rc={'figure.figsize':(12,9)})\n",
    "\n",
    "# # https://seaborn.pydata.org/generated/seaborn.diverging_palette.html\n",
    "# # cmap = sns.diverging_palette(220, 20, as_cmap=True)\n",
    "# cmap= sns.diverging_palette(240, 10, as_cmap=True)\n",
    "\n",
    "# prev_corr = prevalence_df_poll.corr()\n",
    "# sns.heatmap(prev_corr, cmap=cmap)\n",
    "\n",
    "# plt.title('Correlation Heatmap of Disease Prevalence and Air Pollution Indicators \\n on Selected Areas Around Heathrow Airport')\n",
    "# plt.show()"
   ]
  },
  {
   "cell_type": "markdown",
   "metadata": {},
   "source": [
    "Observations of interest:\n",
    "* Distance from the airport is positively corrleated with most disease prevalence indicators), which contradicts our theory that that residents living closer to heathrow experience more health ailments we would have expected the opposite\n",
    "* PM10 particulate matter is positively correlated with Asthma, Hypertension \n",
    "* Ozone is positively correlated with COPD prevalence (Further investigation required)\n",
    "    "
   ]
  },
  {
   "cell_type": "markdown",
   "metadata": {},
   "source": [
    "We will use pair plots to give an alternative visualisation"
   ]
  },
  {
   "cell_type": "code",
   "execution_count": 171,
   "metadata": {},
   "outputs": [],
   "source": [
    "# g = sns.pairplot(\n",
    "#     data=prevalence_df_poll,\n",
    "#     x_vars=['Year', 'heathrow_distance','Nitrogen dioxide', 'Ozone', 'PM10', 'PM2.5', 'Sulphur dioxide'],\n",
    "#     y_vars=['Year','heathrow_distance', 'Asthma Prevalence', 'Atrial Fibrillation Prevalence', 'CHD Prevalence', 'CKD Prevalence', 'COPD Prevalence', 'Diabetes Prevalence', 'Heart Failure Prevalence', 'Hypertension Prevalence', 'Stroke: Prevalence',]\n",
    "# )\n",
    "\n",
    "# g.fig.suptitle(\"Multivariate Correlation Plots for London Disease Prevalence and Air Pollution (2009-2019)\", y=1.02, size=16) # y= some height>1\n",
    "\n",
    "# plt.show()"
   ]
  },
  {
   "cell_type": "code",
   "execution_count": 172,
   "metadata": {
    "scrolled": false
   },
   "outputs": [],
   "source": [
    "# sns.pairplot(\n",
    "#     data=admission_df_poll,\n",
    "#     x_vars=['Year', 'heathrow_distance','Nitrogen dioxide', 'Ozone', 'PM10', 'PM2.5', 'Sulphur dioxide'],\n",
    "#     y_vars=['Year','heathrow_distance', 'Asthma Admissions Over 19yr', 'Asthma Admissions Under 19yr', 'CHD Admissions', 'COPD Admissions', 'Heart Failure Admissions', 'Pneumonia Admissions', 'Respiratory Admissions', 'Respiratory Tract Admissions 1yr', 'Respiratory Tract Admissions U1yr', 'Stroke Admissions', 'Stroke Atrial Fib Admissions',],\n",
    "#     height=3, \n",
    "# #     aspect=0.8\n",
    "# )\n",
    "    \n",
    "    \n",
    "# g.fig.suptitle(\"Multivariate Correlation Plots for London Hospital Admissions and Air Pollution (2009-2019/2013-2018)\", y=1.02, size=16) # y= some height>1\n",
    "# plt.tight_layout()\n",
    "# plt.show()"
   ]
  },
  {
   "cell_type": "markdown",
   "metadata": {},
   "source": [
    "### Export file (Used for Front End and Model)"
   ]
  },
  {
   "cell_type": "code",
   "execution_count": 173,
   "metadata": {},
   "outputs": [],
   "source": [
    "# geog.head()"
   ]
  },
  {
   "cell_type": "code",
   "execution_count": 174,
   "metadata": {},
   "outputs": [],
   "source": [
    "# # get lat long (for front end design)\n",
    "# admission_df_poll_latlong = pd.merge(admission_df_poll.copy(), geog_ccg[['Area Name', 'LAT', 'LONG']], how='inner', on='Area Name') \n",
    "# prevalence_df_poll_latlong = pd.merge(prevalence_df_poll.copy(), geog_ccg[['Area Name', 'LAT', 'LONG']], how='inner', on='Area Name')\n",
    "\n",
    "\n",
    "# # output the data files - to be cleaned up this week... \n",
    "# admission_df_poll_latlong.to_csv('../data_output/joined_health_pollution/admission_pollution.csv', encoding='utf-8')\n",
    "# prevalence_df_poll_latlong.to_csv('../data_output/joined_health_pollution/prevalence_pollution.csv', encoding='utf-8')\n",
    "\n",
    "# print(admission_df_poll_latlong.shape)\n",
    "# print(prevalence_df_poll_latlong.shape)"
   ]
  },
  {
   "cell_type": "markdown",
   "metadata": {},
   "source": [
    "Output melted DF files to CSV (preferred format for front end)"
   ]
  },
  {
   "cell_type": "code",
   "execution_count": 175,
   "metadata": {},
   "outputs": [],
   "source": [
    "# admission_df_poll.head()\n",
    "\n",
    "# pd.melt(admission_df_poll_latlong, id_vars=['Year', 'Area Name', 'CCG Location', 'CCG_Poll_Map', 'LAT', 'LONG'],\n",
    "#         var_name='Indicator Name', value_name='Value').to_csv('../data_output/joined_health_pollution/admission_pollution_melt.csv')\n",
    "\n",
    "\n",
    "# pd.melt(prevalence_df_poll_latlong, id_vars=['Year', 'Area Name', 'CCG Location', 'CCG_Poll_Map', 'LAT', 'LONG'],\n",
    "#         var_name='Indicator Name', value_name='Value').to_csv('../data_output/joined_health_pollution/prevalence_pollution_melt.csv')\n"
   ]
  },
  {
   "cell_type": "code",
   "execution_count": 176,
   "metadata": {},
   "outputs": [],
   "source": [
    "# dff = pd.melt(prevalence_df_poll_latlong, id_vars=['Year', 'Area Name', 'CCG Location', 'CCG_Poll_Map'],\n",
    "#         var_name='Indicator Name', value_name='Value')\n",
    "# dff.head()"
   ]
  },
  {
   "cell_type": "code",
   "execution_count": 177,
   "metadata": {},
   "outputs": [],
   "source": [
    "# dff[dff['Area Name']=='NHS Oxfordshire CCG' ]"
   ]
  },
  {
   "cell_type": "markdown",
   "metadata": {},
   "source": [
    "**Conclusions**\n",
    "\n",
    "\n",
    "**The correlation heatmaps indicate:**\n",
    "\n",
    "**Disease Prevalence Vs Pollution**\n",
    "* Distance from the airport is positively corrleated with most disease prevalence indicators), which contradicts our theory that that residents living closer to heathrow experience more health ailments, we would have expected the opposite - further investigation will be required\n",
    "* PM10 particulate matter is positively correlated with Asthma, Hypertension\n",
    "* Ozone is positively correlated with COPD prevalence (Further investigation required)\n",
    "\n",
    "\n",
    "**Hospital Admissions Vs Pollution**\n",
    "* Various hospital admissions are negatively correlated with heathrow distance, supporting our theory that residents living closer to heathrow experience more health ailments\n",
    "* Nitrogen Dioxide is positively correlated with 6 hospital admissions\n",
    "* PM10 particulate matter is positively correlated with with 4 hospital admissions\n",
    "\n",
    "**Extra**\n",
    "* Observed pollutants appear to be (weakly) positively correlated with distance, further investigation will be required\n",
    "\n",
    "**The Multivariate Correlation Plots indicate:**\n",
    "* There are not many points avaialble for the Sulphur Dioxdide indicator - follow on actions will be given to assess the feasibility of continuing with this indicator. \n",
    "* Similarly, action will be undetaken to assess the 2.5OPM indicator (low points)"
   ]
  }
 ],
 "metadata": {
  "kernelspec": {
   "display_name": "aa_at_py3",
   "language": "python",
   "name": "aa_at_py3"
  },
  "language_info": {
   "codemirror_mode": {
    "name": "ipython",
    "version": 3
   },
   "file_extension": ".py",
   "mimetype": "text/x-python",
   "name": "python",
   "nbconvert_exporter": "python",
   "pygments_lexer": "ipython3",
   "version": "3.8.5"
  }
 },
 "nbformat": 4,
 "nbformat_minor": 2
}
