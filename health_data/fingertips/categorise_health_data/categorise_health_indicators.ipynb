{
 "cells": [
  {
   "cell_type": "code",
   "execution_count": 6,
   "metadata": {},
   "outputs": [],
   "source": [
    "import pandas as pd\n",
    "import seaborn as sns"
   ]
  },
  {
   "cell_type": "code",
   "execution_count": 2,
   "metadata": {},
   "outputs": [],
   "source": [
    "health = pd.read_csv('../../../data_final/health_data_final.csv')"
   ]
  },
  {
   "cell_type": "code",
   "execution_count": 5,
   "metadata": {},
   "outputs": [
    {
     "data": {
      "text/plain": [
       "array(['Under 75 Resp Disease Mortality Rate',\n",
       "       'Pneumonia (all mentions) Mortality Rate',\n",
       "       'COPD (contributory cause) Mortality Rate',\n",
       "       '<75 Coronary Heart Disease Mortality Rate',\n",
       "       'Asthma Mortality Rate', 'Hypertension Prevalence',\n",
       "       'Diabetes Prevalence', 'CHD Prevalence',\n",
       "       'Heart Failure Prevalence', 'CKD Prevalence', 'Stroke: Prevalence',\n",
       "       'Atrial Fibrillation Prevalence', 'COPD Prevalence',\n",
       "       'Asthma Prevalence', 'COPD Admissions', 'Respiratory Admissions',\n",
       "       'Respiratory Tract Admissions 1yr',\n",
       "       'Respiratory Tract Admissions U1yr', 'Asthma Admissions Over 19yr',\n",
       "       'Asthma Admissions Under 19yr', 'Pneumonia Admissions',\n",
       "       'CHD Admissions', 'Heart Failure Admissions', 'Stroke Admissions',\n",
       "       'Stroke Atrial Fib Admissions'], dtype=object)"
      ]
     },
     "execution_count": 5,
     "metadata": {},
     "output_type": "execute_result"
    }
   ],
   "source": [
    "health['Indicator Name'].unique()"
   ]
  },
  {
   "cell_type": "code",
   "execution_count": 9,
   "metadata": {},
   "outputs": [
    {
     "data": {
      "image/png": "[encoded data removed]",
      "text/plain": [
       "<Figure size 432x288 with 1 Axes>"
      ]
     },
     "metadata": {
      "needs_background": "light"
     },
     "output_type": "display_data"
    }
   ],
   "source": [
    "ax = sns.boxplot(x=\"Indicator Name\", y=\"Value\", data=health)"
   ]
  },
  {
   "cell_type": "code",
   "execution_count": 10,
   "metadata": {},
   "outputs": [
    {
     "name": "stdout",
     "output_type": "stream",
     "text": [
      "{'Under 75 Resp Disease Mortality Rate': {'lower': 25.76212504872514, 'upper': 32.746}, 'Pneumonia (all mentions) Mortality Rate': {'lower': 185.2684247173936, 'upper': 221.62443991309203}, 'COPD (contributory cause) Mortality Rate': {'lower': 29.013337611089383, 'upper': 42.05388038868183}, '<75 Coronary Heart Disease Mortality Rate': {'lower': 34.524, 'upper': 51.146}, 'Asthma Mortality Rate': {'lower': 1.7642889700947033, 'upper': 3.1492891295828924}, 'Hypertension Prevalence': {'lower': 10.69897906723484, 'upper': 12.6787877672421}, 'Diabetes Prevalence': {'lower': 4.778531252462799, 'upper': 6.317884385938564}, 'CHD Prevalence': {'lower': 2.183171031105558, 'upper': 2.627430773087856}, 'Heart Failure Prevalence': {'lower': 0.47244427733175465, 'upper': 0.590545622059744}, 'CKD Prevalence': {'lower': 2.58616606289626, 'upper': 3.5978852814869917}, 'Stroke: Prevalence': {'lower': 1.03810324000569, 'upper': 1.5311412303027923}, 'Atrial Fibrillation Prevalence': {'lower': 1.0930930252945419, 'upper': 1.5684869012258804}, 'COPD Prevalence': {'lower': 1.0458364397145359, 'upper': 1.275869600194234}, 'Asthma Prevalence': {'lower': 4.715652283701894, 'upper': 5.813517280251943}, 'COPD Admissions': {'lower': 161.49, 'upper': 241.28}, 'Respiratory Admissions': {'lower': 1202.1399999999999, 'upper': 1433.49}, 'Respiratory Tract Admissions 1yr': {'lower': 85.074, 'upper': 139.42200000000003}, 'Respiratory Tract Admissions U1yr': {'lower': 374.06, 'upper': 583.22}, 'Asthma Admissions Over 19yr': {'lower': 74.44999999999999, 'upper': 113.05}, 'Asthma Admissions Under 19yr': {'lower': 136.195, 'upper': 180.86}, 'Pneumonia Admissions': {'lower': 419.73, 'upper': 492.01}, 'CHD Admissions': {'lower': 501.1256000000001, 'upper': 739.2572}, 'Heart Failure Admissions': {'lower': 121.7954, 'upper': 185.29420000000002}, 'Stroke Admissions': {'lower': 197.0, 'upper': 462.0}, 'Stroke Atrial Fib Admissions': {'lower': 40.05, 'upper': 55.36}}\n"
     ]
    }
   ],
   "source": [
    "# get the distributions??\n",
    "\n",
    "# We will take quantiles ourselves for now...\n",
    "# 80 = upper, 30 = lower and everything else is MEDIUM\n",
    "\n",
    "haha = {}\n",
    "\n",
    "for indicator in health['Indicator Name'].unique():\n",
    "    tmp = health.copy()\n",
    "    tmp = tmp[tmp['Indicator Name']== indicator]\n",
    "    lower = tmp['Value'].quantile(0.3)\n",
    "    upper = tmp['Value'].quantile(0.8)\n",
    "    haha[indicator] = {'lower': lower, 'upper':upper}\n",
    "    \n",
    "print(haha)"
   ]
  },
  {
   "cell_type": "code",
   "execution_count": 14,
   "metadata": {},
   "outputs": [
    {
     "data": {
      "text/plain": [
       "Unnamed: 0           0\n",
       "Year                 0\n",
       "Indicator Type       0\n",
       "Indicator Name       0\n",
       "Area Name            0\n",
       "Radius Location      0\n",
       "Value                0\n",
       "heathrow_distance    0\n",
       "LAT                  0\n",
       "LONG                 0\n",
       "dtype: int64"
      ]
     },
     "execution_count": 14,
     "metadata": {},
     "output_type": "execute_result"
    }
   ],
   "source": [
    "# remove the nan health indicators (only two)\n",
    "health.isna().sum()\n",
    "health.dropna(subset=['Value'], inplace=True)\n",
    "health.isna().sum()"
   ]
  },
  {
   "cell_type": "code",
   "execution_count": 36,
   "metadata": {},
   "outputs": [],
   "source": [
    "def please_classify_health_indicators(row):\n",
    "        \n",
    "    low_limit = haha[row['Indicator Name']]['lower']\n",
    "    up_limit = haha[row['Indicator Name']]['upper']\n",
    "\n",
    "\n",
    "#     value = float(row['Value'])\n",
    "    \n",
    "    if row['Value'] < low_limit:\n",
    "        return 'LOWER'\n",
    "    elif row['Value'] > up_limit:\n",
    "        return 'HIGH'\n",
    "    else:\n",
    "        return 'MEDIUM'\n",
    "\n"
   ]
  },
  {
   "cell_type": "code",
   "execution_count": 37,
   "metadata": {},
   "outputs": [],
   "source": [
    "health['category'] = health.apply(please_classify_health_indicators, axis=1)"
   ]
  },
  {
   "cell_type": "code",
   "execution_count": 42,
   "metadata": {},
   "outputs": [
    {
     "data": {
      "text/plain": [
       "MEDIUM    2028\n",
       "LOWER     1230\n",
       "HIGH       818\n",
       "Name: category, dtype: int64"
      ]
     },
     "execution_count": 42,
     "metadata": {},
     "output_type": "execute_result"
    }
   ],
   "source": [
    "health.isna().sum()\n",
    "\n",
    "health.category.value_counts()"
   ]
  },
  {
   "cell_type": "code",
   "execution_count": 43,
   "metadata": {
    "scrolled": true
   },
   "outputs": [
    {
     "data": {
      "text/html": [
       "<div>\n",
       "<style scoped>\n",
       "    .dataframe tbody tr th:only-of-type {\n",
       "        vertical-align: middle;\n",
       "    }\n",
       "\n",
       "    .dataframe tbody tr th {\n",
       "        vertical-align: top;\n",
       "    }\n",
       "\n",
       "    .dataframe thead th {\n",
       "        text-align: right;\n",
       "    }\n",
       "</style>\n",
       "<table border=\"1\" class=\"dataframe\">\n",
       "  <thead>\n",
       "    <tr style=\"text-align: right;\">\n",
       "      <th></th>\n",
       "      <th>Unnamed: 0</th>\n",
       "      <th>Year</th>\n",
       "      <th>Indicator Type</th>\n",
       "      <th>Indicator Name</th>\n",
       "      <th>Area Name</th>\n",
       "      <th>Radius Location</th>\n",
       "      <th>Value</th>\n",
       "      <th>heathrow_distance</th>\n",
       "      <th>LAT</th>\n",
       "      <th>LONG</th>\n",
       "      <th>category</th>\n",
       "    </tr>\n",
       "  </thead>\n",
       "  <tbody>\n",
       "    <tr>\n",
       "      <th>0</th>\n",
       "      <td>0</td>\n",
       "      <td>2006</td>\n",
       "      <td>Health - Mortality</td>\n",
       "      <td>Under 75 Resp Disease Mortality Rate</td>\n",
       "      <td>NHS Ealing CCG</td>\n",
       "      <td>Inner</td>\n",
       "      <td>38.388443</td>\n",
       "      <td>11465.53093</td>\n",
       "      <td>51.5244</td>\n",
       "      <td>-0.31405</td>\n",
       "      <td>HIGH</td>\n",
       "    </tr>\n",
       "  </tbody>\n",
       "</table>\n",
       "</div>"
      ],
      "text/plain": [
       "   Unnamed: 0  Year      Indicator Type                        Indicator Name  \\\n",
       "0           0  2006  Health - Mortality  Under 75 Resp Disease Mortality Rate   \n",
       "\n",
       "        Area Name Radius Location      Value  heathrow_distance      LAT  \\\n",
       "0  NHS Ealing CCG           Inner  38.388443        11465.53093  51.5244   \n",
       "\n",
       "      LONG category  \n",
       "0 -0.31405     HIGH  "
      ]
     },
     "execution_count": 43,
     "metadata": {},
     "output_type": "execute_result"
    }
   ],
   "source": [
    "health.head(1)"
   ]
  },
  {
   "cell_type": "code",
   "execution_count": 44,
   "metadata": {},
   "outputs": [],
   "source": [
    "health.to_csv('health_categorised.csv', encoding='utf-8')"
   ]
  }
 ],
 "metadata": {
  "kernelspec": {
   "display_name": "aa_at_py3",
   "language": "python",
   "name": "aa_at_py3"
  },
  "language_info": {
   "codemirror_mode": {
    "name": "ipython",
    "version": 3
   },
   "file_extension": ".py",
   "mimetype": "text/x-python",
   "name": "python",
   "nbconvert_exporter": "python",
   "pygments_lexer": "ipython3",
   "version": "3.8.5"
  }
 },
 "nbformat": 4,
 "nbformat_minor": 4
}
