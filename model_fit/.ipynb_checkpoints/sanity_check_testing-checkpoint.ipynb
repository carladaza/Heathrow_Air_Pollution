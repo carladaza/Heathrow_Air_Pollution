{
 "cells": [
  {
   "cell_type": "markdown",
   "metadata": {},
   "source": [
    "sanity check"
   ]
  },
  {
   "cell_type": "code",
   "execution_count": 2,
   "metadata": {},
   "outputs": [],
   "source": [
    "import pandas as pd\n",
    "import scipy\n"
   ]
  },
  {
   "cell_type": "markdown",
   "metadata": {},
   "source": [
    "## Sanity Check to Review Missing Data "
   ]
  },
  {
   "cell_type": "code",
   "execution_count": 3,
   "metadata": {},
   "outputs": [],
   "source": [
    "df = pd.read_csv('health_pollution_final.csv')\n",
    "df_wide = pd.read_csv('health_pollution_final_wide.csv')"
   ]
  },
  {
   "cell_type": "code",
   "execution_count": 13,
   "metadata": {},
   "outputs": [
    {
     "data": {
      "text/html": [
       "<div>\n",
       "<style scoped>\n",
       "    .dataframe tbody tr th:only-of-type {\n",
       "        vertical-align: middle;\n",
       "    }\n",
       "\n",
       "    .dataframe tbody tr th {\n",
       "        vertical-align: top;\n",
       "    }\n",
       "\n",
       "    .dataframe thead th {\n",
       "        text-align: right;\n",
       "    }\n",
       "</style>\n",
       "<table border=\"1\" class=\"dataframe\">\n",
       "  <thead>\n",
       "    <tr style=\"text-align: right;\">\n",
       "      <th></th>\n",
       "      <th>Unnamed: 0</th>\n",
       "      <th>Year</th>\n",
       "      <th>Area Name</th>\n",
       "      <th>heathrow_distance</th>\n",
       "      <th>CCG_Poll_Map</th>\n",
       "      <th>Radius Location</th>\n",
       "      <th>LAT</th>\n",
       "      <th>LONG</th>\n",
       "      <th>Indicator Name</th>\n",
       "      <th>Value</th>\n",
       "      <th>Indicator Type</th>\n",
       "    </tr>\n",
       "  </thead>\n",
       "  <tbody>\n",
       "    <tr>\n",
       "      <th>0</th>\n",
       "      <td>0</td>\n",
       "      <td>2003</td>\n",
       "      <td>NHS Berkshire West CCG</td>\n",
       "      <td>49791.742293</td>\n",
       "      <td>Reading</td>\n",
       "      <td>Outer</td>\n",
       "      <td>51.4458</td>\n",
       "      <td>-1.16963</td>\n",
       "      <td>&lt;75 Coronary Heart Disease</td>\n",
       "      <td>57.82</td>\n",
       "      <td>Health - Mortality</td>\n",
       "    </tr>\n",
       "    <tr>\n",
       "      <th>1</th>\n",
       "      <td>1</td>\n",
       "      <td>2003</td>\n",
       "      <td>NHS Brent CCG</td>\n",
       "      <td>16247.542449</td>\n",
       "      <td>No Pollution Readings</td>\n",
       "      <td>Outer</td>\n",
       "      <td>51.5644</td>\n",
       "      <td>-0.27568</td>\n",
       "      <td>&lt;75 Coronary Heart Disease</td>\n",
       "      <td>76.04</td>\n",
       "      <td>Health - Mortality</td>\n",
       "    </tr>\n",
       "    <tr>\n",
       "      <th>2</th>\n",
       "      <td>2</td>\n",
       "      <td>2003</td>\n",
       "      <td>NHS Buckinghamshire CCG</td>\n",
       "      <td>38818.061527</td>\n",
       "      <td>No Pollution Readings</td>\n",
       "      <td>Outer</td>\n",
       "      <td>51.7414</td>\n",
       "      <td>-0.80644</td>\n",
       "      <td>&lt;75 Coronary Heart Disease</td>\n",
       "      <td>51.21</td>\n",
       "      <td>Health - Mortality</td>\n",
       "    </tr>\n",
       "    <tr>\n",
       "      <th>3</th>\n",
       "      <td>3</td>\n",
       "      <td>2003</td>\n",
       "      <td>NHS Croydon CCG</td>\n",
       "      <td>28645.840703</td>\n",
       "      <td>No Pollution Readings</td>\n",
       "      <td>Outer</td>\n",
       "      <td>51.3660</td>\n",
       "      <td>-0.07761</td>\n",
       "      <td>&lt;75 Coronary Heart Disease</td>\n",
       "      <td>65.63</td>\n",
       "      <td>Health - Mortality</td>\n",
       "    </tr>\n",
       "    <tr>\n",
       "      <th>4</th>\n",
       "      <td>4</td>\n",
       "      <td>2003</td>\n",
       "      <td>NHS Ealing CCG</td>\n",
       "      <td>11465.530929</td>\n",
       "      <td>Ealing</td>\n",
       "      <td>Inner</td>\n",
       "      <td>51.5244</td>\n",
       "      <td>-0.31405</td>\n",
       "      <td>&lt;75 Coronary Heart Disease</td>\n",
       "      <td>82.91</td>\n",
       "      <td>Health - Mortality</td>\n",
       "    </tr>\n",
       "  </tbody>\n",
       "</table>\n",
       "</div>"
      ],
      "text/plain": [
       "   Unnamed: 0  Year                Area Name  heathrow_distance  \\\n",
       "0           0  2003   NHS Berkshire West CCG       49791.742293   \n",
       "1           1  2003            NHS Brent CCG       16247.542449   \n",
       "2           2  2003  NHS Buckinghamshire CCG       38818.061527   \n",
       "3           3  2003          NHS Croydon CCG       28645.840703   \n",
       "4           4  2003           NHS Ealing CCG       11465.530929   \n",
       "\n",
       "            CCG_Poll_Map Radius Location      LAT     LONG  \\\n",
       "0                Reading           Outer  51.4458 -1.16963   \n",
       "1  No Pollution Readings           Outer  51.5644 -0.27568   \n",
       "2  No Pollution Readings           Outer  51.7414 -0.80644   \n",
       "3  No Pollution Readings           Outer  51.3660 -0.07761   \n",
       "4                 Ealing           Inner  51.5244 -0.31405   \n",
       "\n",
       "               Indicator Name  Value      Indicator Type  \n",
       "0  <75 Coronary Heart Disease  57.82  Health - Mortality  \n",
       "1  <75 Coronary Heart Disease  76.04  Health - Mortality  \n",
       "2  <75 Coronary Heart Disease  51.21  Health - Mortality  \n",
       "3  <75 Coronary Heart Disease  65.63  Health - Mortality  \n",
       "4  <75 Coronary Heart Disease  82.91  Health - Mortality  "
      ]
     },
     "execution_count": 13,
     "metadata": {},
     "output_type": "execute_result"
    }
   ],
   "source": [
    "df.head()"
   ]
  },
  {
   "cell_type": "code",
   "execution_count": 32,
   "metadata": {},
   "outputs": [],
   "source": [
    "tmp = df[df['Indicator Name'] == 'Pneumonia Admissions']\n"
   ]
  },
  {
   "cell_type": "code",
   "execution_count": 35,
   "metadata": {},
   "outputs": [
    {
     "data": {
      "text/plain": [
       "array([2013, 2014, 2015, 2016, 2017, 2018])"
      ]
     },
     "execution_count": 35,
     "metadata": {},
     "output_type": "execute_result"
    }
   ],
   "source": [
    "tmp[~tmp['Value'].isnull()]['Year'].unique()"
   ]
  },
  {
   "cell_type": "code",
   "execution_count": 34,
   "metadata": {},
   "outputs": [
    {
     "name": "stdout",
     "output_type": "stream",
     "text": [
      "[2003 2004 2005 2006 2007 2008 2009 2010 2011 2012 2013 2014 2015 2016\n",
      " 2017 2018 2019]\n"
     ]
    }
   ],
   "source": [
    "print(tmp['Year'].unique())"
   ]
  },
  {
   "cell_type": "code",
   "execution_count": 4,
   "metadata": {},
   "outputs": [
    {
     "name": "stdout",
     "output_type": "stream",
     "text": [
      "(375, 38)\n"
     ]
    },
    {
     "data": {
      "text/html": [
       "<div>\n",
       "<style scoped>\n",
       "    .dataframe tbody tr th:only-of-type {\n",
       "        vertical-align: middle;\n",
       "    }\n",
       "\n",
       "    .dataframe tbody tr th {\n",
       "        vertical-align: top;\n",
       "    }\n",
       "\n",
       "    .dataframe thead th {\n",
       "        text-align: right;\n",
       "    }\n",
       "</style>\n",
       "<table border=\"1\" class=\"dataframe\">\n",
       "  <thead>\n",
       "    <tr style=\"text-align: right;\">\n",
       "      <th></th>\n",
       "      <th>Unnamed: 0</th>\n",
       "      <th>Year</th>\n",
       "      <th>Area Name</th>\n",
       "      <th>Radius Location</th>\n",
       "      <th>heathrow_distance</th>\n",
       "      <th>CCG_Poll_Map</th>\n",
       "      <th>LAT</th>\n",
       "      <th>LONG</th>\n",
       "      <th>&lt;75 Coronary Heart Disease</th>\n",
       "      <th>Asthma</th>\n",
       "      <th>...</th>\n",
       "      <th>Respiratory Tract Admissions U1yr</th>\n",
       "      <th>Stroke Admissions</th>\n",
       "      <th>Stroke Atrial Fib Admissions</th>\n",
       "      <th>Stroke: Prevalence</th>\n",
       "      <th>Under 75 Resp Disease</th>\n",
       "      <th>Nitrogen dioxide</th>\n",
       "      <th>Ozone</th>\n",
       "      <th>PM10</th>\n",
       "      <th>PM2.5</th>\n",
       "      <th>Sulphur dioxide</th>\n",
       "    </tr>\n",
       "  </thead>\n",
       "  <tbody>\n",
       "    <tr>\n",
       "      <th>0</th>\n",
       "      <td>0</td>\n",
       "      <td>2003</td>\n",
       "      <td>NHS Berkshire West CCG</td>\n",
       "      <td>Outer</td>\n",
       "      <td>49791.742293</td>\n",
       "      <td>Reading</td>\n",
       "      <td>51.4458</td>\n",
       "      <td>-1.16963</td>\n",
       "      <td>57.82</td>\n",
       "      <td>NaN</td>\n",
       "      <td>...</td>\n",
       "      <td>NaN</td>\n",
       "      <td>NaN</td>\n",
       "      <td>NaN</td>\n",
       "      <td>NaN</td>\n",
       "      <td>NaN</td>\n",
       "      <td>NaN</td>\n",
       "      <td>NaN</td>\n",
       "      <td>NaN</td>\n",
       "      <td>NaN</td>\n",
       "      <td>NaN</td>\n",
       "    </tr>\n",
       "    <tr>\n",
       "      <th>1</th>\n",
       "      <td>1</td>\n",
       "      <td>2003</td>\n",
       "      <td>NHS Brent CCG</td>\n",
       "      <td>Outer</td>\n",
       "      <td>16247.542449</td>\n",
       "      <td>No Pollution Readings</td>\n",
       "      <td>51.5644</td>\n",
       "      <td>-0.27568</td>\n",
       "      <td>76.04</td>\n",
       "      <td>NaN</td>\n",
       "      <td>...</td>\n",
       "      <td>NaN</td>\n",
       "      <td>NaN</td>\n",
       "      <td>NaN</td>\n",
       "      <td>NaN</td>\n",
       "      <td>NaN</td>\n",
       "      <td>NaN</td>\n",
       "      <td>NaN</td>\n",
       "      <td>NaN</td>\n",
       "      <td>NaN</td>\n",
       "      <td>NaN</td>\n",
       "    </tr>\n",
       "    <tr>\n",
       "      <th>2</th>\n",
       "      <td>2</td>\n",
       "      <td>2003</td>\n",
       "      <td>NHS Buckinghamshire CCG</td>\n",
       "      <td>Outer</td>\n",
       "      <td>38818.061527</td>\n",
       "      <td>No Pollution Readings</td>\n",
       "      <td>51.7414</td>\n",
       "      <td>-0.80644</td>\n",
       "      <td>51.21</td>\n",
       "      <td>NaN</td>\n",
       "      <td>...</td>\n",
       "      <td>NaN</td>\n",
       "      <td>NaN</td>\n",
       "      <td>NaN</td>\n",
       "      <td>NaN</td>\n",
       "      <td>NaN</td>\n",
       "      <td>NaN</td>\n",
       "      <td>NaN</td>\n",
       "      <td>NaN</td>\n",
       "      <td>NaN</td>\n",
       "      <td>NaN</td>\n",
       "    </tr>\n",
       "    <tr>\n",
       "      <th>3</th>\n",
       "      <td>3</td>\n",
       "      <td>2003</td>\n",
       "      <td>NHS Croydon CCG</td>\n",
       "      <td>Outer</td>\n",
       "      <td>28645.840703</td>\n",
       "      <td>No Pollution Readings</td>\n",
       "      <td>51.3660</td>\n",
       "      <td>-0.07761</td>\n",
       "      <td>65.63</td>\n",
       "      <td>NaN</td>\n",
       "      <td>...</td>\n",
       "      <td>NaN</td>\n",
       "      <td>NaN</td>\n",
       "      <td>NaN</td>\n",
       "      <td>NaN</td>\n",
       "      <td>NaN</td>\n",
       "      <td>NaN</td>\n",
       "      <td>NaN</td>\n",
       "      <td>NaN</td>\n",
       "      <td>NaN</td>\n",
       "      <td>NaN</td>\n",
       "    </tr>\n",
       "    <tr>\n",
       "      <th>4</th>\n",
       "      <td>4</td>\n",
       "      <td>2003</td>\n",
       "      <td>NHS Ealing CCG</td>\n",
       "      <td>Inner</td>\n",
       "      <td>11465.530929</td>\n",
       "      <td>Ealing</td>\n",
       "      <td>51.5244</td>\n",
       "      <td>-0.31405</td>\n",
       "      <td>82.91</td>\n",
       "      <td>NaN</td>\n",
       "      <td>...</td>\n",
       "      <td>NaN</td>\n",
       "      <td>NaN</td>\n",
       "      <td>NaN</td>\n",
       "      <td>NaN</td>\n",
       "      <td>NaN</td>\n",
       "      <td>NaN</td>\n",
       "      <td>NaN</td>\n",
       "      <td>NaN</td>\n",
       "      <td>NaN</td>\n",
       "      <td>NaN</td>\n",
       "    </tr>\n",
       "  </tbody>\n",
       "</table>\n",
       "<p>5 rows × 38 columns</p>\n",
       "</div>"
      ],
      "text/plain": [
       "   Unnamed: 0  Year                Area Name Radius Location  \\\n",
       "0           0  2003   NHS Berkshire West CCG           Outer   \n",
       "1           1  2003            NHS Brent CCG           Outer   \n",
       "2           2  2003  NHS Buckinghamshire CCG           Outer   \n",
       "3           3  2003          NHS Croydon CCG           Outer   \n",
       "4           4  2003           NHS Ealing CCG           Inner   \n",
       "\n",
       "   heathrow_distance           CCG_Poll_Map      LAT     LONG  \\\n",
       "0       49791.742293                Reading  51.4458 -1.16963   \n",
       "1       16247.542449  No Pollution Readings  51.5644 -0.27568   \n",
       "2       38818.061527  No Pollution Readings  51.7414 -0.80644   \n",
       "3       28645.840703  No Pollution Readings  51.3660 -0.07761   \n",
       "4       11465.530929                 Ealing  51.5244 -0.31405   \n",
       "\n",
       "   <75 Coronary Heart Disease  Asthma  ...  Respiratory Tract Admissions U1yr  \\\n",
       "0                       57.82     NaN  ...                                NaN   \n",
       "1                       76.04     NaN  ...                                NaN   \n",
       "2                       51.21     NaN  ...                                NaN   \n",
       "3                       65.63     NaN  ...                                NaN   \n",
       "4                       82.91     NaN  ...                                NaN   \n",
       "\n",
       "   Stroke Admissions  Stroke Atrial Fib Admissions  Stroke: Prevalence  \\\n",
       "0                NaN                           NaN                 NaN   \n",
       "1                NaN                           NaN                 NaN   \n",
       "2                NaN                           NaN                 NaN   \n",
       "3                NaN                           NaN                 NaN   \n",
       "4                NaN                           NaN                 NaN   \n",
       "\n",
       "   Under 75 Resp Disease  Nitrogen dioxide  Ozone  PM10  PM2.5  \\\n",
       "0                    NaN               NaN    NaN   NaN    NaN   \n",
       "1                    NaN               NaN    NaN   NaN    NaN   \n",
       "2                    NaN               NaN    NaN   NaN    NaN   \n",
       "3                    NaN               NaN    NaN   NaN    NaN   \n",
       "4                    NaN               NaN    NaN   NaN    NaN   \n",
       "\n",
       "   Sulphur dioxide  \n",
       "0              NaN  \n",
       "1              NaN  \n",
       "2              NaN  \n",
       "3              NaN  \n",
       "4              NaN  \n",
       "\n",
       "[5 rows x 38 columns]"
      ]
     },
     "execution_count": 4,
     "metadata": {},
     "output_type": "execute_result"
    }
   ],
   "source": [
    "print(df_wide.shape)\n",
    "df_wide.head()"
   ]
  },
  {
   "cell_type": "code",
   "execution_count": 38,
   "metadata": {},
   "outputs": [
    {
     "name": "stdout",
     "output_type": "stream",
     "text": [
      "JOSEPH - the new marks are {'2013': '2013', '2014': '2014', '2015': '2015', '2016': '2016', '2017': '2017', '2018': '2018'} COPD Admissions\n"
     ]
    }
   ],
   "source": [
    "tmp = df[df['Indicator Name'] == 'COPD Admissions']\n",
    "new_marks = {str(year): str(year) for year in tmp[~tmp['Value'].isnull()]['Year'].unique()}\n",
    "print('JOSEPH - the new marks are', new_marks, 'COPD Admissions')"
   ]
  },
  {
   "cell_type": "code",
   "execution_count": 43,
   "metadata": {},
   "outputs": [],
   "source": [
    "mp = df[(df['Indicator Name'] == 'COPD Admissions') & (~df['Value'].isnull())]"
   ]
  },
  {
   "cell_type": "code",
   "execution_count": 48,
   "metadata": {},
   "outputs": [],
   "source": [
    "tmp = df[df['Indicator Name'] == 'COPD Admissions']\n",
    "\n",
    "\n",
    "tmp = tmp[tmp['Value'].notna()]"
   ]
  },
  {
   "cell_type": "code",
   "execution_count": 50,
   "metadata": {},
   "outputs": [
    {
     "data": {
      "text/plain": [
       "array([2013, 2014, 2015, 2016, 2017, 2018])"
      ]
     },
     "execution_count": 50,
     "metadata": {},
     "output_type": "execute_result"
    }
   ],
   "source": [
    "tmp['Year'].unique()"
   ]
  },
  {
   "cell_type": "code",
   "execution_count": 5,
   "metadata": {
    "scrolled": true
   },
   "outputs": [
    {
     "data": {
      "text/plain": [
       "Unnamed: 0                             0\n",
       "Year                                   0\n",
       "Area Name                              0\n",
       "Radius Location                        0\n",
       "heathrow_distance                      0\n",
       "CCG_Poll_Map                           0\n",
       "LAT                                    0\n",
       "LONG                                   0\n",
       "<75 Coronary Heart Disease            40\n",
       "Asthma                               130\n",
       "Asthma Admissions Over 19yr          255\n",
       "Asthma Admissions Under 19yr         255\n",
       "Asthma Prevalence                    146\n",
       "Atrial Fibrillation Prevalence       146\n",
       "CHD Admissions                         0\n",
       "CHD Prevalence                       146\n",
       "CKD Prevalence                       166\n",
       "COPD (contributory cause)            118\n",
       "COPD Admissions                      255\n",
       "COPD Prevalence                      180\n",
       "Diabetes Prevalence                  146\n",
       "Heart Failure Admissions               0\n",
       "Heart Failure Prevalence             146\n",
       "Hypertension Prevalence              146\n",
       "Pneumonia (all mentions)             118\n",
       "Pneumonia Admissions                 255\n",
       "Respiratory Admissions               255\n",
       "Respiratory Tract Admissions 1yr     297\n",
       "Respiratory Tract Admissions U1yr    255\n",
       "Stroke Admissions                    270\n",
       "Stroke Atrial Fib Admissions         287\n",
       "Stroke: Prevalence                   146\n",
       "Under 75 Resp Disease                118\n",
       "Nitrogen dioxide                     150\n",
       "Ozone                                243\n",
       "PM10                                 167\n",
       "PM2.5                                279\n",
       "Sulphur dioxide                      326\n",
       "dtype: int64"
      ]
     },
     "execution_count": 5,
     "metadata": {},
     "output_type": "execute_result"
    }
   ],
   "source": [
    "df_wide.isna().sum()"
   ]
  },
  {
   "cell_type": "code",
   "execution_count": 6,
   "metadata": {},
   "outputs": [
    {
     "data": {
      "text/plain": [
       "array(['Nitrogen dioxide', 'Ozone', 'PM10', 'PM2.5', 'Sulphur dioxide'],\n",
       "      dtype=object)"
      ]
     },
     "execution_count": 6,
     "metadata": {},
     "output_type": "execute_result"
    }
   ],
   "source": [
    "df[df['Indicator Type'] == 'Air Pollutant']['Indicator Name'].unique()"
   ]
  },
  {
   "cell_type": "code",
   "execution_count": 7,
   "metadata": {
    "scrolled": true
   },
   "outputs": [
    {
     "data": {
      "text/html": [
       "<div>\n",
       "<style scoped>\n",
       "    .dataframe tbody tr th:only-of-type {\n",
       "        vertical-align: middle;\n",
       "    }\n",
       "\n",
       "    .dataframe tbody tr th {\n",
       "        vertical-align: top;\n",
       "    }\n",
       "\n",
       "    .dataframe thead th {\n",
       "        text-align: right;\n",
       "    }\n",
       "</style>\n",
       "<table border=\"1\" class=\"dataframe\">\n",
       "  <thead>\n",
       "    <tr style=\"text-align: right;\">\n",
       "      <th></th>\n",
       "      <th>Year</th>\n",
       "      <th>Radius Location</th>\n",
       "      <th>Indicator Name</th>\n",
       "      <th>Unnamed: 0</th>\n",
       "      <th>heathrow_distance</th>\n",
       "      <th>LAT</th>\n",
       "      <th>LONG</th>\n",
       "      <th>Value</th>\n",
       "    </tr>\n",
       "  </thead>\n",
       "  <tbody>\n",
       "    <tr>\n",
       "      <th>0</th>\n",
       "      <td>2003</td>\n",
       "      <td>Inner</td>\n",
       "      <td>&lt;75 Coronary Heart Disease</td>\n",
       "      <td>67</td>\n",
       "      <td>62933.233368</td>\n",
       "      <td>308.7249</td>\n",
       "      <td>-2.22234</td>\n",
       "      <td>395.720</td>\n",
       "    </tr>\n",
       "    <tr>\n",
       "      <th>1</th>\n",
       "      <td>2003</td>\n",
       "      <td>Inner</td>\n",
       "      <td>Asthma</td>\n",
       "      <td>2317</td>\n",
       "      <td>62933.233368</td>\n",
       "      <td>308.7249</td>\n",
       "      <td>-2.22234</td>\n",
       "      <td>0.000</td>\n",
       "    </tr>\n",
       "    <tr>\n",
       "      <th>2</th>\n",
       "      <td>2003</td>\n",
       "      <td>Inner</td>\n",
       "      <td>Asthma Admissions Over 19yr</td>\n",
       "      <td>4567</td>\n",
       "      <td>62933.233368</td>\n",
       "      <td>308.7249</td>\n",
       "      <td>-2.22234</td>\n",
       "      <td>0.000</td>\n",
       "    </tr>\n",
       "    <tr>\n",
       "      <th>3</th>\n",
       "      <td>2003</td>\n",
       "      <td>Inner</td>\n",
       "      <td>Asthma Admissions Under 19yr</td>\n",
       "      <td>6817</td>\n",
       "      <td>62933.233368</td>\n",
       "      <td>308.7249</td>\n",
       "      <td>-2.22234</td>\n",
       "      <td>0.000</td>\n",
       "    </tr>\n",
       "    <tr>\n",
       "      <th>4</th>\n",
       "      <td>2003</td>\n",
       "      <td>Inner</td>\n",
       "      <td>Asthma Prevalence</td>\n",
       "      <td>9067</td>\n",
       "      <td>62933.233368</td>\n",
       "      <td>308.7249</td>\n",
       "      <td>-2.22234</td>\n",
       "      <td>0.000</td>\n",
       "    </tr>\n",
       "    <tr>\n",
       "      <th>5</th>\n",
       "      <td>2003</td>\n",
       "      <td>Inner</td>\n",
       "      <td>Atrial Fibrillation Prevalence</td>\n",
       "      <td>11317</td>\n",
       "      <td>62933.233368</td>\n",
       "      <td>308.7249</td>\n",
       "      <td>-2.22234</td>\n",
       "      <td>0.000</td>\n",
       "    </tr>\n",
       "    <tr>\n",
       "      <th>6</th>\n",
       "      <td>2003</td>\n",
       "      <td>Inner</td>\n",
       "      <td>CHD Admissions</td>\n",
       "      <td>13567</td>\n",
       "      <td>62933.233368</td>\n",
       "      <td>308.7249</td>\n",
       "      <td>-2.22234</td>\n",
       "      <td>4774.609</td>\n",
       "    </tr>\n",
       "    <tr>\n",
       "      <th>7</th>\n",
       "      <td>2003</td>\n",
       "      <td>Inner</td>\n",
       "      <td>CHD Prevalence</td>\n",
       "      <td>15817</td>\n",
       "      <td>62933.233368</td>\n",
       "      <td>308.7249</td>\n",
       "      <td>-2.22234</td>\n",
       "      <td>0.000</td>\n",
       "    </tr>\n",
       "    <tr>\n",
       "      <th>8</th>\n",
       "      <td>2003</td>\n",
       "      <td>Inner</td>\n",
       "      <td>CKD Prevalence</td>\n",
       "      <td>18067</td>\n",
       "      <td>62933.233368</td>\n",
       "      <td>308.7249</td>\n",
       "      <td>-2.22234</td>\n",
       "      <td>0.000</td>\n",
       "    </tr>\n",
       "    <tr>\n",
       "      <th>9</th>\n",
       "      <td>2003</td>\n",
       "      <td>Inner</td>\n",
       "      <td>COPD (contributory cause)</td>\n",
       "      <td>20317</td>\n",
       "      <td>62933.233368</td>\n",
       "      <td>308.7249</td>\n",
       "      <td>-2.22234</td>\n",
       "      <td>0.000</td>\n",
       "    </tr>\n",
       "  </tbody>\n",
       "</table>\n",
       "</div>"
      ],
      "text/plain": [
       "   Year Radius Location                  Indicator Name  Unnamed: 0  \\\n",
       "0  2003           Inner      <75 Coronary Heart Disease          67   \n",
       "1  2003           Inner                          Asthma        2317   \n",
       "2  2003           Inner     Asthma Admissions Over 19yr        4567   \n",
       "3  2003           Inner    Asthma Admissions Under 19yr        6817   \n",
       "4  2003           Inner               Asthma Prevalence        9067   \n",
       "5  2003           Inner  Atrial Fibrillation Prevalence       11317   \n",
       "6  2003           Inner                  CHD Admissions       13567   \n",
       "7  2003           Inner                  CHD Prevalence       15817   \n",
       "8  2003           Inner                  CKD Prevalence       18067   \n",
       "9  2003           Inner       COPD (contributory cause)       20317   \n",
       "\n",
       "   heathrow_distance       LAT     LONG     Value  \n",
       "0       62933.233368  308.7249 -2.22234   395.720  \n",
       "1       62933.233368  308.7249 -2.22234     0.000  \n",
       "2       62933.233368  308.7249 -2.22234     0.000  \n",
       "3       62933.233368  308.7249 -2.22234     0.000  \n",
       "4       62933.233368  308.7249 -2.22234     0.000  \n",
       "5       62933.233368  308.7249 -2.22234     0.000  \n",
       "6       62933.233368  308.7249 -2.22234  4774.609  \n",
       "7       62933.233368  308.7249 -2.22234     0.000  \n",
       "8       62933.233368  308.7249 -2.22234     0.000  \n",
       "9       62933.233368  308.7249 -2.22234     0.000  "
      ]
     },
     "execution_count": 7,
     "metadata": {},
     "output_type": "execute_result"
    }
   ],
   "source": [
    "dff = df.groupby(['Year', 'Radius Location', 'Indicator Name']).sum('Value').reset_index()\n",
    "dff.head(10)"
   ]
  },
  {
   "cell_type": "code",
   "execution_count": 8,
   "metadata": {},
   "outputs": [
    {
     "data": {
      "text/html": [
       "<div>\n",
       "<style scoped>\n",
       "    .dataframe tbody tr th:only-of-type {\n",
       "        vertical-align: middle;\n",
       "    }\n",
       "\n",
       "    .dataframe tbody tr th {\n",
       "        vertical-align: top;\n",
       "    }\n",
       "\n",
       "    .dataframe thead th {\n",
       "        text-align: right;\n",
       "    }\n",
       "</style>\n",
       "<table border=\"1\" class=\"dataframe\">\n",
       "  <thead>\n",
       "    <tr style=\"text-align: right;\">\n",
       "      <th></th>\n",
       "      <th>Unnamed: 0</th>\n",
       "      <th>Year</th>\n",
       "      <th>Area Name</th>\n",
       "      <th>heathrow_distance</th>\n",
       "      <th>CCG_Poll_Map</th>\n",
       "      <th>Radius Location</th>\n",
       "      <th>LAT</th>\n",
       "      <th>LONG</th>\n",
       "      <th>Indicator Name</th>\n",
       "      <th>Value</th>\n",
       "      <th>Indicator Type</th>\n",
       "    </tr>\n",
       "  </thead>\n",
       "  <tbody>\n",
       "    <tr>\n",
       "      <th>0</th>\n",
       "      <td>0</td>\n",
       "      <td>2003</td>\n",
       "      <td>NHS Berkshire West CCG</td>\n",
       "      <td>49791.742293</td>\n",
       "      <td>Reading</td>\n",
       "      <td>Outer</td>\n",
       "      <td>51.4458</td>\n",
       "      <td>-1.16963</td>\n",
       "      <td>&lt;75 Coronary Heart Disease</td>\n",
       "      <td>57.82</td>\n",
       "      <td>Health - Mortality</td>\n",
       "    </tr>\n",
       "    <tr>\n",
       "      <th>1</th>\n",
       "      <td>1</td>\n",
       "      <td>2003</td>\n",
       "      <td>NHS Brent CCG</td>\n",
       "      <td>16247.542449</td>\n",
       "      <td>No Pollution Readings</td>\n",
       "      <td>Outer</td>\n",
       "      <td>51.5644</td>\n",
       "      <td>-0.27568</td>\n",
       "      <td>&lt;75 Coronary Heart Disease</td>\n",
       "      <td>76.04</td>\n",
       "      <td>Health - Mortality</td>\n",
       "    </tr>\n",
       "    <tr>\n",
       "      <th>2</th>\n",
       "      <td>2</td>\n",
       "      <td>2003</td>\n",
       "      <td>NHS Buckinghamshire CCG</td>\n",
       "      <td>38818.061527</td>\n",
       "      <td>No Pollution Readings</td>\n",
       "      <td>Outer</td>\n",
       "      <td>51.7414</td>\n",
       "      <td>-0.80644</td>\n",
       "      <td>&lt;75 Coronary Heart Disease</td>\n",
       "      <td>51.21</td>\n",
       "      <td>Health - Mortality</td>\n",
       "    </tr>\n",
       "    <tr>\n",
       "      <th>3</th>\n",
       "      <td>3</td>\n",
       "      <td>2003</td>\n",
       "      <td>NHS Croydon CCG</td>\n",
       "      <td>28645.840703</td>\n",
       "      <td>No Pollution Readings</td>\n",
       "      <td>Outer</td>\n",
       "      <td>51.3660</td>\n",
       "      <td>-0.07761</td>\n",
       "      <td>&lt;75 Coronary Heart Disease</td>\n",
       "      <td>65.63</td>\n",
       "      <td>Health - Mortality</td>\n",
       "    </tr>\n",
       "    <tr>\n",
       "      <th>4</th>\n",
       "      <td>4</td>\n",
       "      <td>2003</td>\n",
       "      <td>NHS Ealing CCG</td>\n",
       "      <td>11465.530929</td>\n",
       "      <td>Ealing</td>\n",
       "      <td>Inner</td>\n",
       "      <td>51.5244</td>\n",
       "      <td>-0.31405</td>\n",
       "      <td>&lt;75 Coronary Heart Disease</td>\n",
       "      <td>82.91</td>\n",
       "      <td>Health - Mortality</td>\n",
       "    </tr>\n",
       "  </tbody>\n",
       "</table>\n",
       "</div>"
      ],
      "text/plain": [
       "   Unnamed: 0  Year                Area Name  heathrow_distance  \\\n",
       "0           0  2003   NHS Berkshire West CCG       49791.742293   \n",
       "1           1  2003            NHS Brent CCG       16247.542449   \n",
       "2           2  2003  NHS Buckinghamshire CCG       38818.061527   \n",
       "3           3  2003          NHS Croydon CCG       28645.840703   \n",
       "4           4  2003           NHS Ealing CCG       11465.530929   \n",
       "\n",
       "            CCG_Poll_Map Radius Location      LAT     LONG  \\\n",
       "0                Reading           Outer  51.4458 -1.16963   \n",
       "1  No Pollution Readings           Outer  51.5644 -0.27568   \n",
       "2  No Pollution Readings           Outer  51.7414 -0.80644   \n",
       "3  No Pollution Readings           Outer  51.3660 -0.07761   \n",
       "4                 Ealing           Inner  51.5244 -0.31405   \n",
       "\n",
       "               Indicator Name  Value      Indicator Type  \n",
       "0  <75 Coronary Heart Disease  57.82  Health - Mortality  \n",
       "1  <75 Coronary Heart Disease  76.04  Health - Mortality  \n",
       "2  <75 Coronary Heart Disease  51.21  Health - Mortality  \n",
       "3  <75 Coronary Heart Disease  65.63  Health - Mortality  \n",
       "4  <75 Coronary Heart Disease  82.91  Health - Mortality  "
      ]
     },
     "execution_count": 8,
     "metadata": {},
     "output_type": "execute_result"
    }
   ],
   "source": [
    "df.head()"
   ]
  },
  {
   "cell_type": "markdown",
   "metadata": {},
   "source": [
    "## Model Research"
   ]
  },
  {
   "cell_type": "markdown",
   "metadata": {},
   "source": [
    "**Option one: Linear Regression** (I dont think this is a good fit for time series data, could do for each indicator aggregated across all years as a nuclear option VERUS DISTANCE from heathrow). Or plug in with Plotly, so you can make an interactive linear regression (over time, select indicator and shows graph)... \n",
    "\n",
    "Could also have a time aspect, but we can't break it down by year (as there are not enough points in the model??!!??!) \n",
    "\n",
    "https://www.w3schools.com/python/python_ml_linear_regression.asp"
   ]
  },
  {
   "cell_type": "code",
   "execution_count": 9,
   "metadata": {},
   "outputs": [
    {
     "data": {
      "text/plain": [
       "array(['<75 Coronary Heart Disease', 'Asthma',\n",
       "       'Asthma Admissions Over 19yr', 'Asthma Admissions Under 19yr',\n",
       "       'Asthma Prevalence', 'Atrial Fibrillation Prevalence',\n",
       "       'CHD Admissions', 'CHD Prevalence', 'CKD Prevalence',\n",
       "       'COPD (contributory cause)', 'COPD Admissions', 'COPD Prevalence',\n",
       "       'Diabetes Prevalence', 'Heart Failure Admissions',\n",
       "       'Heart Failure Prevalence', 'Hypertension Prevalence',\n",
       "       'Pneumonia (all mentions)', 'Pneumonia Admissions',\n",
       "       'Respiratory Admissions', 'Respiratory Tract Admissions 1yr',\n",
       "       'Respiratory Tract Admissions U1yr', 'Stroke Admissions',\n",
       "       'Stroke Atrial Fib Admissions', 'Stroke: Prevalence',\n",
       "       'Under 75 Resp Disease', 'Nitrogen dioxide', 'Ozone', 'PM10',\n",
       "       'PM2.5', 'Sulphur dioxide'], dtype=object)"
      ]
     },
     "execution_count": 9,
     "metadata": {},
     "output_type": "execute_result"
    }
   ],
   "source": [
    "df['Indicator Name'].unique()"
   ]
  },
  {
   "cell_type": "code",
   "execution_count": 10,
   "metadata": {},
   "outputs": [
    {
     "data": {
      "text/plain": [
       "array([161.28, 169.26, 120.01, 251.06, 184.12, 196.22, 109.57, 472.09,\n",
       "       136.66, 161.7 , 237.09, 242.51, 136.47, 223.7 , 134.95, 156.33,\n",
       "       118.93, 148.35, 204.88, 284.36, 164.84, 194.49, 174.49, 241.94,\n",
       "       223.79, 226.74, 123.76, 366.42, 147.93, 164.63, 250.87, 278.91,\n",
       "       125.66, 211.04, 159.19, 162.21, 134.7 , 182.73, 222.76, 300.27,\n",
       "       172.36, 174.46, 150.53, 231.51, 228.08, 201.65,  97.94, 444.74,\n",
       "       126.43, 152.78, 251.13, 266.74, 148.73, 223.1 , 161.26, 155.99,\n",
       "       133.25, 133.84, 213.83, 271.66, 200.8 , 180.31, 148.56, 223.09,\n",
       "       208.72, 227.34, 126.04, 387.09, 132.45, 173.25, 231.8 , 276.53,\n",
       "       152.18, 212.39, 192.85, 164.67, 161.2 , 183.75, 220.53, 244.18,\n",
       "       176.48, 192.55, 135.15, 213.18, 203.1 , 186.15, 133.6 , 311.69,\n",
       "       141.85, 176.49, 231.9 , 262.59, 139.04, 215.37, 149.48, 167.1 ,\n",
       "       155.23, 155.53, 240.42, 241.28, 178.84, 200.71, 135.24, 186.54,\n",
       "       170.1 , 167.72, 128.87, 319.27, 171.45, 169.2 , 220.52, 232.78,\n",
       "       176.61, 216.2 , 145.66, 156.98, 156.01, 170.8 , 248.35, 259.4 ])"
      ]
     },
     "execution_count": 10,
     "metadata": {},
     "output_type": "execute_result"
    }
   ],
   "source": [
    "tmp_df = df.copy()\n",
    "tmp_df[tmp_df['Indicator Name'] == 'COPD Admissions'].dropna()['Value'].to_numpy()"
   ]
  },
  {
   "cell_type": "code",
   "execution_count": 12,
   "metadata": {
    "scrolled": true
   },
   "outputs": [
    {
     "data": {
      "image/png": "[encoded data removed]",
      "text/plain": [
       "<Figure size 432x288 with 1 Axes>"
      ]
     },
     "metadata": {
      "needs_background": "light"
     },
     "output_type": "display_data"
    },
    {
     "name": "stdout",
     "output_type": "stream",
     "text": [
      "distance of 1000 has the potential to give 223.7925341112252 heart failure\n",
      "-0.29620099899997127\n"
     ]
    }
   ],
   "source": [
    "import matplotlib.pyplot as plt\n",
    "from scipy import stats\n",
    "\n",
    "# x = [5,7,8,7,2,17,2,9,4,11,12,9,6]\n",
    "# y = [99,86,87,88,111,86,103,87,94,78,77,85,86]\n",
    "\n",
    "# need to mkae sure the matrixes/elements are the same length\n",
    "x= tmp_df[tmp_df['Indicator Name'] == 'COPD Admissions'].dropna()['heathrow_distance'].to_numpy()\n",
    "y = tmp_df[tmp_df['Indicator Name'] == 'COPD Admissions'].dropna()['Value'].to_numpy()\n",
    "\n",
    "\n",
    "slope, intercept, r, p, std_err = stats.linregress(x, y)\n",
    "\n",
    "def myfunc(x):\n",
    "  return slope * x + intercept\n",
    "\n",
    "\n",
    "def get_y(y):\n",
    "  return (y/slope) - intercept\n",
    "\n",
    "mymodel = list(map(myfunc, x))\n",
    "\n",
    "plt.scatter(x, y)\n",
    "plt.plot(x, mymodel)\n",
    "plt.show()\n",
    "\n",
    "\n",
    "print('distance of {0} has the potential to give {1} heart failure'.format(1000, myfunc(1000)))\n",
    "\n",
    "print(r)"
   ]
  },
  {
   "cell_type": "code",
   "execution_count": 13,
   "metadata": {},
   "outputs": [
    {
     "name": "stdout",
     "output_type": "stream",
     "text": [
      "85.59308314937454\n"
     ]
    }
   ],
   "source": [
    "from scipy import stats\n",
    "\n",
    "x = [5,7,8,7,2,17,2,9,4,11,12,9,6]\n",
    "y = [99,86,87,88,111,86,103,87,94,78,77,85,86]\n",
    "\n",
    "plt\n",
    "\n",
    "slope, intercept, r, p, std_err = stats.linregress(x, y)\n",
    "\n",
    "def myfunc(x):\n",
    "  return slope * x + intercept\n",
    "\n",
    "speed = myfunc(10)\n",
    "\n",
    "print(speed)\n"
   ]
  },
  {
   "cell_type": "markdown",
   "metadata": {},
   "source": [
    "### Option Two - Jamie's Time Series Model\n",
    "https://machinelearningmastery.com/gentle-introduction-box-jenkins-method-time-series-forecasting/\n",
    "https://en.wikipedia.org/wiki/Autoregressive%E2%80%93moving-average_model  \n",
    "\n",
    "\n",
    "\n",
    "There is a good comprehensive guide here (on how to get it working). no idea if one variable or considers multivariate. More research required...  https://towardsdatascience.com/machine-learning-part-19-time-series-and-autoregressive-integrated-moving-average-model-arima-c1005347b0d7\n",
    "\n"
   ]
  },
  {
   "cell_type": "markdown",
   "metadata": {},
   "source": [
    "### Option Three - Self Research \n",
    "* multiple linear regression !? https://www.w3schools.com/python/python_ml_multiple_regression.asp  (maybe can be used to predict how more flights will affect different health indicators? (idk...). https://towardsdatascience.com/simple-and-multiple-linear-regression-in-python-c928425168f9\n",
    "* multi linear regression example: https://datatofish.com/multiple-linear-regression-python/"
   ]
  },
  {
   "cell_type": "code",
   "execution_count": 47,
   "metadata": {},
   "outputs": [
    {
     "data": {
      "image/png": "[encoded data removed]",
      "text/plain": [
       "<Figure size 432x288 with 1 Axes>"
      ]
     },
     "metadata": {
      "needs_background": "light"
     },
     "output_type": "display_data"
    }
   ],
   "source": [
    "import pandas as pd\n",
    "import matplotlib.pyplot as plt\n",
    "  \n",
    "Stock_Market = {'Year': [2017,2017,2017,2017,2017,2017,2017,2017,2017,2017,2017,2017,2016,2016,2016,2016,2016,2016,2016,2016,2016,2016,2016,2016],\n",
    "                'Month': [12, 11,10,9,8,7,6,5,4,3,2,1,12,11,10,9,8,7,6,5,4,3,2,1],\n",
    "                'Interest_Rate': [2.75,2.5,2.5,2.5,2.5,2.5,2.5,2.25,2.25,2.25,2,2,2,1.75,1.75,1.75,1.75,1.75,1.75,1.75,1.75,1.75,1.75,1.75],\n",
    "                'Unemployment_Rate': [5.3,5.3,5.3,5.3,5.4,5.6,5.5,5.5,5.5,5.6,5.7,5.9,6,5.9,5.8,6.1,6.2,6.1,6.1,6.1,5.9,6.2,6.2,6.1],\n",
    "                'Stock_Index_Price': [1464,1394,1357,1293,1256,1254,1234,1195,1159,1167,1130,1075,1047,965,943,958,971,949,884,866,876,822,704,719]        \n",
    "                }\n",
    " \n",
    "df = pd.DataFrame(Stock_Market,columns=['Year','Month','Interest_Rate','Unemployment_Rate','Stock_Index_Price'])\n",
    " \n",
    "plt.scatter(df['Interest_Rate'], df['Stock_Index_Price'], color='red')\n",
    "plt.title('Stock Index Price Vs Interest Rate', fontsize=14)\n",
    "plt.xlabel('Interest Rate', fontsize=14)\n",
    "plt.ylabel('Stock Index Price', fontsize=14)\n",
    "plt.grid(True)\n",
    "plt.show()"
   ]
  },
  {
   "cell_type": "code",
   "execution_count": 48,
   "metadata": {},
   "outputs": [
    {
     "name": "stdout",
     "output_type": "stream",
     "text": [
      "Intercept: \n",
      " 1798.4039776258546\n",
      "Coefficients: \n",
      " [ 345.54008701 -250.14657137]\n",
      "Predicted Stock Index Price: \n",
      " [1422.86238865]\n",
      "                            OLS Regression Results                            \n",
      "==============================================================================\n",
      "Dep. Variable:      Stock_Index_Price   R-squared:                       0.898\n",
      "Model:                            OLS   Adj. R-squared:                  0.888\n",
      "Method:                 Least Squares   F-statistic:                     92.07\n",
      "Date:                Fri, 22 Jan 2021   Prob (F-statistic):           4.04e-11\n",
      "Time:                        14:11:32   Log-Likelihood:                -134.61\n",
      "No. Observations:                  24   AIC:                             275.2\n",
      "Df Residuals:                      21   BIC:                             278.8\n",
      "Df Model:                           2                                         \n",
      "Covariance Type:            nonrobust                                         \n",
      "=====================================================================================\n",
      "                        coef    std err          t      P>|t|      [0.025      0.975]\n",
      "-------------------------------------------------------------------------------------\n",
      "const              1798.4040    899.248      2.000      0.059     -71.685    3668.493\n",
      "Interest_Rate       345.5401    111.367      3.103      0.005     113.940     577.140\n",
      "Unemployment_Rate  -250.1466    117.950     -2.121      0.046    -495.437      -4.856\n",
      "==============================================================================\n",
      "Omnibus:                        2.691   Durbin-Watson:                   0.530\n",
      "Prob(Omnibus):                  0.260   Jarque-Bera (JB):                1.551\n",
      "Skew:                          -0.612   Prob(JB):                        0.461\n",
      "Kurtosis:                       3.226   Cond. No.                         394.\n",
      "==============================================================================\n",
      "\n",
      "Notes:\n",
      "[1] Standard Errors assume that the covariance matrix of the errors is correctly specified.\n"
     ]
    }
   ],
   "source": [
    "#  multi linear regression example from: https://datatofish.com/multiple-linear-regression-python/\n",
    "# could be used for flights (if input supported in dash. )\n",
    "import pandas as pd\n",
    "from sklearn import linear_model\n",
    "import statsmodels.api as sm\n",
    "\n",
    "Stock_Market = {'Year': [2017,2017,2017,2017,2017,2017,2017,2017,2017,2017,2017,2017,2016,2016,2016,2016,2016,2016,2016,2016,2016,2016,2016,2016],\n",
    "                'Month': [12, 11,10,9,8,7,6,5,4,3,2,1,12,11,10,9,8,7,6,5,4,3,2,1],\n",
    "                'Interest_Rate': [2.75,2.5,2.5,2.5,2.5,2.5,2.5,2.25,2.25,2.25,2,2,2,1.75,1.75,1.75,1.75,1.75,1.75,1.75,1.75,1.75,1.75,1.75],\n",
    "                'Unemployment_Rate': [5.3,5.3,5.3,5.3,5.4,5.6,5.5,5.5,5.5,5.6,5.7,5.9,6,5.9,5.8,6.1,6.2,6.1,6.1,6.1,5.9,6.2,6.2,6.1],\n",
    "                'Stock_Index_Price': [1464,1394,1357,1293,1256,1254,1234,1195,1159,1167,1130,1075,1047,965,943,958,971,949,884,866,876,822,704,719]        \n",
    "                }\n",
    "\n",
    "df = pd.DataFrame(Stock_Market,columns=['Year','Month','Interest_Rate','Unemployment_Rate','Stock_Index_Price'])\n",
    "\n",
    "X = df[['Interest_Rate','Unemployment_Rate']] # here we have 2 variables for multiple regression. If you just want to use one variable for simple linear regression, then use X = df['Interest_Rate'] for example.Alternatively, you may add additional variables within the brackets\n",
    "Y = df['Stock_Index_Price']\n",
    " \n",
    "# with sklearn\n",
    "regr = linear_model.LinearRegression()\n",
    "regr.fit(X, Y)\n",
    "\n",
    "print('Intercept: \\n', regr.intercept_)\n",
    "print('Coefficients: \\n', regr.coef_)\n",
    "\n",
    "# prediction with sklearn\n",
    "New_Interest_Rate = 2.75\n",
    "New_Unemployment_Rate = 5.3\n",
    "print ('Predicted Stock Index Price: \\n', regr.predict([[New_Interest_Rate ,New_Unemployment_Rate]]))\n",
    "\n",
    "# with statsmodels\n",
    "X = sm.add_constant(X) # adding a constant\n",
    " \n",
    "model = sm.OLS(Y, X).fit()\n",
    "predictions = model.predict(X) \n",
    " \n",
    "print_model = model.summary()\n",
    "print(print_model)\n"
   ]
  },
  {
   "cell_type": "markdown",
   "metadata": {},
   "source": [
    "You can visualise a multi-linear coefficient with PLotly:"
   ]
  },
  {
   "cell_type": "code",
   "execution_count": 11,
   "metadata": {},
   "outputs": [
    {
     "name": "stdout",
     "output_type": "stream",
     "text": [
      "[-0.09475934  0.24967968  0.2409481  -0.57199965  0.08622808  0.48577157]\n"
     ]
    },
    {
     "data": {
      "application/vnd.plotly.v1+json": {
       "config": {
        "plotlyServerURL": "https://plot.ly"
       },
       "data": [
        {
         "alignmentgroup": "True",
         "hovertemplate": "color=Negative<br>Feature=%{x}<br>Linear coefficient=%{y}<extra></extra>",
         "legendgroup": "Negative",
         "marker": {
          "color": "red"
         },
         "name": "Negative",
         "offsetgroup": "Negative",
         "orientation": "v",
         "showlegend": true,
         "textposition": "auto",
         "type": "bar",
         "x": [
          "sepal_length",
          "species=setosa"
         ],
         "xaxis": "x",
         "y": [
          -0.0947593353958179,
          -0.5719996518147522
         ],
         "yaxis": "y"
        },
        {
         "alignmentgroup": "True",
         "hovertemplate": "color=Positive<br>Feature=%{x}<br>Linear coefficient=%{y}<extra></extra>",
         "legendgroup": "Positive",
         "marker": {
          "color": "blue"
         },
         "name": "Positive",
         "offsetgroup": "Positive",
         "orientation": "v",
         "showlegend": true,
         "textposition": "auto",
         "type": "bar",
         "x": [
          "sepal_width",
          "petal_length",
          "species=versicolor",
          "species=virginica"
         ],
         "xaxis": "x",
         "y": [
          0.24967968452123224,
          0.2409480985716479,
          0.08622808206678977,
          0.4857715697479624
         ],
         "yaxis": "y"
        }
       ],
       "layout": {
        "barmode": "relative",
        "legend": {
         "title": {
          "text": "color"
         },
         "tracegroupgap": 0
        },
        "template": {
         "data": {
          "bar": [
           {
            "error_x": {
             "color": "#2a3f5f"
            },
            "error_y": {
             "color": "#2a3f5f"
            },
            "marker": {
             "line": {
              "color": "#E5ECF6",
              "width": 0.5
             }
            },
            "type": "bar"
           }
          ],
          "barpolar": [
           {
            "marker": {
             "line": {
              "color": "#E5ECF6",
              "width": 0.5
             }
            },
            "type": "barpolar"
           }
          ],
          "carpet": [
           {
            "aaxis": {
             "endlinecolor": "#2a3f5f",
             "gridcolor": "white",
             "linecolor": "white",
             "minorgridcolor": "white",
             "startlinecolor": "#2a3f5f"
            },
            "baxis": {
             "endlinecolor": "#2a3f5f",
             "gridcolor": "white",
             "linecolor": "white",
             "minorgridcolor": "white",
             "startlinecolor": "#2a3f5f"
            },
            "type": "carpet"
           }
          ],
          "choropleth": [
           {
            "colorbar": {
             "outlinewidth": 0,
             "ticks": ""
            },
            "type": "choropleth"
           }
          ],
          "contour": [
           {
            "colorbar": {
             "outlinewidth": 0,
             "ticks": ""
            },
            "colorscale": [
             [
              0,
              "#0d0887"
             ],
             [
              0.1111111111111111,
              "#46039f"
             ],
             [
              0.2222222222222222,
              "#7201a8"
             ],
             [
              0.3333333333333333,
              "#9c179e"
             ],
             [
              0.4444444444444444,
              "#bd3786"
             ],
             [
              0.5555555555555556,
              "#d8576b"
             ],
             [
              0.6666666666666666,
              "#ed7953"
             ],
             [
              0.7777777777777778,
              "#fb9f3a"
             ],
             [
              0.8888888888888888,
              "#fdca26"
             ],
             [
              1,
              "#f0f921"
             ]
            ],
            "type": "contour"
           }
          ],
          "contourcarpet": [
           {
            "colorbar": {
             "outlinewidth": 0,
             "ticks": ""
            },
            "type": "contourcarpet"
           }
          ],
          "heatmap": [
           {
            "colorbar": {
             "outlinewidth": 0,
             "ticks": ""
            },
            "colorscale": [
             [
              0,
              "#0d0887"
             ],
             [
              0.1111111111111111,
              "#46039f"
             ],
             [
              0.2222222222222222,
              "#7201a8"
             ],
             [
              0.3333333333333333,
              "#9c179e"
             ],
             [
              0.4444444444444444,
              "#bd3786"
             ],
             [
              0.5555555555555556,
              "#d8576b"
             ],
             [
              0.6666666666666666,
              "#ed7953"
             ],
             [
              0.7777777777777778,
              "#fb9f3a"
             ],
             [
              0.8888888888888888,
              "#fdca26"
             ],
             [
              1,
              "#f0f921"
             ]
            ],
            "type": "heatmap"
           }
          ],
          "heatmapgl": [
           {
            "colorbar": {
             "outlinewidth": 0,
             "ticks": ""
            },
            "colorscale": [
             [
              0,
              "#0d0887"
             ],
             [
              0.1111111111111111,
              "#46039f"
             ],
             [
              0.2222222222222222,
              "#7201a8"
             ],
             [
              0.3333333333333333,
              "#9c179e"
             ],
             [
              0.4444444444444444,
              "#bd3786"
             ],
             [
              0.5555555555555556,
              "#d8576b"
             ],
             [
              0.6666666666666666,
              "#ed7953"
             ],
             [
              0.7777777777777778,
              "#fb9f3a"
             ],
             [
              0.8888888888888888,
              "#fdca26"
             ],
             [
              1,
              "#f0f921"
             ]
            ],
            "type": "heatmapgl"
           }
          ],
          "histogram": [
           {
            "marker": {
             "colorbar": {
              "outlinewidth": 0,
              "ticks": ""
             }
            },
            "type": "histogram"
           }
          ],
          "histogram2d": [
           {
            "colorbar": {
             "outlinewidth": 0,
             "ticks": ""
            },
            "colorscale": [
             [
              0,
              "#0d0887"
             ],
             [
              0.1111111111111111,
              "#46039f"
             ],
             [
              0.2222222222222222,
              "#7201a8"
             ],
             [
              0.3333333333333333,
              "#9c179e"
             ],
             [
              0.4444444444444444,
              "#bd3786"
             ],
             [
              0.5555555555555556,
              "#d8576b"
             ],
             [
              0.6666666666666666,
              "#ed7953"
             ],
             [
              0.7777777777777778,
              "#fb9f3a"
             ],
             [
              0.8888888888888888,
              "#fdca26"
             ],
             [
              1,
              "#f0f921"
             ]
            ],
            "type": "histogram2d"
           }
          ],
          "histogram2dcontour": [
           {
            "colorbar": {
             "outlinewidth": 0,
             "ticks": ""
            },
            "colorscale": [
             [
              0,
              "#0d0887"
             ],
             [
              0.1111111111111111,
              "#46039f"
             ],
             [
              0.2222222222222222,
              "#7201a8"
             ],
             [
              0.3333333333333333,
              "#9c179e"
             ],
             [
              0.4444444444444444,
              "#bd3786"
             ],
             [
              0.5555555555555556,
              "#d8576b"
             ],
             [
              0.6666666666666666,
              "#ed7953"
             ],
             [
              0.7777777777777778,
              "#fb9f3a"
             ],
             [
              0.8888888888888888,
              "#fdca26"
             ],
             [
              1,
              "#f0f921"
             ]
            ],
            "type": "histogram2dcontour"
           }
          ],
          "mesh3d": [
           {
            "colorbar": {
             "outlinewidth": 0,
             "ticks": ""
            },
            "type": "mesh3d"
           }
          ],
          "parcoords": [
           {
            "line": {
             "colorbar": {
              "outlinewidth": 0,
              "ticks": ""
             }
            },
            "type": "parcoords"
           }
          ],
          "pie": [
           {
            "automargin": true,
            "type": "pie"
           }
          ],
          "scatter": [
           {
            "marker": {
             "colorbar": {
              "outlinewidth": 0,
              "ticks": ""
             }
            },
            "type": "scatter"
           }
          ],
          "scatter3d": [
           {
            "line": {
             "colorbar": {
              "outlinewidth": 0,
              "ticks": ""
             }
            },
            "marker": {
             "colorbar": {
              "outlinewidth": 0,
              "ticks": ""
             }
            },
            "type": "scatter3d"
           }
          ],
          "scattercarpet": [
           {
            "marker": {
             "colorbar": {
              "outlinewidth": 0,
              "ticks": ""
             }
            },
            "type": "scattercarpet"
           }
          ],
          "scattergeo": [
           {
            "marker": {
             "colorbar": {
              "outlinewidth": 0,
              "ticks": ""
             }
            },
            "type": "scattergeo"
           }
          ],
          "scattergl": [
           {
            "marker": {
             "colorbar": {
              "outlinewidth": 0,
              "ticks": ""
             }
            },
            "type": "scattergl"
           }
          ],
          "scattermapbox": [
           {
            "marker": {
             "colorbar": {
              "outlinewidth": 0,
              "ticks": ""
             }
            },
            "type": "scattermapbox"
           }
          ],
          "scatterpolar": [
           {
            "marker": {
             "colorbar": {
              "outlinewidth": 0,
              "ticks": ""
             }
            },
            "type": "scatterpolar"
           }
          ],
          "scatterpolargl": [
           {
            "marker": {
             "colorbar": {
              "outlinewidth": 0,
              "ticks": ""
             }
            },
            "type": "scatterpolargl"
           }
          ],
          "scatterternary": [
           {
            "marker": {
             "colorbar": {
              "outlinewidth": 0,
              "ticks": ""
             }
            },
            "type": "scatterternary"
           }
          ],
          "surface": [
           {
            "colorbar": {
             "outlinewidth": 0,
             "ticks": ""
            },
            "colorscale": [
             [
              0,
              "#0d0887"
             ],
             [
              0.1111111111111111,
              "#46039f"
             ],
             [
              0.2222222222222222,
              "#7201a8"
             ],
             [
              0.3333333333333333,
              "#9c179e"
             ],
             [
              0.4444444444444444,
              "#bd3786"
             ],
             [
              0.5555555555555556,
              "#d8576b"
             ],
             [
              0.6666666666666666,
              "#ed7953"
             ],
             [
              0.7777777777777778,
              "#fb9f3a"
             ],
             [
              0.8888888888888888,
              "#fdca26"
             ],
             [
              1,
              "#f0f921"
             ]
            ],
            "type": "surface"
           }
          ],
          "table": [
           {
            "cells": {
             "fill": {
              "color": "#EBF0F8"
             },
             "line": {
              "color": "white"
             }
            },
            "header": {
             "fill": {
              "color": "#C8D4E3"
             },
             "line": {
              "color": "white"
             }
            },
            "type": "table"
           }
          ]
         },
         "layout": {
          "annotationdefaults": {
           "arrowcolor": "#2a3f5f",
           "arrowhead": 0,
           "arrowwidth": 1
          },
          "autotypenumbers": "strict",
          "coloraxis": {
           "colorbar": {
            "outlinewidth": 0,
            "ticks": ""
           }
          },
          "colorscale": {
           "diverging": [
            [
             0,
             "#8e0152"
            ],
            [
             0.1,
             "#c51b7d"
            ],
            [
             0.2,
             "#de77ae"
            ],
            [
             0.3,
             "#f1b6da"
            ],
            [
             0.4,
             "#fde0ef"
            ],
            [
             0.5,
             "#f7f7f7"
            ],
            [
             0.6,
             "#e6f5d0"
            ],
            [
             0.7,
             "#b8e186"
            ],
            [
             0.8,
             "#7fbc41"
            ],
            [
             0.9,
             "#4d9221"
            ],
            [
             1,
             "#276419"
            ]
           ],
           "sequential": [
            [
             0,
             "#0d0887"
            ],
            [
             0.1111111111111111,
             "#46039f"
            ],
            [
             0.2222222222222222,
             "#7201a8"
            ],
            [
             0.3333333333333333,
             "#9c179e"
            ],
            [
             0.4444444444444444,
             "#bd3786"
            ],
            [
             0.5555555555555556,
             "#d8576b"
            ],
            [
             0.6666666666666666,
             "#ed7953"
            ],
            [
             0.7777777777777778,
             "#fb9f3a"
            ],
            [
             0.8888888888888888,
             "#fdca26"
            ],
            [
             1,
             "#f0f921"
            ]
           ],
           "sequentialminus": [
            [
             0,
             "#0d0887"
            ],
            [
             0.1111111111111111,
             "#46039f"
            ],
            [
             0.2222222222222222,
             "#7201a8"
            ],
            [
             0.3333333333333333,
             "#9c179e"
            ],
            [
             0.4444444444444444,
             "#bd3786"
            ],
            [
             0.5555555555555556,
             "#d8576b"
            ],
            [
             0.6666666666666666,
             "#ed7953"
            ],
            [
             0.7777777777777778,
             "#fb9f3a"
            ],
            [
             0.8888888888888888,
             "#fdca26"
            ],
            [
             1,
             "#f0f921"
            ]
           ]
          },
          "colorway": [
           "#636efa",
           "#EF553B",
           "#00cc96",
           "#ab63fa",
           "#FFA15A",
           "#19d3f3",
           "#FF6692",
           "#B6E880",
           "#FF97FF",
           "#FECB52"
          ],
          "font": {
           "color": "#2a3f5f"
          },
          "geo": {
           "bgcolor": "white",
           "lakecolor": "white",
           "landcolor": "#E5ECF6",
           "showlakes": true,
           "showland": true,
           "subunitcolor": "white"
          },
          "hoverlabel": {
           "align": "left"
          },
          "hovermode": "closest",
          "mapbox": {
           "style": "light"
          },
          "paper_bgcolor": "white",
          "plot_bgcolor": "#E5ECF6",
          "polar": {
           "angularaxis": {
            "gridcolor": "white",
            "linecolor": "white",
            "ticks": ""
           },
           "bgcolor": "#E5ECF6",
           "radialaxis": {
            "gridcolor": "white",
            "linecolor": "white",
            "ticks": ""
           }
          },
          "scene": {
           "xaxis": {
            "backgroundcolor": "#E5ECF6",
            "gridcolor": "white",
            "gridwidth": 2,
            "linecolor": "white",
            "showbackground": true,
            "ticks": "",
            "zerolinecolor": "white"
           },
           "yaxis": {
            "backgroundcolor": "#E5ECF6",
            "gridcolor": "white",
            "gridwidth": 2,
            "linecolor": "white",
            "showbackground": true,
            "ticks": "",
            "zerolinecolor": "white"
           },
           "zaxis": {
            "backgroundcolor": "#E5ECF6",
            "gridcolor": "white",
            "gridwidth": 2,
            "linecolor": "white",
            "showbackground": true,
            "ticks": "",
            "zerolinecolor": "white"
           }
          },
          "shapedefaults": {
           "line": {
            "color": "#2a3f5f"
           }
          },
          "ternary": {
           "aaxis": {
            "gridcolor": "white",
            "linecolor": "white",
            "ticks": ""
           },
           "baxis": {
            "gridcolor": "white",
            "linecolor": "white",
            "ticks": ""
           },
           "bgcolor": "#E5ECF6",
           "caxis": {
            "gridcolor": "white",
            "linecolor": "white",
            "ticks": ""
           }
          },
          "title": {
           "x": 0.05
          },
          "xaxis": {
           "automargin": true,
           "gridcolor": "white",
           "linecolor": "white",
           "ticks": "",
           "title": {
            "standoff": 15
           },
           "zerolinecolor": "white",
           "zerolinewidth": 2
          },
          "yaxis": {
           "automargin": true,
           "gridcolor": "white",
           "linecolor": "white",
           "ticks": "",
           "title": {
            "standoff": 15
           },
           "zerolinecolor": "white",
           "zerolinewidth": 2
          }
         }
        },
        "title": {
         "text": "Weight of each feature for predicting petal width"
        },
        "xaxis": {
         "anchor": "y",
         "domain": [
          0,
          1
         ],
         "title": {
          "text": "Feature"
         }
        },
        "yaxis": {
         "anchor": "x",
         "domain": [
          0,
          1
         ],
         "title": {
          "text": "Linear coefficient"
         }
        }
       }
      },
      "text/html": [
       "<div>                            <div id=\"df4e2bfb-18a4-4a82-b28d-e3ba0096aa07\" class=\"plotly-graph-div\" style=\"height:525px; width:100%;\"></div>            <script type=\"text/javascript\">                require([\"plotly\"], function(Plotly) {                    window.PLOTLYENV=window.PLOTLYENV || {};                                    if (document.getElementById(\"df4e2bfb-18a4-4a82-b28d-e3ba0096aa07\")) {                    Plotly.newPlot(                        \"df4e2bfb-18a4-4a82-b28d-e3ba0096aa07\",                        [{\"alignmentgroup\": \"True\", \"hovertemplate\": \"color=Negative<br>Feature=%{x}<br>Linear coefficient=%{y}<extra></extra>\", \"legendgroup\": \"Negative\", \"marker\": {\"color\": \"red\"}, \"name\": \"Negative\", \"offsetgroup\": \"Negative\", \"orientation\": \"v\", \"showlegend\": true, \"textposition\": \"auto\", \"type\": \"bar\", \"x\": [\"sepal_length\", \"species=setosa\"], \"xaxis\": \"x\", \"y\": [-0.0947593353958179, -0.5719996518147522], \"yaxis\": \"y\"}, {\"alignmentgroup\": \"True\", \"hovertemplate\": \"color=Positive<br>Feature=%{x}<br>Linear coefficient=%{y}<extra></extra>\", \"legendgroup\": \"Positive\", \"marker\": {\"color\": \"blue\"}, \"name\": \"Positive\", \"offsetgroup\": \"Positive\", \"orientation\": \"v\", \"showlegend\": true, \"textposition\": \"auto\", \"type\": \"bar\", \"x\": [\"sepal_width\", \"petal_length\", \"species=versicolor\", \"species=virginica\"], \"xaxis\": \"x\", \"y\": [0.24967968452123224, 0.2409480985716479, 0.08622808206678977, 0.4857715697479624], \"yaxis\": \"y\"}],                        {\"barmode\": \"relative\", \"legend\": {\"title\": {\"text\": \"color\"}, \"tracegroupgap\": 0}, \"template\": {\"data\": {\"bar\": [{\"error_x\": {\"color\": \"#2a3f5f\"}, \"error_y\": {\"color\": \"#2a3f5f\"}, \"marker\": {\"line\": {\"color\": \"#E5ECF6\", \"width\": 0.5}}, \"type\": \"bar\"}], \"barpolar\": [{\"marker\": {\"line\": {\"color\": \"#E5ECF6\", \"width\": 0.5}}, \"type\": \"barpolar\"}], \"carpet\": [{\"aaxis\": {\"endlinecolor\": \"#2a3f5f\", \"gridcolor\": \"white\", \"linecolor\": \"white\", \"minorgridcolor\": \"white\", \"startlinecolor\": \"#2a3f5f\"}, \"baxis\": {\"endlinecolor\": \"#2a3f5f\", \"gridcolor\": \"white\", \"linecolor\": \"white\", \"minorgridcolor\": \"white\", \"startlinecolor\": \"#2a3f5f\"}, \"type\": \"carpet\"}], \"choropleth\": [{\"colorbar\": {\"outlinewidth\": 0, \"ticks\": \"\"}, \"type\": \"choropleth\"}], \"contour\": [{\"colorbar\": {\"outlinewidth\": 0, \"ticks\": \"\"}, \"colorscale\": [[0.0, \"#0d0887\"], [0.1111111111111111, \"#46039f\"], [0.2222222222222222, \"#7201a8\"], [0.3333333333333333, \"#9c179e\"], [0.4444444444444444, \"#bd3786\"], [0.5555555555555556, \"#d8576b\"], [0.6666666666666666, \"#ed7953\"], [0.7777777777777778, \"#fb9f3a\"], [0.8888888888888888, \"#fdca26\"], [1.0, \"#f0f921\"]], \"type\": \"contour\"}], \"contourcarpet\": [{\"colorbar\": {\"outlinewidth\": 0, \"ticks\": \"\"}, \"type\": \"contourcarpet\"}], \"heatmap\": [{\"colorbar\": {\"outlinewidth\": 0, \"ticks\": \"\"}, \"colorscale\": [[0.0, \"#0d0887\"], [0.1111111111111111, \"#46039f\"], [0.2222222222222222, \"#7201a8\"], [0.3333333333333333, \"#9c179e\"], [0.4444444444444444, \"#bd3786\"], [0.5555555555555556, \"#d8576b\"], [0.6666666666666666, \"#ed7953\"], [0.7777777777777778, \"#fb9f3a\"], [0.8888888888888888, \"#fdca26\"], [1.0, \"#f0f921\"]], \"type\": \"heatmap\"}], \"heatmapgl\": [{\"colorbar\": {\"outlinewidth\": 0, \"ticks\": \"\"}, \"colorscale\": [[0.0, \"#0d0887\"], [0.1111111111111111, \"#46039f\"], [0.2222222222222222, \"#7201a8\"], [0.3333333333333333, \"#9c179e\"], [0.4444444444444444, \"#bd3786\"], [0.5555555555555556, \"#d8576b\"], [0.6666666666666666, \"#ed7953\"], [0.7777777777777778, \"#fb9f3a\"], [0.8888888888888888, \"#fdca26\"], [1.0, \"#f0f921\"]], \"type\": \"heatmapgl\"}], \"histogram\": [{\"marker\": {\"colorbar\": {\"outlinewidth\": 0, \"ticks\": \"\"}}, \"type\": \"histogram\"}], \"histogram2d\": [{\"colorbar\": {\"outlinewidth\": 0, \"ticks\": \"\"}, \"colorscale\": [[0.0, \"#0d0887\"], [0.1111111111111111, \"#46039f\"], [0.2222222222222222, \"#7201a8\"], [0.3333333333333333, \"#9c179e\"], [0.4444444444444444, \"#bd3786\"], [0.5555555555555556, \"#d8576b\"], [0.6666666666666666, \"#ed7953\"], [0.7777777777777778, \"#fb9f3a\"], [0.8888888888888888, \"#fdca26\"], [1.0, \"#f0f921\"]], \"type\": \"histogram2d\"}], \"histogram2dcontour\": [{\"colorbar\": {\"outlinewidth\": 0, \"ticks\": \"\"}, \"colorscale\": [[0.0, \"#0d0887\"], [0.1111111111111111, \"#46039f\"], [0.2222222222222222, \"#7201a8\"], [0.3333333333333333, \"#9c179e\"], [0.4444444444444444, \"#bd3786\"], [0.5555555555555556, \"#d8576b\"], [0.6666666666666666, \"#ed7953\"], [0.7777777777777778, \"#fb9f3a\"], [0.8888888888888888, \"#fdca26\"], [1.0, \"#f0f921\"]], \"type\": \"histogram2dcontour\"}], \"mesh3d\": [{\"colorbar\": {\"outlinewidth\": 0, \"ticks\": \"\"}, \"type\": \"mesh3d\"}], \"parcoords\": [{\"line\": {\"colorbar\": {\"outlinewidth\": 0, \"ticks\": \"\"}}, \"type\": \"parcoords\"}], \"pie\": [{\"automargin\": true, \"type\": \"pie\"}], \"scatter\": [{\"marker\": {\"colorbar\": {\"outlinewidth\": 0, \"ticks\": \"\"}}, \"type\": \"scatter\"}], \"scatter3d\": [{\"line\": {\"colorbar\": {\"outlinewidth\": 0, \"ticks\": \"\"}}, \"marker\": {\"colorbar\": {\"outlinewidth\": 0, \"ticks\": \"\"}}, \"type\": \"scatter3d\"}], \"scattercarpet\": [{\"marker\": {\"colorbar\": {\"outlinewidth\": 0, \"ticks\": \"\"}}, \"type\": \"scattercarpet\"}], \"scattergeo\": [{\"marker\": {\"colorbar\": {\"outlinewidth\": 0, \"ticks\": \"\"}}, \"type\": \"scattergeo\"}], \"scattergl\": [{\"marker\": {\"colorbar\": {\"outlinewidth\": 0, \"ticks\": \"\"}}, \"type\": \"scattergl\"}], \"scattermapbox\": [{\"marker\": {\"colorbar\": {\"outlinewidth\": 0, \"ticks\": \"\"}}, \"type\": \"scattermapbox\"}], \"scatterpolar\": [{\"marker\": {\"colorbar\": {\"outlinewidth\": 0, \"ticks\": \"\"}}, \"type\": \"scatterpolar\"}], \"scatterpolargl\": [{\"marker\": {\"colorbar\": {\"outlinewidth\": 0, \"ticks\": \"\"}}, \"type\": \"scatterpolargl\"}], \"scatterternary\": [{\"marker\": {\"colorbar\": {\"outlinewidth\": 0, \"ticks\": \"\"}}, \"type\": \"scatterternary\"}], \"surface\": [{\"colorbar\": {\"outlinewidth\": 0, \"ticks\": \"\"}, \"colorscale\": [[0.0, \"#0d0887\"], [0.1111111111111111, \"#46039f\"], [0.2222222222222222, \"#7201a8\"], [0.3333333333333333, \"#9c179e\"], [0.4444444444444444, \"#bd3786\"], [0.5555555555555556, \"#d8576b\"], [0.6666666666666666, \"#ed7953\"], [0.7777777777777778, \"#fb9f3a\"], [0.8888888888888888, \"#fdca26\"], [1.0, \"#f0f921\"]], \"type\": \"surface\"}], \"table\": [{\"cells\": {\"fill\": {\"color\": \"#EBF0F8\"}, \"line\": {\"color\": \"white\"}}, \"header\": {\"fill\": {\"color\": \"#C8D4E3\"}, \"line\": {\"color\": \"white\"}}, \"type\": \"table\"}]}, \"layout\": {\"annotationdefaults\": {\"arrowcolor\": \"#2a3f5f\", \"arrowhead\": 0, \"arrowwidth\": 1}, \"autotypenumbers\": \"strict\", \"coloraxis\": {\"colorbar\": {\"outlinewidth\": 0, \"ticks\": \"\"}}, \"colorscale\": {\"diverging\": [[0, \"#8e0152\"], [0.1, \"#c51b7d\"], [0.2, \"#de77ae\"], [0.3, \"#f1b6da\"], [0.4, \"#fde0ef\"], [0.5, \"#f7f7f7\"], [0.6, \"#e6f5d0\"], [0.7, \"#b8e186\"], [0.8, \"#7fbc41\"], [0.9, \"#4d9221\"], [1, \"#276419\"]], \"sequential\": [[0.0, \"#0d0887\"], [0.1111111111111111, \"#46039f\"], [0.2222222222222222, \"#7201a8\"], [0.3333333333333333, \"#9c179e\"], [0.4444444444444444, \"#bd3786\"], [0.5555555555555556, \"#d8576b\"], [0.6666666666666666, \"#ed7953\"], [0.7777777777777778, \"#fb9f3a\"], [0.8888888888888888, \"#fdca26\"], [1.0, \"#f0f921\"]], \"sequentialminus\": [[0.0, \"#0d0887\"], [0.1111111111111111, \"#46039f\"], [0.2222222222222222, \"#7201a8\"], [0.3333333333333333, \"#9c179e\"], [0.4444444444444444, \"#bd3786\"], [0.5555555555555556, \"#d8576b\"], [0.6666666666666666, \"#ed7953\"], [0.7777777777777778, \"#fb9f3a\"], [0.8888888888888888, \"#fdca26\"], [1.0, \"#f0f921\"]]}, \"colorway\": [\"#636efa\", \"#EF553B\", \"#00cc96\", \"#ab63fa\", \"#FFA15A\", \"#19d3f3\", \"#FF6692\", \"#B6E880\", \"#FF97FF\", \"#FECB52\"], \"font\": {\"color\": \"#2a3f5f\"}, \"geo\": {\"bgcolor\": \"white\", \"lakecolor\": \"white\", \"landcolor\": \"#E5ECF6\", \"showlakes\": true, \"showland\": true, \"subunitcolor\": \"white\"}, \"hoverlabel\": {\"align\": \"left\"}, \"hovermode\": \"closest\", \"mapbox\": {\"style\": \"light\"}, \"paper_bgcolor\": \"white\", \"plot_bgcolor\": \"#E5ECF6\", \"polar\": {\"angularaxis\": {\"gridcolor\": \"white\", \"linecolor\": \"white\", \"ticks\": \"\"}, \"bgcolor\": \"#E5ECF6\", \"radialaxis\": {\"gridcolor\": \"white\", \"linecolor\": \"white\", \"ticks\": \"\"}}, \"scene\": {\"xaxis\": {\"backgroundcolor\": \"#E5ECF6\", \"gridcolor\": \"white\", \"gridwidth\": 2, \"linecolor\": \"white\", \"showbackground\": true, \"ticks\": \"\", \"zerolinecolor\": \"white\"}, \"yaxis\": {\"backgroundcolor\": \"#E5ECF6\", \"gridcolor\": \"white\", \"gridwidth\": 2, \"linecolor\": \"white\", \"showbackground\": true, \"ticks\": \"\", \"zerolinecolor\": \"white\"}, \"zaxis\": {\"backgroundcolor\": \"#E5ECF6\", \"gridcolor\": \"white\", \"gridwidth\": 2, \"linecolor\": \"white\", \"showbackground\": true, \"ticks\": \"\", \"zerolinecolor\": \"white\"}}, \"shapedefaults\": {\"line\": {\"color\": \"#2a3f5f\"}}, \"ternary\": {\"aaxis\": {\"gridcolor\": \"white\", \"linecolor\": \"white\", \"ticks\": \"\"}, \"baxis\": {\"gridcolor\": \"white\", \"linecolor\": \"white\", \"ticks\": \"\"}, \"bgcolor\": \"#E5ECF6\", \"caxis\": {\"gridcolor\": \"white\", \"linecolor\": \"white\", \"ticks\": \"\"}}, \"title\": {\"x\": 0.05}, \"xaxis\": {\"automargin\": true, \"gridcolor\": \"white\", \"linecolor\": \"white\", \"ticks\": \"\", \"title\": {\"standoff\": 15}, \"zerolinecolor\": \"white\", \"zerolinewidth\": 2}, \"yaxis\": {\"automargin\": true, \"gridcolor\": \"white\", \"linecolor\": \"white\", \"ticks\": \"\", \"title\": {\"standoff\": 15}, \"zerolinecolor\": \"white\", \"zerolinewidth\": 2}}}, \"title\": {\"text\": \"Weight of each feature for predicting petal width\"}, \"xaxis\": {\"anchor\": \"y\", \"domain\": [0.0, 1.0], \"title\": {\"text\": \"Feature\"}}, \"yaxis\": {\"anchor\": \"x\", \"domain\": [0.0, 1.0], \"title\": {\"text\": \"Linear coefficient\"}}},                        {\"responsive\": true}                    ).then(function(){\n",
       "                            \n",
       "var gd = document.getElementById('df4e2bfb-18a4-4a82-b28d-e3ba0096aa07');\n",
       "var x = new MutationObserver(function (mutations, observer) {{\n",
       "        var display = window.getComputedStyle(gd).display;\n",
       "        if (!display || display === 'none') {{\n",
       "            console.log([gd, 'removed!']);\n",
       "            Plotly.purge(gd);\n",
       "            observer.disconnect();\n",
       "        }}\n",
       "}});\n",
       "\n",
       "// Listen for the removal of the full notebook cells\n",
       "var notebookContainer = gd.closest('#notebook-container');\n",
       "if (notebookContainer) {{\n",
       "    x.observe(notebookContainer, {childList: true});\n",
       "}}\n",
       "\n",
       "// Listen for the clearing of the current output cell\n",
       "var outputEl = gd.closest('.output');\n",
       "if (outputEl) {{\n",
       "    x.observe(outputEl, {childList: true});\n",
       "}}\n",
       "\n",
       "                        })                };                });            </script>        </div>"
      ]
     },
     "metadata": {},
     "output_type": "display_data"
    }
   ],
   "source": [
    "# https://plotly.com/python/ml-regression/\n",
    "# https://plotly.com/python/ml-regression/\n",
    "    \n",
    "import pandas as pd\n",
    "import plotly.express as px\n",
    "import plotly.graph_objects as go\n",
    "from sklearn.linear_model import LinearRegression\n",
    "\n",
    "df = px.data.iris()\n",
    "\n",
    "X = df.drop(columns=['petal_width', 'species_id'])\n",
    "X = pd.get_dummies(X, columns=['species'], prefix_sep='=')\n",
    "y = df['petal_width']\n",
    "\n",
    "model = LinearRegression()\n",
    "model.fit(X, y)\n",
    "\n",
    "colors = ['Positive' if c > 0 else 'Negative' for c in model.coef_]\n",
    "\n",
    "print(model.coef_)\n",
    "\n",
    "fig = px.bar(\n",
    "    x=X.columns, y=model.coef_, color=colors,\n",
    "    color_discrete_sequence=['red', 'blue'],\n",
    "    labels=dict(x='Feature', y='Linear coefficient'),\n",
    "    title='Weight of each feature for predicting petal width'\n",
    ")\n",
    "fig.show()"
   ]
  },
  {
   "cell_type": "code",
   "execution_count": 4,
   "metadata": {},
   "outputs": [
    {
     "data": {
      "text/html": [
       "<div>\n",
       "<style scoped>\n",
       "    .dataframe tbody tr th:only-of-type {\n",
       "        vertical-align: middle;\n",
       "    }\n",
       "\n",
       "    .dataframe tbody tr th {\n",
       "        vertical-align: top;\n",
       "    }\n",
       "\n",
       "    .dataframe thead th {\n",
       "        text-align: right;\n",
       "    }\n",
       "</style>\n",
       "<table border=\"1\" class=\"dataframe\">\n",
       "  <thead>\n",
       "    <tr style=\"text-align: right;\">\n",
       "      <th></th>\n",
       "      <th>sepal_length</th>\n",
       "      <th>sepal_width</th>\n",
       "      <th>petal_length</th>\n",
       "      <th>petal_width</th>\n",
       "      <th>species</th>\n",
       "      <th>species_id</th>\n",
       "    </tr>\n",
       "  </thead>\n",
       "  <tbody>\n",
       "    <tr>\n",
       "      <th>0</th>\n",
       "      <td>5.1</td>\n",
       "      <td>3.5</td>\n",
       "      <td>1.4</td>\n",
       "      <td>0.2</td>\n",
       "      <td>setosa</td>\n",
       "      <td>1</td>\n",
       "    </tr>\n",
       "    <tr>\n",
       "      <th>1</th>\n",
       "      <td>4.9</td>\n",
       "      <td>3.0</td>\n",
       "      <td>1.4</td>\n",
       "      <td>0.2</td>\n",
       "      <td>setosa</td>\n",
       "      <td>1</td>\n",
       "    </tr>\n",
       "    <tr>\n",
       "      <th>2</th>\n",
       "      <td>4.7</td>\n",
       "      <td>3.2</td>\n",
       "      <td>1.3</td>\n",
       "      <td>0.2</td>\n",
       "      <td>setosa</td>\n",
       "      <td>1</td>\n",
       "    </tr>\n",
       "    <tr>\n",
       "      <th>3</th>\n",
       "      <td>4.6</td>\n",
       "      <td>3.1</td>\n",
       "      <td>1.5</td>\n",
       "      <td>0.2</td>\n",
       "      <td>setosa</td>\n",
       "      <td>1</td>\n",
       "    </tr>\n",
       "    <tr>\n",
       "      <th>4</th>\n",
       "      <td>5.0</td>\n",
       "      <td>3.6</td>\n",
       "      <td>1.4</td>\n",
       "      <td>0.2</td>\n",
       "      <td>setosa</td>\n",
       "      <td>1</td>\n",
       "    </tr>\n",
       "  </tbody>\n",
       "</table>\n",
       "</div>"
      ],
      "text/plain": [
       "   sepal_length  sepal_width  petal_length  petal_width species  species_id\n",
       "0           5.1          3.5           1.4          0.2  setosa           1\n",
       "1           4.9          3.0           1.4          0.2  setosa           1\n",
       "2           4.7          3.2           1.3          0.2  setosa           1\n",
       "3           4.6          3.1           1.5          0.2  setosa           1\n",
       "4           5.0          3.6           1.4          0.2  setosa           1"
      ]
     },
     "execution_count": 4,
     "metadata": {},
     "output_type": "execute_result"
    }
   ],
   "source": [
    "df.head(5)"
   ]
  },
  {
   "cell_type": "code",
   "execution_count": 6,
   "metadata": {},
   "outputs": [
    {
     "data": {
      "text/html": [
       "<div>\n",
       "<style scoped>\n",
       "    .dataframe tbody tr th:only-of-type {\n",
       "        vertical-align: middle;\n",
       "    }\n",
       "\n",
       "    .dataframe tbody tr th {\n",
       "        vertical-align: top;\n",
       "    }\n",
       "\n",
       "    .dataframe thead th {\n",
       "        text-align: right;\n",
       "    }\n",
       "</style>\n",
       "<table border=\"1\" class=\"dataframe\">\n",
       "  <thead>\n",
       "    <tr style=\"text-align: right;\">\n",
       "      <th></th>\n",
       "      <th>sepal_length</th>\n",
       "      <th>sepal_width</th>\n",
       "      <th>petal_length</th>\n",
       "      <th>species=setosa</th>\n",
       "      <th>species=versicolor</th>\n",
       "      <th>species=virginica</th>\n",
       "    </tr>\n",
       "  </thead>\n",
       "  <tbody>\n",
       "    <tr>\n",
       "      <th>0</th>\n",
       "      <td>5.1</td>\n",
       "      <td>3.5</td>\n",
       "      <td>1.4</td>\n",
       "      <td>1</td>\n",
       "      <td>0</td>\n",
       "      <td>0</td>\n",
       "    </tr>\n",
       "    <tr>\n",
       "      <th>1</th>\n",
       "      <td>4.9</td>\n",
       "      <td>3.0</td>\n",
       "      <td>1.4</td>\n",
       "      <td>1</td>\n",
       "      <td>0</td>\n",
       "      <td>0</td>\n",
       "    </tr>\n",
       "  </tbody>\n",
       "</table>\n",
       "</div>"
      ],
      "text/plain": [
       "   sepal_length  sepal_width  petal_length  species=setosa  \\\n",
       "0           5.1          3.5           1.4               1   \n",
       "1           4.9          3.0           1.4               1   \n",
       "\n",
       "   species=versicolor  species=virginica  \n",
       "0                   0                  0  \n",
       "1                   0                  0  "
      ]
     },
     "execution_count": 6,
     "metadata": {},
     "output_type": "execute_result"
    }
   ],
   "source": [
    "X.head(2)"
   ]
  },
  {
   "cell_type": "code",
   "execution_count": 9,
   "metadata": {
    "scrolled": true
   },
   "outputs": [
    {
     "data": {
      "text/plain": [
       "0      0.2\n",
       "1      0.2\n",
       "2      0.2\n",
       "3      0.2\n",
       "4      0.2\n",
       "      ... \n",
       "145    2.3\n",
       "146    1.9\n",
       "147    2.0\n",
       "148    2.3\n",
       "149    1.8\n",
       "Name: petal_width, Length: 150, dtype: float64"
      ]
     },
     "execution_count": 9,
     "metadata": {},
     "output_type": "execute_result"
    }
   ],
   "source": [
    "df['petal_width']"
   ]
  },
  {
   "cell_type": "code",
   "execution_count": 14,
   "metadata": {},
   "outputs": [
    {
     "data": {
      "text/html": [
       "<div>\n",
       "<style scoped>\n",
       "    .dataframe tbody tr th:only-of-type {\n",
       "        vertical-align: middle;\n",
       "    }\n",
       "\n",
       "    .dataframe tbody tr th {\n",
       "        vertical-align: top;\n",
       "    }\n",
       "\n",
       "    .dataframe thead th {\n",
       "        text-align: right;\n",
       "    }\n",
       "</style>\n",
       "<table border=\"1\" class=\"dataframe\">\n",
       "  <thead>\n",
       "    <tr style=\"text-align: right;\">\n",
       "      <th></th>\n",
       "      <th>Unnamed: 0</th>\n",
       "      <th>Year</th>\n",
       "      <th>Area Name</th>\n",
       "      <th>heathrow_distance</th>\n",
       "      <th>CCG_Poll_Map</th>\n",
       "      <th>Radius Location</th>\n",
       "      <th>LAT</th>\n",
       "      <th>LONG</th>\n",
       "      <th>Indicator Name</th>\n",
       "      <th>Value</th>\n",
       "      <th>Indicator Type</th>\n",
       "    </tr>\n",
       "  </thead>\n",
       "  <tbody>\n",
       "    <tr>\n",
       "      <th>0</th>\n",
       "      <td>0</td>\n",
       "      <td>2003</td>\n",
       "      <td>NHS Berkshire West CCG</td>\n",
       "      <td>49791.742293</td>\n",
       "      <td>Reading</td>\n",
       "      <td>Outer</td>\n",
       "      <td>51.4458</td>\n",
       "      <td>-1.16963</td>\n",
       "      <td>&lt;75 Coronary Heart Disease</td>\n",
       "      <td>57.82</td>\n",
       "      <td>Health - Mortality</td>\n",
       "    </tr>\n",
       "    <tr>\n",
       "      <th>1</th>\n",
       "      <td>1</td>\n",
       "      <td>2003</td>\n",
       "      <td>NHS Brent CCG</td>\n",
       "      <td>16247.542449</td>\n",
       "      <td>No Pollution Readings</td>\n",
       "      <td>Outer</td>\n",
       "      <td>51.5644</td>\n",
       "      <td>-0.27568</td>\n",
       "      <td>&lt;75 Coronary Heart Disease</td>\n",
       "      <td>76.04</td>\n",
       "      <td>Health - Mortality</td>\n",
       "    </tr>\n",
       "    <tr>\n",
       "      <th>2</th>\n",
       "      <td>2</td>\n",
       "      <td>2003</td>\n",
       "      <td>NHS Buckinghamshire CCG</td>\n",
       "      <td>38818.061527</td>\n",
       "      <td>No Pollution Readings</td>\n",
       "      <td>Outer</td>\n",
       "      <td>51.7414</td>\n",
       "      <td>-0.80644</td>\n",
       "      <td>&lt;75 Coronary Heart Disease</td>\n",
       "      <td>51.21</td>\n",
       "      <td>Health - Mortality</td>\n",
       "    </tr>\n",
       "    <tr>\n",
       "      <th>3</th>\n",
       "      <td>3</td>\n",
       "      <td>2003</td>\n",
       "      <td>NHS Croydon CCG</td>\n",
       "      <td>28645.840703</td>\n",
       "      <td>No Pollution Readings</td>\n",
       "      <td>Outer</td>\n",
       "      <td>51.3660</td>\n",
       "      <td>-0.07761</td>\n",
       "      <td>&lt;75 Coronary Heart Disease</td>\n",
       "      <td>65.63</td>\n",
       "      <td>Health - Mortality</td>\n",
       "    </tr>\n",
       "    <tr>\n",
       "      <th>4</th>\n",
       "      <td>4</td>\n",
       "      <td>2003</td>\n",
       "      <td>NHS Ealing CCG</td>\n",
       "      <td>11465.530929</td>\n",
       "      <td>Ealing</td>\n",
       "      <td>Inner</td>\n",
       "      <td>51.5244</td>\n",
       "      <td>-0.31405</td>\n",
       "      <td>&lt;75 Coronary Heart Disease</td>\n",
       "      <td>82.91</td>\n",
       "      <td>Health - Mortality</td>\n",
       "    </tr>\n",
       "  </tbody>\n",
       "</table>\n",
       "</div>"
      ],
      "text/plain": [
       "   Unnamed: 0  Year                Area Name  heathrow_distance  \\\n",
       "0           0  2003   NHS Berkshire West CCG       49791.742293   \n",
       "1           1  2003            NHS Brent CCG       16247.542449   \n",
       "2           2  2003  NHS Buckinghamshire CCG       38818.061527   \n",
       "3           3  2003          NHS Croydon CCG       28645.840703   \n",
       "4           4  2003           NHS Ealing CCG       11465.530929   \n",
       "\n",
       "            CCG_Poll_Map Radius Location      LAT     LONG  \\\n",
       "0                Reading           Outer  51.4458 -1.16963   \n",
       "1  No Pollution Readings           Outer  51.5644 -0.27568   \n",
       "2  No Pollution Readings           Outer  51.7414 -0.80644   \n",
       "3  No Pollution Readings           Outer  51.3660 -0.07761   \n",
       "4                 Ealing           Inner  51.5244 -0.31405   \n",
       "\n",
       "               Indicator Name  Value      Indicator Type  \n",
       "0  <75 Coronary Heart Disease  57.82  Health - Mortality  \n",
       "1  <75 Coronary Heart Disease  76.04  Health - Mortality  \n",
       "2  <75 Coronary Heart Disease  51.21  Health - Mortality  \n",
       "3  <75 Coronary Heart Disease  65.63  Health - Mortality  \n",
       "4  <75 Coronary Heart Disease  82.91  Health - Mortality  "
      ]
     },
     "execution_count": 14,
     "metadata": {},
     "output_type": "execute_result"
    }
   ],
   "source": [
    "df.head()"
   ]
  },
  {
   "cell_type": "code",
   "execution_count": 31,
   "metadata": {},
   "outputs": [
    {
     "data": {
      "text/html": [
       "<div>\n",
       "<style scoped>\n",
       "    .dataframe tbody tr th:only-of-type {\n",
       "        vertical-align: middle;\n",
       "    }\n",
       "\n",
       "    .dataframe tbody tr th {\n",
       "        vertical-align: top;\n",
       "    }\n",
       "\n",
       "    .dataframe thead th {\n",
       "        text-align: right;\n",
       "    }\n",
       "</style>\n",
       "<table border=\"1\" class=\"dataframe\">\n",
       "  <thead>\n",
       "    <tr style=\"text-align: right;\">\n",
       "      <th></th>\n",
       "      <th>Unnamed: 0</th>\n",
       "      <th>Year</th>\n",
       "      <th>Area Name</th>\n",
       "      <th>Radius Location</th>\n",
       "      <th>heathrow_distance</th>\n",
       "      <th>CCG_Poll_Map</th>\n",
       "      <th>LAT</th>\n",
       "      <th>LONG</th>\n",
       "      <th>&lt;75 Coronary Heart Disease</th>\n",
       "      <th>Asthma</th>\n",
       "      <th>Asthma Admissions Over 19yr</th>\n",
       "      <th>Asthma Admissions Under 19yr</th>\n",
       "      <th>Asthma Prevalence</th>\n",
       "      <th>Atrial Fibrillation Prevalence</th>\n",
       "      <th>CHD Admissions</th>\n",
       "      <th>CHD Prevalence</th>\n",
       "      <th>CKD Prevalence</th>\n",
       "      <th>COPD (contributory cause)</th>\n",
       "      <th>COPD Admissions</th>\n",
       "      <th>COPD Prevalence</th>\n",
       "      <th>Diabetes Prevalence</th>\n",
       "      <th>Heart Failure Admissions</th>\n",
       "      <th>Heart Failure Prevalence</th>\n",
       "      <th>Hypertension Prevalence</th>\n",
       "      <th>Pneumonia (all mentions)</th>\n",
       "      <th>Pneumonia Admissions</th>\n",
       "      <th>Respiratory Admissions</th>\n",
       "      <th>Respiratory Tract Admissions 1yr</th>\n",
       "      <th>Respiratory Tract Admissions U1yr</th>\n",
       "      <th>Stroke Admissions</th>\n",
       "      <th>Stroke Atrial Fib Admissions</th>\n",
       "      <th>Stroke: Prevalence</th>\n",
       "      <th>Under 75 Resp Disease</th>\n",
       "      <th>Nitrogen dioxide</th>\n",
       "      <th>Ozone</th>\n",
       "      <th>PM10</th>\n",
       "      <th>PM2.5</th>\n",
       "      <th>Sulphur dioxide</th>\n",
       "    </tr>\n",
       "  </thead>\n",
       "  <tbody>\n",
       "    <tr>\n",
       "      <th>0</th>\n",
       "      <td>0</td>\n",
       "      <td>2003</td>\n",
       "      <td>NHS Berkshire West CCG</td>\n",
       "      <td>Outer</td>\n",
       "      <td>49791.742293</td>\n",
       "      <td>Reading</td>\n",
       "      <td>51.4458</td>\n",
       "      <td>-1.16963</td>\n",
       "      <td>57.82</td>\n",
       "      <td>NaN</td>\n",
       "      <td>NaN</td>\n",
       "      <td>NaN</td>\n",
       "      <td>NaN</td>\n",
       "      <td>NaN</td>\n",
       "      <td>639.353</td>\n",
       "      <td>NaN</td>\n",
       "      <td>NaN</td>\n",
       "      <td>NaN</td>\n",
       "      <td>NaN</td>\n",
       "      <td>NaN</td>\n",
       "      <td>NaN</td>\n",
       "      <td>118.793</td>\n",
       "      <td>NaN</td>\n",
       "      <td>NaN</td>\n",
       "      <td>NaN</td>\n",
       "      <td>NaN</td>\n",
       "      <td>NaN</td>\n",
       "      <td>NaN</td>\n",
       "      <td>NaN</td>\n",
       "      <td>NaN</td>\n",
       "      <td>NaN</td>\n",
       "      <td>NaN</td>\n",
       "      <td>NaN</td>\n",
       "      <td>NaN</td>\n",
       "      <td>NaN</td>\n",
       "      <td>NaN</td>\n",
       "      <td>NaN</td>\n",
       "      <td>NaN</td>\n",
       "    </tr>\n",
       "    <tr>\n",
       "      <th>1</th>\n",
       "      <td>1</td>\n",
       "      <td>2003</td>\n",
       "      <td>NHS Brent CCG</td>\n",
       "      <td>Outer</td>\n",
       "      <td>16247.542449</td>\n",
       "      <td>No Pollution Readings</td>\n",
       "      <td>51.5644</td>\n",
       "      <td>-0.27568</td>\n",
       "      <td>76.04</td>\n",
       "      <td>NaN</td>\n",
       "      <td>NaN</td>\n",
       "      <td>NaN</td>\n",
       "      <td>NaN</td>\n",
       "      <td>NaN</td>\n",
       "      <td>712.000</td>\n",
       "      <td>NaN</td>\n",
       "      <td>NaN</td>\n",
       "      <td>NaN</td>\n",
       "      <td>NaN</td>\n",
       "      <td>NaN</td>\n",
       "      <td>NaN</td>\n",
       "      <td>153.253</td>\n",
       "      <td>NaN</td>\n",
       "      <td>NaN</td>\n",
       "      <td>NaN</td>\n",
       "      <td>NaN</td>\n",
       "      <td>NaN</td>\n",
       "      <td>NaN</td>\n",
       "      <td>NaN</td>\n",
       "      <td>NaN</td>\n",
       "      <td>NaN</td>\n",
       "      <td>NaN</td>\n",
       "      <td>NaN</td>\n",
       "      <td>NaN</td>\n",
       "      <td>NaN</td>\n",
       "      <td>NaN</td>\n",
       "      <td>NaN</td>\n",
       "      <td>NaN</td>\n",
       "    </tr>\n",
       "    <tr>\n",
       "      <th>2</th>\n",
       "      <td>2</td>\n",
       "      <td>2003</td>\n",
       "      <td>NHS Buckinghamshire CCG</td>\n",
       "      <td>Outer</td>\n",
       "      <td>38818.061527</td>\n",
       "      <td>No Pollution Readings</td>\n",
       "      <td>51.7414</td>\n",
       "      <td>-0.80644</td>\n",
       "      <td>51.21</td>\n",
       "      <td>NaN</td>\n",
       "      <td>NaN</td>\n",
       "      <td>NaN</td>\n",
       "      <td>NaN</td>\n",
       "      <td>NaN</td>\n",
       "      <td>730.138</td>\n",
       "      <td>NaN</td>\n",
       "      <td>NaN</td>\n",
       "      <td>NaN</td>\n",
       "      <td>NaN</td>\n",
       "      <td>NaN</td>\n",
       "      <td>NaN</td>\n",
       "      <td>107.011</td>\n",
       "      <td>NaN</td>\n",
       "      <td>NaN</td>\n",
       "      <td>NaN</td>\n",
       "      <td>NaN</td>\n",
       "      <td>NaN</td>\n",
       "      <td>NaN</td>\n",
       "      <td>NaN</td>\n",
       "      <td>NaN</td>\n",
       "      <td>NaN</td>\n",
       "      <td>NaN</td>\n",
       "      <td>NaN</td>\n",
       "      <td>NaN</td>\n",
       "      <td>NaN</td>\n",
       "      <td>NaN</td>\n",
       "      <td>NaN</td>\n",
       "      <td>NaN</td>\n",
       "    </tr>\n",
       "    <tr>\n",
       "      <th>3</th>\n",
       "      <td>3</td>\n",
       "      <td>2003</td>\n",
       "      <td>NHS Croydon CCG</td>\n",
       "      <td>Outer</td>\n",
       "      <td>28645.840703</td>\n",
       "      <td>No Pollution Readings</td>\n",
       "      <td>51.3660</td>\n",
       "      <td>-0.07761</td>\n",
       "      <td>65.63</td>\n",
       "      <td>NaN</td>\n",
       "      <td>NaN</td>\n",
       "      <td>NaN</td>\n",
       "      <td>NaN</td>\n",
       "      <td>NaN</td>\n",
       "      <td>874.317</td>\n",
       "      <td>NaN</td>\n",
       "      <td>NaN</td>\n",
       "      <td>NaN</td>\n",
       "      <td>NaN</td>\n",
       "      <td>NaN</td>\n",
       "      <td>NaN</td>\n",
       "      <td>176.300</td>\n",
       "      <td>NaN</td>\n",
       "      <td>NaN</td>\n",
       "      <td>NaN</td>\n",
       "      <td>NaN</td>\n",
       "      <td>NaN</td>\n",
       "      <td>NaN</td>\n",
       "      <td>NaN</td>\n",
       "      <td>NaN</td>\n",
       "      <td>NaN</td>\n",
       "      <td>NaN</td>\n",
       "      <td>NaN</td>\n",
       "      <td>NaN</td>\n",
       "      <td>NaN</td>\n",
       "      <td>NaN</td>\n",
       "      <td>NaN</td>\n",
       "      <td>NaN</td>\n",
       "    </tr>\n",
       "    <tr>\n",
       "      <th>4</th>\n",
       "      <td>4</td>\n",
       "      <td>2003</td>\n",
       "      <td>NHS Ealing CCG</td>\n",
       "      <td>Inner</td>\n",
       "      <td>11465.530929</td>\n",
       "      <td>Ealing</td>\n",
       "      <td>51.5244</td>\n",
       "      <td>-0.31405</td>\n",
       "      <td>82.91</td>\n",
       "      <td>NaN</td>\n",
       "      <td>NaN</td>\n",
       "      <td>NaN</td>\n",
       "      <td>NaN</td>\n",
       "      <td>NaN</td>\n",
       "      <td>954.994</td>\n",
       "      <td>NaN</td>\n",
       "      <td>NaN</td>\n",
       "      <td>NaN</td>\n",
       "      <td>NaN</td>\n",
       "      <td>NaN</td>\n",
       "      <td>NaN</td>\n",
       "      <td>193.386</td>\n",
       "      <td>NaN</td>\n",
       "      <td>NaN</td>\n",
       "      <td>NaN</td>\n",
       "      <td>NaN</td>\n",
       "      <td>NaN</td>\n",
       "      <td>NaN</td>\n",
       "      <td>NaN</td>\n",
       "      <td>NaN</td>\n",
       "      <td>NaN</td>\n",
       "      <td>NaN</td>\n",
       "      <td>NaN</td>\n",
       "      <td>NaN</td>\n",
       "      <td>NaN</td>\n",
       "      <td>NaN</td>\n",
       "      <td>NaN</td>\n",
       "      <td>NaN</td>\n",
       "    </tr>\n",
       "  </tbody>\n",
       "</table>\n",
       "</div>"
      ],
      "text/plain": [
       "   Unnamed: 0  Year                Area Name Radius Location  heathrow_distance           CCG_Poll_Map      LAT     LONG  <75 Coronary Heart Disease  Asthma  Asthma Admissions Over 19yr  Asthma Admissions Under 19yr  Asthma Prevalence  Atrial Fibrillation Prevalence  CHD Admissions  CHD Prevalence  CKD Prevalence  COPD (contributory cause)  COPD Admissions  COPD Prevalence  Diabetes Prevalence  Heart Failure Admissions  Heart Failure Prevalence  Hypertension Prevalence  Pneumonia (all mentions)  Pneumonia Admissions  Respiratory Admissions  Respiratory Tract Admissions 1yr  Respiratory Tract Admissions U1yr  Stroke Admissions  Stroke Atrial Fib Admissions  Stroke: Prevalence  Under 75 Resp Disease  Nitrogen dioxide  Ozone  PM10  PM2.5  Sulphur dioxide\n",
       "0           0  2003   NHS Berkshire West CCG           Outer       49791.742293                Reading  51.4458 -1.16963                       57.82     NaN                          NaN                           NaN                NaN                             NaN         639.353             NaN             NaN                        NaN              NaN              NaN                  NaN                   118.793                       NaN                      NaN                       NaN                   NaN                     NaN                               NaN                                NaN                NaN                           NaN                 NaN                    NaN               NaN    NaN   NaN    NaN              NaN\n",
       "1           1  2003            NHS Brent CCG           Outer       16247.542449  No Pollution Readings  51.5644 -0.27568                       76.04     NaN                          NaN                           NaN                NaN                             NaN         712.000             NaN             NaN                        NaN              NaN              NaN                  NaN                   153.253                       NaN                      NaN                       NaN                   NaN                     NaN                               NaN                                NaN                NaN                           NaN                 NaN                    NaN               NaN    NaN   NaN    NaN              NaN\n",
       "2           2  2003  NHS Buckinghamshire CCG           Outer       38818.061527  No Pollution Readings  51.7414 -0.80644                       51.21     NaN                          NaN                           NaN                NaN                             NaN         730.138             NaN             NaN                        NaN              NaN              NaN                  NaN                   107.011                       NaN                      NaN                       NaN                   NaN                     NaN                               NaN                                NaN                NaN                           NaN                 NaN                    NaN               NaN    NaN   NaN    NaN              NaN\n",
       "3           3  2003          NHS Croydon CCG           Outer       28645.840703  No Pollution Readings  51.3660 -0.07761                       65.63     NaN                          NaN                           NaN                NaN                             NaN         874.317             NaN             NaN                        NaN              NaN              NaN                  NaN                   176.300                       NaN                      NaN                       NaN                   NaN                     NaN                               NaN                                NaN                NaN                           NaN                 NaN                    NaN               NaN    NaN   NaN    NaN              NaN\n",
       "4           4  2003           NHS Ealing CCG           Inner       11465.530929                 Ealing  51.5244 -0.31405                       82.91     NaN                          NaN                           NaN                NaN                             NaN         954.994             NaN             NaN                        NaN              NaN              NaN                  NaN                   193.386                       NaN                      NaN                       NaN                   NaN                     NaN                               NaN                                NaN                NaN                           NaN                 NaN                    NaN               NaN    NaN   NaN    NaN              NaN"
      ]
     },
     "execution_count": 31,
     "metadata": {},
     "output_type": "execute_result"
    }
   ],
   "source": [
    "import pandas as pd\n",
    "pd.set_option('display.max_rows', 500)\n",
    "pd.set_option('display.max_columns', 500)\n",
    "pd.set_option('display.width', 1000)\n",
    "ddf = pd.read_csv('health_pollution_final_wide.csv')\n",
    "ddf.head()"
   ]
  },
  {
   "cell_type": "code",
   "execution_count": 25,
   "metadata": {},
   "outputs": [
    {
     "data": {
      "text/html": [
       "<div>\n",
       "<style scoped>\n",
       "    .dataframe tbody tr th:only-of-type {\n",
       "        vertical-align: middle;\n",
       "    }\n",
       "\n",
       "    .dataframe tbody tr th {\n",
       "        vertical-align: top;\n",
       "    }\n",
       "\n",
       "    .dataframe thead th {\n",
       "        text-align: right;\n",
       "    }\n",
       "</style>\n",
       "<table border=\"1\" class=\"dataframe\">\n",
       "  <thead>\n",
       "    <tr style=\"text-align: right;\">\n",
       "      <th></th>\n",
       "      <th>Year</th>\n",
       "      <th>heathrow_distance</th>\n",
       "      <th>&lt;75 Coronary Heart Disease</th>\n",
       "      <th>Nitrogen dioxide</th>\n",
       "      <th>Ozone</th>\n",
       "    </tr>\n",
       "  </thead>\n",
       "  <tbody>\n",
       "    <tr>\n",
       "      <th>24</th>\n",
       "      <td>2004</td>\n",
       "      <td>11465.530929</td>\n",
       "      <td>70.77</td>\n",
       "      <td>57.882938</td>\n",
       "      <td>33.992080</td>\n",
       "    </tr>\n",
       "    <tr>\n",
       "      <th>31</th>\n",
       "      <td>2004</td>\n",
       "      <td>29114.522131</td>\n",
       "      <td>48.24</td>\n",
       "      <td>38.836547</td>\n",
       "      <td>37.226716</td>\n",
       "    </tr>\n",
       "    <tr>\n",
       "      <th>32</th>\n",
       "      <td>2004</td>\n",
       "      <td>29114.522131</td>\n",
       "      <td>48.24</td>\n",
       "      <td>37.958796</td>\n",
       "      <td>35.039582</td>\n",
       "    </tr>\n",
       "    <tr>\n",
       "      <th>34</th>\n",
       "      <td>2004</td>\n",
       "      <td>5336.984712</td>\n",
       "      <td>74.39</td>\n",
       "      <td>57.171402</td>\n",
       "      <td>31.628426</td>\n",
       "    </tr>\n",
       "    <tr>\n",
       "      <th>35</th>\n",
       "      <td>2004</td>\n",
       "      <td>14640.309417</td>\n",
       "      <td>48.38</td>\n",
       "      <td>32.177120</td>\n",
       "      <td>44.607494</td>\n",
       "    </tr>\n",
       "    <tr>\n",
       "      <th>36</th>\n",
       "      <td>2004</td>\n",
       "      <td>19616.708383</td>\n",
       "      <td>46.83</td>\n",
       "      <td>32.177120</td>\n",
       "      <td>44.607494</td>\n",
       "    </tr>\n",
       "    <tr>\n",
       "      <th>38</th>\n",
       "      <td>2004</td>\n",
       "      <td>66982.407887</td>\n",
       "      <td>51.04</td>\n",
       "      <td>63.545897</td>\n",
       "      <td>40.376279</td>\n",
       "    </tr>\n",
       "    <tr>\n",
       "      <th>39</th>\n",
       "      <td>2004</td>\n",
       "      <td>66982.407887</td>\n",
       "      <td>51.04</td>\n",
       "      <td>49.362863</td>\n",
       "      <td>39.652825</td>\n",
       "    </tr>\n",
       "    <tr>\n",
       "      <th>40</th>\n",
       "      <td>2004</td>\n",
       "      <td>66982.407887</td>\n",
       "      <td>51.04</td>\n",
       "      <td>55.820565</td>\n",
       "      <td>45.274464</td>\n",
       "    </tr>\n",
       "    <tr>\n",
       "      <th>41</th>\n",
       "      <td>2004</td>\n",
       "      <td>11948.414952</td>\n",
       "      <td>51.52</td>\n",
       "      <td>32.177120</td>\n",
       "      <td>44.607494</td>\n",
       "    </tr>\n",
       "    <tr>\n",
       "      <th>43</th>\n",
       "      <td>2004</td>\n",
       "      <td>23268.289513</td>\n",
       "      <td>48.54</td>\n",
       "      <td>32.177120</td>\n",
       "      <td>44.607494</td>\n",
       "    </tr>\n",
       "    <tr>\n",
       "      <th>44</th>\n",
       "      <td>2004</td>\n",
       "      <td>17762.401873</td>\n",
       "      <td>62.60</td>\n",
       "      <td>32.177120</td>\n",
       "      <td>44.607494</td>\n",
       "    </tr>\n",
       "    <tr>\n",
       "      <th>50</th>\n",
       "      <td>2005</td>\n",
       "      <td>11465.530929</td>\n",
       "      <td>69.72</td>\n",
       "      <td>52.862974</td>\n",
       "      <td>28.594453</td>\n",
       "    </tr>\n",
       "    <tr>\n",
       "      <th>56</th>\n",
       "      <td>2005</td>\n",
       "      <td>29114.522131</td>\n",
       "      <td>46.05</td>\n",
       "      <td>37.260015</td>\n",
       "      <td>39.207049</td>\n",
       "    </tr>\n",
       "    <tr>\n",
       "      <th>57</th>\n",
       "      <td>2005</td>\n",
       "      <td>29114.522131</td>\n",
       "      <td>46.05</td>\n",
       "      <td>35.791760</td>\n",
       "      <td>43.263053</td>\n",
       "    </tr>\n",
       "    <tr>\n",
       "      <th>60</th>\n",
       "      <td>2005</td>\n",
       "      <td>5336.984712</td>\n",
       "      <td>65.52</td>\n",
       "      <td>52.833258</td>\n",
       "      <td>34.426010</td>\n",
       "    </tr>\n",
       "    <tr>\n",
       "      <th>61</th>\n",
       "      <td>2005</td>\n",
       "      <td>14640.309417</td>\n",
       "      <td>47.33</td>\n",
       "      <td>32.569456</td>\n",
       "      <td>44.135361</td>\n",
       "    </tr>\n",
       "    <tr>\n",
       "      <th>62</th>\n",
       "      <td>2005</td>\n",
       "      <td>19616.708383</td>\n",
       "      <td>39.57</td>\n",
       "      <td>32.569456</td>\n",
       "      <td>44.135361</td>\n",
       "    </tr>\n",
       "    <tr>\n",
       "      <th>64</th>\n",
       "      <td>2005</td>\n",
       "      <td>66982.407887</td>\n",
       "      <td>45.97</td>\n",
       "      <td>58.257026</td>\n",
       "      <td>39.945394</td>\n",
       "    </tr>\n",
       "    <tr>\n",
       "      <th>65</th>\n",
       "      <td>2005</td>\n",
       "      <td>66982.407887</td>\n",
       "      <td>45.97</td>\n",
       "      <td>54.460016</td>\n",
       "      <td>41.216238</td>\n",
       "    </tr>\n",
       "    <tr>\n",
       "      <th>66</th>\n",
       "      <td>2005</td>\n",
       "      <td>11948.414952</td>\n",
       "      <td>46.67</td>\n",
       "      <td>32.569456</td>\n",
       "      <td>44.135361</td>\n",
       "    </tr>\n",
       "    <tr>\n",
       "      <th>68</th>\n",
       "      <td>2005</td>\n",
       "      <td>23268.289513</td>\n",
       "      <td>46.80</td>\n",
       "      <td>32.569456</td>\n",
       "      <td>44.135361</td>\n",
       "    </tr>\n",
       "    <tr>\n",
       "      <th>69</th>\n",
       "      <td>2005</td>\n",
       "      <td>17762.401873</td>\n",
       "      <td>56.20</td>\n",
       "      <td>32.569456</td>\n",
       "      <td>44.135361</td>\n",
       "    </tr>\n",
       "    <tr>\n",
       "      <th>75</th>\n",
       "      <td>2006</td>\n",
       "      <td>11465.530929</td>\n",
       "      <td>72.51</td>\n",
       "      <td>55.035635</td>\n",
       "      <td>32.527539</td>\n",
       "    </tr>\n",
       "    <tr>\n",
       "      <th>84</th>\n",
       "      <td>2006</td>\n",
       "      <td>5336.984712</td>\n",
       "      <td>60.52</td>\n",
       "      <td>49.388766</td>\n",
       "      <td>41.626836</td>\n",
       "    </tr>\n",
       "    <tr>\n",
       "      <th>85</th>\n",
       "      <td>2006</td>\n",
       "      <td>14640.309417</td>\n",
       "      <td>45.67</td>\n",
       "      <td>31.926840</td>\n",
       "      <td>48.323301</td>\n",
       "    </tr>\n",
       "    <tr>\n",
       "      <th>86</th>\n",
       "      <td>2006</td>\n",
       "      <td>19616.708383</td>\n",
       "      <td>38.63</td>\n",
       "      <td>31.926840</td>\n",
       "      <td>48.323301</td>\n",
       "    </tr>\n",
       "    <tr>\n",
       "      <th>88</th>\n",
       "      <td>2006</td>\n",
       "      <td>66982.407887</td>\n",
       "      <td>42.56</td>\n",
       "      <td>54.833902</td>\n",
       "      <td>46.349644</td>\n",
       "    </tr>\n",
       "    <tr>\n",
       "      <th>89</th>\n",
       "      <td>2006</td>\n",
       "      <td>66982.407887</td>\n",
       "      <td>42.56</td>\n",
       "      <td>60.259746</td>\n",
       "      <td>49.677520</td>\n",
       "    </tr>\n",
       "    <tr>\n",
       "      <th>90</th>\n",
       "      <td>2006</td>\n",
       "      <td>66982.407887</td>\n",
       "      <td>42.56</td>\n",
       "      <td>52.553017</td>\n",
       "      <td>38.608096</td>\n",
       "    </tr>\n",
       "    <tr>\n",
       "      <th>91</th>\n",
       "      <td>2006</td>\n",
       "      <td>11948.414952</td>\n",
       "      <td>41.62</td>\n",
       "      <td>31.926840</td>\n",
       "      <td>48.323301</td>\n",
       "    </tr>\n",
       "    <tr>\n",
       "      <th>93</th>\n",
       "      <td>2006</td>\n",
       "      <td>23268.289513</td>\n",
       "      <td>44.60</td>\n",
       "      <td>31.926840</td>\n",
       "      <td>48.323301</td>\n",
       "    </tr>\n",
       "    <tr>\n",
       "      <th>94</th>\n",
       "      <td>2006</td>\n",
       "      <td>17762.401873</td>\n",
       "      <td>50.96</td>\n",
       "      <td>31.926840</td>\n",
       "      <td>48.323301</td>\n",
       "    </tr>\n",
       "    <tr>\n",
       "      <th>101</th>\n",
       "      <td>2007</td>\n",
       "      <td>11465.530929</td>\n",
       "      <td>70.78</td>\n",
       "      <td>54.247691</td>\n",
       "      <td>28.473891</td>\n",
       "    </tr>\n",
       "    <tr>\n",
       "      <th>110</th>\n",
       "      <td>2007</td>\n",
       "      <td>5336.984712</td>\n",
       "      <td>61.04</td>\n",
       "      <td>49.496766</td>\n",
       "      <td>31.764437</td>\n",
       "    </tr>\n",
       "    <tr>\n",
       "      <th>111</th>\n",
       "      <td>2007</td>\n",
       "      <td>14640.309417</td>\n",
       "      <td>46.02</td>\n",
       "      <td>34.153580</td>\n",
       "      <td>41.214800</td>\n",
       "    </tr>\n",
       "    <tr>\n",
       "      <th>112</th>\n",
       "      <td>2007</td>\n",
       "      <td>19616.708383</td>\n",
       "      <td>45.65</td>\n",
       "      <td>34.153580</td>\n",
       "      <td>41.214800</td>\n",
       "    </tr>\n",
       "    <tr>\n",
       "      <th>114</th>\n",
       "      <td>2007</td>\n",
       "      <td>66982.407887</td>\n",
       "      <td>37.05</td>\n",
       "      <td>57.906920</td>\n",
       "      <td>35.100020</td>\n",
       "    </tr>\n",
       "    <tr>\n",
       "      <th>115</th>\n",
       "      <td>2007</td>\n",
       "      <td>66982.407887</td>\n",
       "      <td>37.05</td>\n",
       "      <td>52.145280</td>\n",
       "      <td>36.761817</td>\n",
       "    </tr>\n",
       "    <tr>\n",
       "      <th>116</th>\n",
       "      <td>2007</td>\n",
       "      <td>11948.414952</td>\n",
       "      <td>37.84</td>\n",
       "      <td>34.153580</td>\n",
       "      <td>41.214800</td>\n",
       "    </tr>\n",
       "    <tr>\n",
       "      <th>118</th>\n",
       "      <td>2007</td>\n",
       "      <td>23268.289513</td>\n",
       "      <td>40.69</td>\n",
       "      <td>34.153580</td>\n",
       "      <td>41.214800</td>\n",
       "    </tr>\n",
       "    <tr>\n",
       "      <th>119</th>\n",
       "      <td>2007</td>\n",
       "      <td>17762.401873</td>\n",
       "      <td>50.86</td>\n",
       "      <td>34.153580</td>\n",
       "      <td>41.214800</td>\n",
       "    </tr>\n",
       "    <tr>\n",
       "      <th>125</th>\n",
       "      <td>2008</td>\n",
       "      <td>11465.530929</td>\n",
       "      <td>65.23</td>\n",
       "      <td>58.848371</td>\n",
       "      <td>29.085305</td>\n",
       "    </tr>\n",
       "    <tr>\n",
       "      <th>135</th>\n",
       "      <td>2008</td>\n",
       "      <td>5336.984712</td>\n",
       "      <td>55.85</td>\n",
       "      <td>50.795224</td>\n",
       "      <td>36.527434</td>\n",
       "    </tr>\n",
       "    <tr>\n",
       "      <th>136</th>\n",
       "      <td>2008</td>\n",
       "      <td>14640.309417</td>\n",
       "      <td>42.17</td>\n",
       "      <td>32.644682</td>\n",
       "      <td>45.102797</td>\n",
       "    </tr>\n",
       "    <tr>\n",
       "      <th>137</th>\n",
       "      <td>2008</td>\n",
       "      <td>19616.708383</td>\n",
       "      <td>48.71</td>\n",
       "      <td>32.644682</td>\n",
       "      <td>45.102797</td>\n",
       "    </tr>\n",
       "    <tr>\n",
       "      <th>139</th>\n",
       "      <td>2008</td>\n",
       "      <td>66982.407887</td>\n",
       "      <td>34.57</td>\n",
       "      <td>46.947160</td>\n",
       "      <td>34.717028</td>\n",
       "    </tr>\n",
       "    <tr>\n",
       "      <th>140</th>\n",
       "      <td>2008</td>\n",
       "      <td>66982.407887</td>\n",
       "      <td>34.57</td>\n",
       "      <td>44.088959</td>\n",
       "      <td>39.597179</td>\n",
       "    </tr>\n",
       "    <tr>\n",
       "      <th>141</th>\n",
       "      <td>2008</td>\n",
       "      <td>11948.414952</td>\n",
       "      <td>33.33</td>\n",
       "      <td>32.644682</td>\n",
       "      <td>45.102797</td>\n",
       "    </tr>\n",
       "    <tr>\n",
       "      <th>143</th>\n",
       "      <td>2008</td>\n",
       "      <td>23268.289513</td>\n",
       "      <td>36.12</td>\n",
       "      <td>32.644682</td>\n",
       "      <td>45.102797</td>\n",
       "    </tr>\n",
       "    <tr>\n",
       "      <th>144</th>\n",
       "      <td>2008</td>\n",
       "      <td>17762.401873</td>\n",
       "      <td>42.06</td>\n",
       "      <td>32.644682</td>\n",
       "      <td>45.102797</td>\n",
       "    </tr>\n",
       "    <tr>\n",
       "      <th>150</th>\n",
       "      <td>2009</td>\n",
       "      <td>11465.530929</td>\n",
       "      <td>55.86</td>\n",
       "      <td>56.888639</td>\n",
       "      <td>25.856959</td>\n",
       "    </tr>\n",
       "    <tr>\n",
       "      <th>160</th>\n",
       "      <td>2009</td>\n",
       "      <td>5336.984712</td>\n",
       "      <td>50.79</td>\n",
       "      <td>49.288687</td>\n",
       "      <td>34.449036</td>\n",
       "    </tr>\n",
       "    <tr>\n",
       "      <th>161</th>\n",
       "      <td>2009</td>\n",
       "      <td>14640.309417</td>\n",
       "      <td>41.91</td>\n",
       "      <td>32.079631</td>\n",
       "      <td>43.135904</td>\n",
       "    </tr>\n",
       "    <tr>\n",
       "      <th>162</th>\n",
       "      <td>2009</td>\n",
       "      <td>19616.708383</td>\n",
       "      <td>46.54</td>\n",
       "      <td>32.079631</td>\n",
       "      <td>43.135904</td>\n",
       "    </tr>\n",
       "    <tr>\n",
       "      <th>164</th>\n",
       "      <td>2009</td>\n",
       "      <td>66982.407887</td>\n",
       "      <td>32.09</td>\n",
       "      <td>46.674592</td>\n",
       "      <td>31.307083</td>\n",
       "    </tr>\n",
       "    <tr>\n",
       "      <th>165</th>\n",
       "      <td>2009</td>\n",
       "      <td>66982.407887</td>\n",
       "      <td>32.09</td>\n",
       "      <td>39.276585</td>\n",
       "      <td>35.218482</td>\n",
       "    </tr>\n",
       "    <tr>\n",
       "      <th>166</th>\n",
       "      <td>2009</td>\n",
       "      <td>11948.414952</td>\n",
       "      <td>28.57</td>\n",
       "      <td>32.079631</td>\n",
       "      <td>43.135904</td>\n",
       "    </tr>\n",
       "    <tr>\n",
       "      <th>168</th>\n",
       "      <td>2009</td>\n",
       "      <td>23268.289513</td>\n",
       "      <td>33.90</td>\n",
       "      <td>32.079631</td>\n",
       "      <td>43.135904</td>\n",
       "    </tr>\n",
       "    <tr>\n",
       "      <th>169</th>\n",
       "      <td>2009</td>\n",
       "      <td>17762.401873</td>\n",
       "      <td>37.80</td>\n",
       "      <td>32.079631</td>\n",
       "      <td>43.135904</td>\n",
       "    </tr>\n",
       "    <tr>\n",
       "      <th>175</th>\n",
       "      <td>2010</td>\n",
       "      <td>11465.530929</td>\n",
       "      <td>51.13</td>\n",
       "      <td>57.182303</td>\n",
       "      <td>26.273895</td>\n",
       "    </tr>\n",
       "    <tr>\n",
       "      <th>178</th>\n",
       "      <td>2010</td>\n",
       "      <td>16573.145490</td>\n",
       "      <td>52.00</td>\n",
       "      <td>56.549049</td>\n",
       "      <td>29.899648</td>\n",
       "    </tr>\n",
       "    <tr>\n",
       "      <th>179</th>\n",
       "      <td>2010</td>\n",
       "      <td>16573.145490</td>\n",
       "      <td>52.00</td>\n",
       "      <td>38.665017</td>\n",
       "      <td>38.114023</td>\n",
       "    </tr>\n",
       "    <tr>\n",
       "      <th>184</th>\n",
       "      <td>2010</td>\n",
       "      <td>5336.984712</td>\n",
       "      <td>45.60</td>\n",
       "      <td>43.582861</td>\n",
       "      <td>48.704465</td>\n",
       "    </tr>\n",
       "    <tr>\n",
       "      <th>185</th>\n",
       "      <td>2010</td>\n",
       "      <td>14640.309417</td>\n",
       "      <td>39.98</td>\n",
       "      <td>32.282602</td>\n",
       "      <td>41.509530</td>\n",
       "    </tr>\n",
       "    <tr>\n",
       "      <th>186</th>\n",
       "      <td>2010</td>\n",
       "      <td>19616.708383</td>\n",
       "      <td>43.04</td>\n",
       "      <td>32.282602</td>\n",
       "      <td>41.509530</td>\n",
       "    </tr>\n",
       "    <tr>\n",
       "      <th>188</th>\n",
       "      <td>2010</td>\n",
       "      <td>66982.407887</td>\n",
       "      <td>30.71</td>\n",
       "      <td>39.217793</td>\n",
       "      <td>45.059884</td>\n",
       "    </tr>\n",
       "    <tr>\n",
       "      <th>189</th>\n",
       "      <td>2010</td>\n",
       "      <td>66982.407887</td>\n",
       "      <td>30.71</td>\n",
       "      <td>39.691511</td>\n",
       "      <td>43.629497</td>\n",
       "    </tr>\n",
       "    <tr>\n",
       "      <th>190</th>\n",
       "      <td>2010</td>\n",
       "      <td>66982.407887</td>\n",
       "      <td>30.71</td>\n",
       "      <td>28.006868</td>\n",
       "      <td>46.380779</td>\n",
       "    </tr>\n",
       "    <tr>\n",
       "      <th>191</th>\n",
       "      <td>2010</td>\n",
       "      <td>11948.414952</td>\n",
       "      <td>26.62</td>\n",
       "      <td>32.282602</td>\n",
       "      <td>41.509530</td>\n",
       "    </tr>\n",
       "    <tr>\n",
       "      <th>193</th>\n",
       "      <td>2010</td>\n",
       "      <td>23268.289513</td>\n",
       "      <td>30.20</td>\n",
       "      <td>32.282602</td>\n",
       "      <td>41.509530</td>\n",
       "    </tr>\n",
       "    <tr>\n",
       "      <th>194</th>\n",
       "      <td>2010</td>\n",
       "      <td>17762.401873</td>\n",
       "      <td>37.10</td>\n",
       "      <td>32.282602</td>\n",
       "      <td>41.509530</td>\n",
       "    </tr>\n",
       "    <tr>\n",
       "      <th>199</th>\n",
       "      <td>2011</td>\n",
       "      <td>11465.530929</td>\n",
       "      <td>48.52</td>\n",
       "      <td>50.394846</td>\n",
       "      <td>28.222554</td>\n",
       "    </tr>\n",
       "    <tr>\n",
       "      <th>206</th>\n",
       "      <td>2011</td>\n",
       "      <td>5336.984712</td>\n",
       "      <td>47.66</td>\n",
       "      <td>44.513517</td>\n",
       "      <td>31.619418</td>\n",
       "    </tr>\n",
       "    <tr>\n",
       "      <th>207</th>\n",
       "      <td>2011</td>\n",
       "      <td>14640.309417</td>\n",
       "      <td>40.15</td>\n",
       "      <td>28.879385</td>\n",
       "      <td>44.943074</td>\n",
       "    </tr>\n",
       "    <tr>\n",
       "      <th>208</th>\n",
       "      <td>2011</td>\n",
       "      <td>19616.708383</td>\n",
       "      <td>40.12</td>\n",
       "      <td>28.879385</td>\n",
       "      <td>44.943074</td>\n",
       "    </tr>\n",
       "    <tr>\n",
       "      <th>211</th>\n",
       "      <td>2011</td>\n",
       "      <td>11948.414952</td>\n",
       "      <td>28.79</td>\n",
       "      <td>28.879385</td>\n",
       "      <td>44.943074</td>\n",
       "    </tr>\n",
       "    <tr>\n",
       "      <th>213</th>\n",
       "      <td>2011</td>\n",
       "      <td>23268.289513</td>\n",
       "      <td>31.32</td>\n",
       "      <td>28.879385</td>\n",
       "      <td>44.943074</td>\n",
       "    </tr>\n",
       "    <tr>\n",
       "      <th>214</th>\n",
       "      <td>2011</td>\n",
       "      <td>17762.401873</td>\n",
       "      <td>45.53</td>\n",
       "      <td>28.879385</td>\n",
       "      <td>44.943074</td>\n",
       "    </tr>\n",
       "    <tr>\n",
       "      <th>219</th>\n",
       "      <td>2012</td>\n",
       "      <td>11465.530929</td>\n",
       "      <td>48.14</td>\n",
       "      <td>55.933676</td>\n",
       "      <td>34.679117</td>\n",
       "    </tr>\n",
       "    <tr>\n",
       "      <th>226</th>\n",
       "      <td>2012</td>\n",
       "      <td>5336.984712</td>\n",
       "      <td>44.07</td>\n",
       "      <td>44.751777</td>\n",
       "      <td>31.539956</td>\n",
       "    </tr>\n",
       "    <tr>\n",
       "      <th>227</th>\n",
       "      <td>2012</td>\n",
       "      <td>14640.309417</td>\n",
       "      <td>36.50</td>\n",
       "      <td>32.365485</td>\n",
       "      <td>40.293685</td>\n",
       "    </tr>\n",
       "    <tr>\n",
       "      <th>228</th>\n",
       "      <td>2012</td>\n",
       "      <td>19616.708383</td>\n",
       "      <td>39.87</td>\n",
       "      <td>32.365485</td>\n",
       "      <td>40.293685</td>\n",
       "    </tr>\n",
       "    <tr>\n",
       "      <th>231</th>\n",
       "      <td>2012</td>\n",
       "      <td>11948.414952</td>\n",
       "      <td>30.72</td>\n",
       "      <td>32.365485</td>\n",
       "      <td>40.293685</td>\n",
       "    </tr>\n",
       "    <tr>\n",
       "      <th>233</th>\n",
       "      <td>2012</td>\n",
       "      <td>23268.289513</td>\n",
       "      <td>36.24</td>\n",
       "      <td>32.365485</td>\n",
       "      <td>40.293685</td>\n",
       "    </tr>\n",
       "    <tr>\n",
       "      <th>234</th>\n",
       "      <td>2012</td>\n",
       "      <td>17762.401873</td>\n",
       "      <td>48.89</td>\n",
       "      <td>32.365485</td>\n",
       "      <td>40.293685</td>\n",
       "    </tr>\n",
       "    <tr>\n",
       "      <th>239</th>\n",
       "      <td>2013</td>\n",
       "      <td>11465.530929</td>\n",
       "      <td>47.58</td>\n",
       "      <td>51.820068</td>\n",
       "      <td>35.006125</td>\n",
       "    </tr>\n",
       "    <tr>\n",
       "      <th>246</th>\n",
       "      <td>2013</td>\n",
       "      <td>5336.984712</td>\n",
       "      <td>45.78</td>\n",
       "      <td>48.007759</td>\n",
       "      <td>34.602025</td>\n",
       "    </tr>\n",
       "    <tr>\n",
       "      <th>247</th>\n",
       "      <td>2013</td>\n",
       "      <td>14640.309417</td>\n",
       "      <td>33.73</td>\n",
       "      <td>28.024100</td>\n",
       "      <td>46.691983</td>\n",
       "    </tr>\n",
       "    <tr>\n",
       "      <th>248</th>\n",
       "      <td>2013</td>\n",
       "      <td>19616.708383</td>\n",
       "      <td>36.81</td>\n",
       "      <td>28.024100</td>\n",
       "      <td>46.691983</td>\n",
       "    </tr>\n",
       "    <tr>\n",
       "      <th>251</th>\n",
       "      <td>2013</td>\n",
       "      <td>11948.414952</td>\n",
       "      <td>30.76</td>\n",
       "      <td>28.024100</td>\n",
       "      <td>46.691983</td>\n",
       "    </tr>\n",
       "    <tr>\n",
       "      <th>253</th>\n",
       "      <td>2013</td>\n",
       "      <td>23268.289513</td>\n",
       "      <td>39.60</td>\n",
       "      <td>28.024100</td>\n",
       "      <td>46.691983</td>\n",
       "    </tr>\n",
       "    <tr>\n",
       "      <th>254</th>\n",
       "      <td>2013</td>\n",
       "      <td>17762.401873</td>\n",
       "      <td>45.57</td>\n",
       "      <td>28.024100</td>\n",
       "      <td>46.691983</td>\n",
       "    </tr>\n",
       "    <tr>\n",
       "      <th>259</th>\n",
       "      <td>2014</td>\n",
       "      <td>11465.530929</td>\n",
       "      <td>43.97</td>\n",
       "      <td>48.731112</td>\n",
       "      <td>36.152357</td>\n",
       "    </tr>\n",
       "    <tr>\n",
       "      <th>266</th>\n",
       "      <td>2014</td>\n",
       "      <td>5336.984712</td>\n",
       "      <td>40.43</td>\n",
       "      <td>44.911782</td>\n",
       "      <td>34.739756</td>\n",
       "    </tr>\n",
       "    <tr>\n",
       "      <th>267</th>\n",
       "      <td>2014</td>\n",
       "      <td>14640.309417</td>\n",
       "      <td>31.84</td>\n",
       "      <td>29.834611</td>\n",
       "      <td>46.118400</td>\n",
       "    </tr>\n",
       "    <tr>\n",
       "      <th>268</th>\n",
       "      <td>2014</td>\n",
       "      <td>19616.708383</td>\n",
       "      <td>36.98</td>\n",
       "      <td>29.834611</td>\n",
       "      <td>46.118400</td>\n",
       "    </tr>\n",
       "    <tr>\n",
       "      <th>271</th>\n",
       "      <td>2014</td>\n",
       "      <td>11948.414952</td>\n",
       "      <td>27.62</td>\n",
       "      <td>29.834611</td>\n",
       "      <td>46.118400</td>\n",
       "    </tr>\n",
       "    <tr>\n",
       "      <th>273</th>\n",
       "      <td>2014</td>\n",
       "      <td>23268.289513</td>\n",
       "      <td>35.51</td>\n",
       "      <td>29.834611</td>\n",
       "      <td>46.118400</td>\n",
       "    </tr>\n",
       "    <tr>\n",
       "      <th>274</th>\n",
       "      <td>2014</td>\n",
       "      <td>17762.401873</td>\n",
       "      <td>41.00</td>\n",
       "      <td>29.834611</td>\n",
       "      <td>46.118400</td>\n",
       "    </tr>\n",
       "    <tr>\n",
       "      <th>279</th>\n",
       "      <td>2015</td>\n",
       "      <td>11465.530929</td>\n",
       "      <td>44.87</td>\n",
       "      <td>57.431332</td>\n",
       "      <td>36.436665</td>\n",
       "    </tr>\n",
       "    <tr>\n",
       "      <th>286</th>\n",
       "      <td>2015</td>\n",
       "      <td>5336.984712</td>\n",
       "      <td>47.21</td>\n",
       "      <td>41.635071</td>\n",
       "      <td>36.509612</td>\n",
       "    </tr>\n",
       "    <tr>\n",
       "      <th>287</th>\n",
       "      <td>2015</td>\n",
       "      <td>14640.309417</td>\n",
       "      <td>28.68</td>\n",
       "      <td>25.246492</td>\n",
       "      <td>49.470074</td>\n",
       "    </tr>\n",
       "    <tr>\n",
       "      <th>288</th>\n",
       "      <td>2015</td>\n",
       "      <td>19616.708383</td>\n",
       "      <td>34.07</td>\n",
       "      <td>25.246492</td>\n",
       "      <td>49.470074</td>\n",
       "    </tr>\n",
       "    <tr>\n",
       "      <th>291</th>\n",
       "      <td>2015</td>\n",
       "      <td>11948.414952</td>\n",
       "      <td>27.58</td>\n",
       "      <td>25.246492</td>\n",
       "      <td>49.470074</td>\n",
       "    </tr>\n",
       "    <tr>\n",
       "      <th>293</th>\n",
       "      <td>2015</td>\n",
       "      <td>23268.289513</td>\n",
       "      <td>28.99</td>\n",
       "      <td>25.246492</td>\n",
       "      <td>49.470074</td>\n",
       "    </tr>\n",
       "    <tr>\n",
       "      <th>294</th>\n",
       "      <td>2015</td>\n",
       "      <td>17762.401873</td>\n",
       "      <td>39.22</td>\n",
       "      <td>25.246492</td>\n",
       "      <td>49.470074</td>\n",
       "    </tr>\n",
       "    <tr>\n",
       "      <th>299</th>\n",
       "      <td>2016</td>\n",
       "      <td>11465.530929</td>\n",
       "      <td>42.53</td>\n",
       "      <td>56.986919</td>\n",
       "      <td>25.474153</td>\n",
       "    </tr>\n",
       "    <tr>\n",
       "      <th>306</th>\n",
       "      <td>2016</td>\n",
       "      <td>5336.984712</td>\n",
       "      <td>45.20</td>\n",
       "      <td>43.956471</td>\n",
       "      <td>31.746314</td>\n",
       "    </tr>\n",
       "    <tr>\n",
       "      <th>307</th>\n",
       "      <td>2016</td>\n",
       "      <td>14640.309417</td>\n",
       "      <td>27.35</td>\n",
       "      <td>31.377792</td>\n",
       "      <td>45.569314</td>\n",
       "    </tr>\n",
       "    <tr>\n",
       "      <th>308</th>\n",
       "      <td>2016</td>\n",
       "      <td>19616.708383</td>\n",
       "      <td>32.21</td>\n",
       "      <td>31.377792</td>\n",
       "      <td>45.569314</td>\n",
       "    </tr>\n",
       "    <tr>\n",
       "      <th>311</th>\n",
       "      <td>2016</td>\n",
       "      <td>11948.414952</td>\n",
       "      <td>25.48</td>\n",
       "      <td>31.377792</td>\n",
       "      <td>45.569314</td>\n",
       "    </tr>\n",
       "    <tr>\n",
       "      <th>313</th>\n",
       "      <td>2016</td>\n",
       "      <td>23268.289513</td>\n",
       "      <td>26.80</td>\n",
       "      <td>31.377792</td>\n",
       "      <td>45.569314</td>\n",
       "    </tr>\n",
       "    <tr>\n",
       "      <th>314</th>\n",
       "      <td>2016</td>\n",
       "      <td>17762.401873</td>\n",
       "      <td>39.33</td>\n",
       "      <td>31.377792</td>\n",
       "      <td>45.569314</td>\n",
       "    </tr>\n",
       "    <tr>\n",
       "      <th>326</th>\n",
       "      <td>2017</td>\n",
       "      <td>5336.984712</td>\n",
       "      <td>46.70</td>\n",
       "      <td>42.943564</td>\n",
       "      <td>31.394449</td>\n",
       "    </tr>\n",
       "    <tr>\n",
       "      <th>327</th>\n",
       "      <td>2017</td>\n",
       "      <td>14640.309417</td>\n",
       "      <td>27.85</td>\n",
       "      <td>29.553676</td>\n",
       "      <td>43.244163</td>\n",
       "    </tr>\n",
       "    <tr>\n",
       "      <th>328</th>\n",
       "      <td>2017</td>\n",
       "      <td>19616.708383</td>\n",
       "      <td>30.39</td>\n",
       "      <td>29.553676</td>\n",
       "      <td>43.244163</td>\n",
       "    </tr>\n",
       "    <tr>\n",
       "      <th>331</th>\n",
       "      <td>2017</td>\n",
       "      <td>11948.414952</td>\n",
       "      <td>26.73</td>\n",
       "      <td>29.553676</td>\n",
       "      <td>43.244163</td>\n",
       "    </tr>\n",
       "    <tr>\n",
       "      <th>333</th>\n",
       "      <td>2017</td>\n",
       "      <td>23268.289513</td>\n",
       "      <td>22.89</td>\n",
       "      <td>29.553676</td>\n",
       "      <td>43.244163</td>\n",
       "    </tr>\n",
       "    <tr>\n",
       "      <th>334</th>\n",
       "      <td>2017</td>\n",
       "      <td>17762.401873</td>\n",
       "      <td>38.92</td>\n",
       "      <td>29.553676</td>\n",
       "      <td>43.244163</td>\n",
       "    </tr>\n",
       "  </tbody>\n",
       "</table>\n",
       "</div>"
      ],
      "text/plain": [
       "     Year  heathrow_distance  <75 Coronary Heart Disease  Nitrogen dioxide      Ozone\n",
       "24   2004       11465.530929                       70.77         57.882938  33.992080\n",
       "31   2004       29114.522131                       48.24         38.836547  37.226716\n",
       "32   2004       29114.522131                       48.24         37.958796  35.039582\n",
       "34   2004        5336.984712                       74.39         57.171402  31.628426\n",
       "35   2004       14640.309417                       48.38         32.177120  44.607494\n",
       "36   2004       19616.708383                       46.83         32.177120  44.607494\n",
       "38   2004       66982.407887                       51.04         63.545897  40.376279\n",
       "39   2004       66982.407887                       51.04         49.362863  39.652825\n",
       "40   2004       66982.407887                       51.04         55.820565  45.274464\n",
       "41   2004       11948.414952                       51.52         32.177120  44.607494\n",
       "43   2004       23268.289513                       48.54         32.177120  44.607494\n",
       "44   2004       17762.401873                       62.60         32.177120  44.607494\n",
       "50   2005       11465.530929                       69.72         52.862974  28.594453\n",
       "56   2005       29114.522131                       46.05         37.260015  39.207049\n",
       "57   2005       29114.522131                       46.05         35.791760  43.263053\n",
       "60   2005        5336.984712                       65.52         52.833258  34.426010\n",
       "61   2005       14640.309417                       47.33         32.569456  44.135361\n",
       "62   2005       19616.708383                       39.57         32.569456  44.135361\n",
       "64   2005       66982.407887                       45.97         58.257026  39.945394\n",
       "65   2005       66982.407887                       45.97         54.460016  41.216238\n",
       "66   2005       11948.414952                       46.67         32.569456  44.135361\n",
       "68   2005       23268.289513                       46.80         32.569456  44.135361\n",
       "69   2005       17762.401873                       56.20         32.569456  44.135361\n",
       "75   2006       11465.530929                       72.51         55.035635  32.527539\n",
       "84   2006        5336.984712                       60.52         49.388766  41.626836\n",
       "85   2006       14640.309417                       45.67         31.926840  48.323301\n",
       "86   2006       19616.708383                       38.63         31.926840  48.323301\n",
       "88   2006       66982.407887                       42.56         54.833902  46.349644\n",
       "89   2006       66982.407887                       42.56         60.259746  49.677520\n",
       "90   2006       66982.407887                       42.56         52.553017  38.608096\n",
       "91   2006       11948.414952                       41.62         31.926840  48.323301\n",
       "93   2006       23268.289513                       44.60         31.926840  48.323301\n",
       "94   2006       17762.401873                       50.96         31.926840  48.323301\n",
       "101  2007       11465.530929                       70.78         54.247691  28.473891\n",
       "110  2007        5336.984712                       61.04         49.496766  31.764437\n",
       "111  2007       14640.309417                       46.02         34.153580  41.214800\n",
       "112  2007       19616.708383                       45.65         34.153580  41.214800\n",
       "114  2007       66982.407887                       37.05         57.906920  35.100020\n",
       "115  2007       66982.407887                       37.05         52.145280  36.761817\n",
       "116  2007       11948.414952                       37.84         34.153580  41.214800\n",
       "118  2007       23268.289513                       40.69         34.153580  41.214800\n",
       "119  2007       17762.401873                       50.86         34.153580  41.214800\n",
       "125  2008       11465.530929                       65.23         58.848371  29.085305\n",
       "135  2008        5336.984712                       55.85         50.795224  36.527434\n",
       "136  2008       14640.309417                       42.17         32.644682  45.102797\n",
       "137  2008       19616.708383                       48.71         32.644682  45.102797\n",
       "139  2008       66982.407887                       34.57         46.947160  34.717028\n",
       "140  2008       66982.407887                       34.57         44.088959  39.597179\n",
       "141  2008       11948.414952                       33.33         32.644682  45.102797\n",
       "143  2008       23268.289513                       36.12         32.644682  45.102797\n",
       "144  2008       17762.401873                       42.06         32.644682  45.102797\n",
       "150  2009       11465.530929                       55.86         56.888639  25.856959\n",
       "160  2009        5336.984712                       50.79         49.288687  34.449036\n",
       "161  2009       14640.309417                       41.91         32.079631  43.135904\n",
       "162  2009       19616.708383                       46.54         32.079631  43.135904\n",
       "164  2009       66982.407887                       32.09         46.674592  31.307083\n",
       "165  2009       66982.407887                       32.09         39.276585  35.218482\n",
       "166  2009       11948.414952                       28.57         32.079631  43.135904\n",
       "168  2009       23268.289513                       33.90         32.079631  43.135904\n",
       "169  2009       17762.401873                       37.80         32.079631  43.135904\n",
       "175  2010       11465.530929                       51.13         57.182303  26.273895\n",
       "178  2010       16573.145490                       52.00         56.549049  29.899648\n",
       "179  2010       16573.145490                       52.00         38.665017  38.114023\n",
       "184  2010        5336.984712                       45.60         43.582861  48.704465\n",
       "185  2010       14640.309417                       39.98         32.282602  41.509530\n",
       "186  2010       19616.708383                       43.04         32.282602  41.509530\n",
       "188  2010       66982.407887                       30.71         39.217793  45.059884\n",
       "189  2010       66982.407887                       30.71         39.691511  43.629497\n",
       "190  2010       66982.407887                       30.71         28.006868  46.380779\n",
       "191  2010       11948.414952                       26.62         32.282602  41.509530\n",
       "193  2010       23268.289513                       30.20         32.282602  41.509530\n",
       "194  2010       17762.401873                       37.10         32.282602  41.509530\n",
       "199  2011       11465.530929                       48.52         50.394846  28.222554\n",
       "206  2011        5336.984712                       47.66         44.513517  31.619418\n",
       "207  2011       14640.309417                       40.15         28.879385  44.943074\n",
       "208  2011       19616.708383                       40.12         28.879385  44.943074\n",
       "211  2011       11948.414952                       28.79         28.879385  44.943074\n",
       "213  2011       23268.289513                       31.32         28.879385  44.943074\n",
       "214  2011       17762.401873                       45.53         28.879385  44.943074\n",
       "219  2012       11465.530929                       48.14         55.933676  34.679117\n",
       "226  2012        5336.984712                       44.07         44.751777  31.539956\n",
       "227  2012       14640.309417                       36.50         32.365485  40.293685\n",
       "228  2012       19616.708383                       39.87         32.365485  40.293685\n",
       "231  2012       11948.414952                       30.72         32.365485  40.293685\n",
       "233  2012       23268.289513                       36.24         32.365485  40.293685\n",
       "234  2012       17762.401873                       48.89         32.365485  40.293685\n",
       "239  2013       11465.530929                       47.58         51.820068  35.006125\n",
       "246  2013        5336.984712                       45.78         48.007759  34.602025\n",
       "247  2013       14640.309417                       33.73         28.024100  46.691983\n",
       "248  2013       19616.708383                       36.81         28.024100  46.691983\n",
       "251  2013       11948.414952                       30.76         28.024100  46.691983\n",
       "253  2013       23268.289513                       39.60         28.024100  46.691983\n",
       "254  2013       17762.401873                       45.57         28.024100  46.691983\n",
       "259  2014       11465.530929                       43.97         48.731112  36.152357\n",
       "266  2014        5336.984712                       40.43         44.911782  34.739756\n",
       "267  2014       14640.309417                       31.84         29.834611  46.118400\n",
       "268  2014       19616.708383                       36.98         29.834611  46.118400\n",
       "271  2014       11948.414952                       27.62         29.834611  46.118400\n",
       "273  2014       23268.289513                       35.51         29.834611  46.118400\n",
       "274  2014       17762.401873                       41.00         29.834611  46.118400\n",
       "279  2015       11465.530929                       44.87         57.431332  36.436665\n",
       "286  2015        5336.984712                       47.21         41.635071  36.509612\n",
       "287  2015       14640.309417                       28.68         25.246492  49.470074\n",
       "288  2015       19616.708383                       34.07         25.246492  49.470074\n",
       "291  2015       11948.414952                       27.58         25.246492  49.470074\n",
       "293  2015       23268.289513                       28.99         25.246492  49.470074\n",
       "294  2015       17762.401873                       39.22         25.246492  49.470074\n",
       "299  2016       11465.530929                       42.53         56.986919  25.474153\n",
       "306  2016        5336.984712                       45.20         43.956471  31.746314\n",
       "307  2016       14640.309417                       27.35         31.377792  45.569314\n",
       "308  2016       19616.708383                       32.21         31.377792  45.569314\n",
       "311  2016       11948.414952                       25.48         31.377792  45.569314\n",
       "313  2016       23268.289513                       26.80         31.377792  45.569314\n",
       "314  2016       17762.401873                       39.33         31.377792  45.569314\n",
       "326  2017        5336.984712                       46.70         42.943564  31.394449\n",
       "327  2017       14640.309417                       27.85         29.553676  43.244163\n",
       "328  2017       19616.708383                       30.39         29.553676  43.244163\n",
       "331  2017       11948.414952                       26.73         29.553676  43.244163\n",
       "333  2017       23268.289513                       22.89         29.553676  43.244163\n",
       "334  2017       17762.401873                       38.92         29.553676  43.244163"
      ]
     },
     "execution_count": 25,
     "metadata": {},
     "output_type": "execute_result"
    }
   ],
   "source": [
    "ddf.dropna(inplace=True)   # abosolute nuclear, never do this !\n",
    "ddf"
   ]
  },
  {
   "cell_type": "code",
   "execution_count": 36,
   "metadata": {},
   "outputs": [
    {
     "data": {
      "text/html": [
       "<div>\n",
       "<style scoped>\n",
       "    .dataframe tbody tr th:only-of-type {\n",
       "        vertical-align: middle;\n",
       "    }\n",
       "\n",
       "    .dataframe tbody tr th {\n",
       "        vertical-align: top;\n",
       "    }\n",
       "\n",
       "    .dataframe thead th {\n",
       "        text-align: right;\n",
       "    }\n",
       "</style>\n",
       "<table border=\"1\" class=\"dataframe\">\n",
       "  <thead>\n",
       "    <tr style=\"text-align: right;\">\n",
       "      <th></th>\n",
       "      <th>Year</th>\n",
       "      <th>heathrow_distance</th>\n",
       "      <th>Nitrogen dioxide</th>\n",
       "      <th>Ozone</th>\n",
       "    </tr>\n",
       "  </thead>\n",
       "  <tbody>\n",
       "    <tr>\n",
       "      <th>239</th>\n",
       "      <td>2013</td>\n",
       "      <td>11465.530929</td>\n",
       "      <td>51.820068</td>\n",
       "      <td>35.006125</td>\n",
       "    </tr>\n",
       "    <tr>\n",
       "      <th>246</th>\n",
       "      <td>2013</td>\n",
       "      <td>5336.984712</td>\n",
       "      <td>48.007759</td>\n",
       "      <td>34.602025</td>\n",
       "    </tr>\n",
       "    <tr>\n",
       "      <th>247</th>\n",
       "      <td>2013</td>\n",
       "      <td>14640.309417</td>\n",
       "      <td>28.024100</td>\n",
       "      <td>46.691983</td>\n",
       "    </tr>\n",
       "    <tr>\n",
       "      <th>248</th>\n",
       "      <td>2013</td>\n",
       "      <td>19616.708383</td>\n",
       "      <td>28.024100</td>\n",
       "      <td>46.691983</td>\n",
       "    </tr>\n",
       "    <tr>\n",
       "      <th>251</th>\n",
       "      <td>2013</td>\n",
       "      <td>11948.414952</td>\n",
       "      <td>28.024100</td>\n",
       "      <td>46.691983</td>\n",
       "    </tr>\n",
       "  </tbody>\n",
       "</table>\n",
       "</div>"
      ],
      "text/plain": [
       "     Year  heathrow_distance  Nitrogen dioxide      Ozone\n",
       "239  2013       11465.530929         51.820068  35.006125\n",
       "246  2013        5336.984712         48.007759  34.602025\n",
       "247  2013       14640.309417         28.024100  46.691983\n",
       "248  2013       19616.708383         28.024100  46.691983\n",
       "251  2013       11948.414952         28.024100  46.691983"
      ]
     },
     "execution_count": 36,
     "metadata": {},
     "output_type": "execute_result"
    }
   ],
   "source": [
    "X.head()"
   ]
  },
  {
   "cell_type": "markdown",
   "metadata": {},
   "source": [
    "Trying it out ... Definitely not correct so more research/worl is required with team to determin which model can be used..."
   ]
  },
  {
   "cell_type": "code",
   "execution_count": 46,
   "metadata": {
    "scrolled": false
   },
   "outputs": [
    {
     "name": "stdout",
     "output_type": "stream",
     "text": [
      "[ 1.17812744 -2.01132773]\n"
     ]
    },
    {
     "data": {
      "application/vnd.plotly.v1+json": {
       "config": {
        "plotlyServerURL": "https://plot.ly"
       },
       "data": [
        {
         "alignmentgroup": "True",
         "hovertemplate": "color=Positive<br>Feature=%{x}<br>Linear coefficient=%{y}<extra></extra>",
         "legendgroup": "Positive",
         "marker": {
          "color": "red"
         },
         "name": "Positive",
         "offsetgroup": "Positive",
         "orientation": "v",
         "showlegend": true,
         "textposition": "auto",
         "type": "bar",
         "x": [
          "Nitrogen dioxide"
         ],
         "xaxis": "x",
         "y": [
          1.1781274392320231
         ],
         "yaxis": "y"
        },
        {
         "alignmentgroup": "True",
         "hovertemplate": "color=Negative<br>Feature=%{x}<br>Linear coefficient=%{y}<extra></extra>",
         "legendgroup": "Negative",
         "marker": {
          "color": "blue"
         },
         "name": "Negative",
         "offsetgroup": "Negative",
         "orientation": "v",
         "showlegend": true,
         "textposition": "auto",
         "type": "bar",
         "x": [
          "Ozone"
         ],
         "xaxis": "x",
         "y": [
          -2.0113277306520985
         ],
         "yaxis": "y"
        }
       ],
       "layout": {
        "barmode": "relative",
        "legend": {
         "title": {
          "text": "color"
         },
         "tracegroupgap": 0
        },
        "template": {
         "data": {
          "bar": [
           {
            "error_x": {
             "color": "#2a3f5f"
            },
            "error_y": {
             "color": "#2a3f5f"
            },
            "marker": {
             "line": {
              "color": "#E5ECF6",
              "width": 0.5
             }
            },
            "type": "bar"
           }
          ],
          "barpolar": [
           {
            "marker": {
             "line": {
              "color": "#E5ECF6",
              "width": 0.5
             }
            },
            "type": "barpolar"
           }
          ],
          "carpet": [
           {
            "aaxis": {
             "endlinecolor": "#2a3f5f",
             "gridcolor": "white",
             "linecolor": "white",
             "minorgridcolor": "white",
             "startlinecolor": "#2a3f5f"
            },
            "baxis": {
             "endlinecolor": "#2a3f5f",
             "gridcolor": "white",
             "linecolor": "white",
             "minorgridcolor": "white",
             "startlinecolor": "#2a3f5f"
            },
            "type": "carpet"
           }
          ],
          "choropleth": [
           {
            "colorbar": {
             "outlinewidth": 0,
             "ticks": ""
            },
            "type": "choropleth"
           }
          ],
          "contour": [
           {
            "colorbar": {
             "outlinewidth": 0,
             "ticks": ""
            },
            "colorscale": [
             [
              0,
              "#0d0887"
             ],
             [
              0.1111111111111111,
              "#46039f"
             ],
             [
              0.2222222222222222,
              "#7201a8"
             ],
             [
              0.3333333333333333,
              "#9c179e"
             ],
             [
              0.4444444444444444,
              "#bd3786"
             ],
             [
              0.5555555555555556,
              "#d8576b"
             ],
             [
              0.6666666666666666,
              "#ed7953"
             ],
             [
              0.7777777777777778,
              "#fb9f3a"
             ],
             [
              0.8888888888888888,
              "#fdca26"
             ],
             [
              1,
              "#f0f921"
             ]
            ],
            "type": "contour"
           }
          ],
          "contourcarpet": [
           {
            "colorbar": {
             "outlinewidth": 0,
             "ticks": ""
            },
            "type": "contourcarpet"
           }
          ],
          "heatmap": [
           {
            "colorbar": {
             "outlinewidth": 0,
             "ticks": ""
            },
            "colorscale": [
             [
              0,
              "#0d0887"
             ],
             [
              0.1111111111111111,
              "#46039f"
             ],
             [
              0.2222222222222222,
              "#7201a8"
             ],
             [
              0.3333333333333333,
              "#9c179e"
             ],
             [
              0.4444444444444444,
              "#bd3786"
             ],
             [
              0.5555555555555556,
              "#d8576b"
             ],
             [
              0.6666666666666666,
              "#ed7953"
             ],
             [
              0.7777777777777778,
              "#fb9f3a"
             ],
             [
              0.8888888888888888,
              "#fdca26"
             ],
             [
              1,
              "#f0f921"
             ]
            ],
            "type": "heatmap"
           }
          ],
          "heatmapgl": [
           {
            "colorbar": {
             "outlinewidth": 0,
             "ticks": ""
            },
            "colorscale": [
             [
              0,
              "#0d0887"
             ],
             [
              0.1111111111111111,
              "#46039f"
             ],
             [
              0.2222222222222222,
              "#7201a8"
             ],
             [
              0.3333333333333333,
              "#9c179e"
             ],
             [
              0.4444444444444444,
              "#bd3786"
             ],
             [
              0.5555555555555556,
              "#d8576b"
             ],
             [
              0.6666666666666666,
              "#ed7953"
             ],
             [
              0.7777777777777778,
              "#fb9f3a"
             ],
             [
              0.8888888888888888,
              "#fdca26"
             ],
             [
              1,
              "#f0f921"
             ]
            ],
            "type": "heatmapgl"
           }
          ],
          "histogram": [
           {
            "marker": {
             "colorbar": {
              "outlinewidth": 0,
              "ticks": ""
             }
            },
            "type": "histogram"
           }
          ],
          "histogram2d": [
           {
            "colorbar": {
             "outlinewidth": 0,
             "ticks": ""
            },
            "colorscale": [
             [
              0,
              "#0d0887"
             ],
             [
              0.1111111111111111,
              "#46039f"
             ],
             [
              0.2222222222222222,
              "#7201a8"
             ],
             [
              0.3333333333333333,
              "#9c179e"
             ],
             [
              0.4444444444444444,
              "#bd3786"
             ],
             [
              0.5555555555555556,
              "#d8576b"
             ],
             [
              0.6666666666666666,
              "#ed7953"
             ],
             [
              0.7777777777777778,
              "#fb9f3a"
             ],
             [
              0.8888888888888888,
              "#fdca26"
             ],
             [
              1,
              "#f0f921"
             ]
            ],
            "type": "histogram2d"
           }
          ],
          "histogram2dcontour": [
           {
            "colorbar": {
             "outlinewidth": 0,
             "ticks": ""
            },
            "colorscale": [
             [
              0,
              "#0d0887"
             ],
             [
              0.1111111111111111,
              "#46039f"
             ],
             [
              0.2222222222222222,
              "#7201a8"
             ],
             [
              0.3333333333333333,
              "#9c179e"
             ],
             [
              0.4444444444444444,
              "#bd3786"
             ],
             [
              0.5555555555555556,
              "#d8576b"
             ],
             [
              0.6666666666666666,
              "#ed7953"
             ],
             [
              0.7777777777777778,
              "#fb9f3a"
             ],
             [
              0.8888888888888888,
              "#fdca26"
             ],
             [
              1,
              "#f0f921"
             ]
            ],
            "type": "histogram2dcontour"
           }
          ],
          "mesh3d": [
           {
            "colorbar": {
             "outlinewidth": 0,
             "ticks": ""
            },
            "type": "mesh3d"
           }
          ],
          "parcoords": [
           {
            "line": {
             "colorbar": {
              "outlinewidth": 0,
              "ticks": ""
             }
            },
            "type": "parcoords"
           }
          ],
          "pie": [
           {
            "automargin": true,
            "type": "pie"
           }
          ],
          "scatter": [
           {
            "marker": {
             "colorbar": {
              "outlinewidth": 0,
              "ticks": ""
             }
            },
            "type": "scatter"
           }
          ],
          "scatter3d": [
           {
            "line": {
             "colorbar": {
              "outlinewidth": 0,
              "ticks": ""
             }
            },
            "marker": {
             "colorbar": {
              "outlinewidth": 0,
              "ticks": ""
             }
            },
            "type": "scatter3d"
           }
          ],
          "scattercarpet": [
           {
            "marker": {
             "colorbar": {
              "outlinewidth": 0,
              "ticks": ""
             }
            },
            "type": "scattercarpet"
           }
          ],
          "scattergeo": [
           {
            "marker": {
             "colorbar": {
              "outlinewidth": 0,
              "ticks": ""
             }
            },
            "type": "scattergeo"
           }
          ],
          "scattergl": [
           {
            "marker": {
             "colorbar": {
              "outlinewidth": 0,
              "ticks": ""
             }
            },
            "type": "scattergl"
           }
          ],
          "scattermapbox": [
           {
            "marker": {
             "colorbar": {
              "outlinewidth": 0,
              "ticks": ""
             }
            },
            "type": "scattermapbox"
           }
          ],
          "scatterpolar": [
           {
            "marker": {
             "colorbar": {
              "outlinewidth": 0,
              "ticks": ""
             }
            },
            "type": "scatterpolar"
           }
          ],
          "scatterpolargl": [
           {
            "marker": {
             "colorbar": {
              "outlinewidth": 0,
              "ticks": ""
             }
            },
            "type": "scatterpolargl"
           }
          ],
          "scatterternary": [
           {
            "marker": {
             "colorbar": {
              "outlinewidth": 0,
              "ticks": ""
             }
            },
            "type": "scatterternary"
           }
          ],
          "surface": [
           {
            "colorbar": {
             "outlinewidth": 0,
             "ticks": ""
            },
            "colorscale": [
             [
              0,
              "#0d0887"
             ],
             [
              0.1111111111111111,
              "#46039f"
             ],
             [
              0.2222222222222222,
              "#7201a8"
             ],
             [
              0.3333333333333333,
              "#9c179e"
             ],
             [
              0.4444444444444444,
              "#bd3786"
             ],
             [
              0.5555555555555556,
              "#d8576b"
             ],
             [
              0.6666666666666666,
              "#ed7953"
             ],
             [
              0.7777777777777778,
              "#fb9f3a"
             ],
             [
              0.8888888888888888,
              "#fdca26"
             ],
             [
              1,
              "#f0f921"
             ]
            ],
            "type": "surface"
           }
          ],
          "table": [
           {
            "cells": {
             "fill": {
              "color": "#EBF0F8"
             },
             "line": {
              "color": "white"
             }
            },
            "header": {
             "fill": {
              "color": "#C8D4E3"
             },
             "line": {
              "color": "white"
             }
            },
            "type": "table"
           }
          ]
         },
         "layout": {
          "annotationdefaults": {
           "arrowcolor": "#2a3f5f",
           "arrowhead": 0,
           "arrowwidth": 1
          },
          "autotypenumbers": "strict",
          "coloraxis": {
           "colorbar": {
            "outlinewidth": 0,
            "ticks": ""
           }
          },
          "colorscale": {
           "diverging": [
            [
             0,
             "#8e0152"
            ],
            [
             0.1,
             "#c51b7d"
            ],
            [
             0.2,
             "#de77ae"
            ],
            [
             0.3,
             "#f1b6da"
            ],
            [
             0.4,
             "#fde0ef"
            ],
            [
             0.5,
             "#f7f7f7"
            ],
            [
             0.6,
             "#e6f5d0"
            ],
            [
             0.7,
             "#b8e186"
            ],
            [
             0.8,
             "#7fbc41"
            ],
            [
             0.9,
             "#4d9221"
            ],
            [
             1,
             "#276419"
            ]
           ],
           "sequential": [
            [
             0,
             "#0d0887"
            ],
            [
             0.1111111111111111,
             "#46039f"
            ],
            [
             0.2222222222222222,
             "#7201a8"
            ],
            [
             0.3333333333333333,
             "#9c179e"
            ],
            [
             0.4444444444444444,
             "#bd3786"
            ],
            [
             0.5555555555555556,
             "#d8576b"
            ],
            [
             0.6666666666666666,
             "#ed7953"
            ],
            [
             0.7777777777777778,
             "#fb9f3a"
            ],
            [
             0.8888888888888888,
             "#fdca26"
            ],
            [
             1,
             "#f0f921"
            ]
           ],
           "sequentialminus": [
            [
             0,
             "#0d0887"
            ],
            [
             0.1111111111111111,
             "#46039f"
            ],
            [
             0.2222222222222222,
             "#7201a8"
            ],
            [
             0.3333333333333333,
             "#9c179e"
            ],
            [
             0.4444444444444444,
             "#bd3786"
            ],
            [
             0.5555555555555556,
             "#d8576b"
            ],
            [
             0.6666666666666666,
             "#ed7953"
            ],
            [
             0.7777777777777778,
             "#fb9f3a"
            ],
            [
             0.8888888888888888,
             "#fdca26"
            ],
            [
             1,
             "#f0f921"
            ]
           ]
          },
          "colorway": [
           "#636efa",
           "#EF553B",
           "#00cc96",
           "#ab63fa",
           "#FFA15A",
           "#19d3f3",
           "#FF6692",
           "#B6E880",
           "#FF97FF",
           "#FECB52"
          ],
          "font": {
           "color": "#2a3f5f"
          },
          "geo": {
           "bgcolor": "white",
           "lakecolor": "white",
           "landcolor": "#E5ECF6",
           "showlakes": true,
           "showland": true,
           "subunitcolor": "white"
          },
          "hoverlabel": {
           "align": "left"
          },
          "hovermode": "closest",
          "mapbox": {
           "style": "light"
          },
          "paper_bgcolor": "white",
          "plot_bgcolor": "#E5ECF6",
          "polar": {
           "angularaxis": {
            "gridcolor": "white",
            "linecolor": "white",
            "ticks": ""
           },
           "bgcolor": "#E5ECF6",
           "radialaxis": {
            "gridcolor": "white",
            "linecolor": "white",
            "ticks": ""
           }
          },
          "scene": {
           "xaxis": {
            "backgroundcolor": "#E5ECF6",
            "gridcolor": "white",
            "gridwidth": 2,
            "linecolor": "white",
            "showbackground": true,
            "ticks": "",
            "zerolinecolor": "white"
           },
           "yaxis": {
            "backgroundcolor": "#E5ECF6",
            "gridcolor": "white",
            "gridwidth": 2,
            "linecolor": "white",
            "showbackground": true,
            "ticks": "",
            "zerolinecolor": "white"
           },
           "zaxis": {
            "backgroundcolor": "#E5ECF6",
            "gridcolor": "white",
            "gridwidth": 2,
            "linecolor": "white",
            "showbackground": true,
            "ticks": "",
            "zerolinecolor": "white"
           }
          },
          "shapedefaults": {
           "line": {
            "color": "#2a3f5f"
           }
          },
          "ternary": {
           "aaxis": {
            "gridcolor": "white",
            "linecolor": "white",
            "ticks": ""
           },
           "baxis": {
            "gridcolor": "white",
            "linecolor": "white",
            "ticks": ""
           },
           "bgcolor": "#E5ECF6",
           "caxis": {
            "gridcolor": "white",
            "linecolor": "white",
            "ticks": ""
           }
          },
          "title": {
           "x": 0.05
          },
          "xaxis": {
           "automargin": true,
           "gridcolor": "white",
           "linecolor": "white",
           "ticks": "",
           "title": {
            "standoff": 15
           },
           "zerolinecolor": "white",
           "zerolinewidth": 2
          },
          "yaxis": {
           "automargin": true,
           "gridcolor": "white",
           "linecolor": "white",
           "ticks": "",
           "title": {
            "standoff": 15
           },
           "zerolinecolor": "white",
           "zerolinewidth": 2
          }
         }
        },
        "title": {
         "text": "Weight of each feature for predicting Coronary Heart Disease"
        },
        "xaxis": {
         "anchor": "y",
         "domain": [
          0,
          1
         ],
         "title": {
          "text": "Feature"
         }
        },
        "yaxis": {
         "anchor": "x",
         "domain": [
          0,
          1
         ],
         "title": {
          "text": "Linear coefficient"
         }
        }
       }
      },
      "text/html": [
       "<div>                            <div id=\"0cc9804b-8709-43c3-8cb3-0249ce341373\" class=\"plotly-graph-div\" style=\"height:525px; width:100%;\"></div>            <script type=\"text/javascript\">                require([\"plotly\"], function(Plotly) {                    window.PLOTLYENV=window.PLOTLYENV || {};                                    if (document.getElementById(\"0cc9804b-8709-43c3-8cb3-0249ce341373\")) {                    Plotly.newPlot(                        \"0cc9804b-8709-43c3-8cb3-0249ce341373\",                        [{\"alignmentgroup\": \"True\", \"hovertemplate\": \"color=Positive<br>Feature=%{x}<br>Linear coefficient=%{y}<extra></extra>\", \"legendgroup\": \"Positive\", \"marker\": {\"color\": \"red\"}, \"name\": \"Positive\", \"offsetgroup\": \"Positive\", \"orientation\": \"v\", \"showlegend\": true, \"textposition\": \"auto\", \"type\": \"bar\", \"x\": [\"Nitrogen dioxide\"], \"xaxis\": \"x\", \"y\": [1.1781274392320231], \"yaxis\": \"y\"}, {\"alignmentgroup\": \"True\", \"hovertemplate\": \"color=Negative<br>Feature=%{x}<br>Linear coefficient=%{y}<extra></extra>\", \"legendgroup\": \"Negative\", \"marker\": {\"color\": \"blue\"}, \"name\": \"Negative\", \"offsetgroup\": \"Negative\", \"orientation\": \"v\", \"showlegend\": true, \"textposition\": \"auto\", \"type\": \"bar\", \"x\": [\"Ozone\"], \"xaxis\": \"x\", \"y\": [-2.0113277306520985], \"yaxis\": \"y\"}],                        {\"barmode\": \"relative\", \"legend\": {\"title\": {\"text\": \"color\"}, \"tracegroupgap\": 0}, \"template\": {\"data\": {\"bar\": [{\"error_x\": {\"color\": \"#2a3f5f\"}, \"error_y\": {\"color\": \"#2a3f5f\"}, \"marker\": {\"line\": {\"color\": \"#E5ECF6\", \"width\": 0.5}}, \"type\": \"bar\"}], \"barpolar\": [{\"marker\": {\"line\": {\"color\": \"#E5ECF6\", \"width\": 0.5}}, \"type\": \"barpolar\"}], \"carpet\": [{\"aaxis\": {\"endlinecolor\": \"#2a3f5f\", \"gridcolor\": \"white\", \"linecolor\": \"white\", \"minorgridcolor\": \"white\", \"startlinecolor\": \"#2a3f5f\"}, \"baxis\": {\"endlinecolor\": \"#2a3f5f\", \"gridcolor\": \"white\", \"linecolor\": \"white\", \"minorgridcolor\": \"white\", \"startlinecolor\": \"#2a3f5f\"}, \"type\": \"carpet\"}], \"choropleth\": [{\"colorbar\": {\"outlinewidth\": 0, \"ticks\": \"\"}, \"type\": \"choropleth\"}], \"contour\": [{\"colorbar\": {\"outlinewidth\": 0, \"ticks\": \"\"}, \"colorscale\": [[0.0, \"#0d0887\"], [0.1111111111111111, \"#46039f\"], [0.2222222222222222, \"#7201a8\"], [0.3333333333333333, \"#9c179e\"], [0.4444444444444444, \"#bd3786\"], [0.5555555555555556, \"#d8576b\"], [0.6666666666666666, \"#ed7953\"], [0.7777777777777778, \"#fb9f3a\"], [0.8888888888888888, \"#fdca26\"], [1.0, \"#f0f921\"]], \"type\": \"contour\"}], \"contourcarpet\": [{\"colorbar\": {\"outlinewidth\": 0, \"ticks\": \"\"}, \"type\": \"contourcarpet\"}], \"heatmap\": [{\"colorbar\": {\"outlinewidth\": 0, \"ticks\": \"\"}, \"colorscale\": [[0.0, \"#0d0887\"], [0.1111111111111111, \"#46039f\"], [0.2222222222222222, \"#7201a8\"], [0.3333333333333333, \"#9c179e\"], [0.4444444444444444, \"#bd3786\"], [0.5555555555555556, \"#d8576b\"], [0.6666666666666666, \"#ed7953\"], [0.7777777777777778, \"#fb9f3a\"], [0.8888888888888888, \"#fdca26\"], [1.0, \"#f0f921\"]], \"type\": \"heatmap\"}], \"heatmapgl\": [{\"colorbar\": {\"outlinewidth\": 0, \"ticks\": \"\"}, \"colorscale\": [[0.0, \"#0d0887\"], [0.1111111111111111, \"#46039f\"], [0.2222222222222222, \"#7201a8\"], [0.3333333333333333, \"#9c179e\"], [0.4444444444444444, \"#bd3786\"], [0.5555555555555556, \"#d8576b\"], [0.6666666666666666, \"#ed7953\"], [0.7777777777777778, \"#fb9f3a\"], [0.8888888888888888, \"#fdca26\"], [1.0, \"#f0f921\"]], \"type\": \"heatmapgl\"}], \"histogram\": [{\"marker\": {\"colorbar\": {\"outlinewidth\": 0, \"ticks\": \"\"}}, \"type\": \"histogram\"}], \"histogram2d\": [{\"colorbar\": {\"outlinewidth\": 0, \"ticks\": \"\"}, \"colorscale\": [[0.0, \"#0d0887\"], [0.1111111111111111, \"#46039f\"], [0.2222222222222222, \"#7201a8\"], [0.3333333333333333, \"#9c179e\"], [0.4444444444444444, \"#bd3786\"], [0.5555555555555556, \"#d8576b\"], [0.6666666666666666, \"#ed7953\"], [0.7777777777777778, \"#fb9f3a\"], [0.8888888888888888, \"#fdca26\"], [1.0, \"#f0f921\"]], \"type\": \"histogram2d\"}], \"histogram2dcontour\": [{\"colorbar\": {\"outlinewidth\": 0, \"ticks\": \"\"}, \"colorscale\": [[0.0, \"#0d0887\"], [0.1111111111111111, \"#46039f\"], [0.2222222222222222, \"#7201a8\"], [0.3333333333333333, \"#9c179e\"], [0.4444444444444444, \"#bd3786\"], [0.5555555555555556, \"#d8576b\"], [0.6666666666666666, \"#ed7953\"], [0.7777777777777778, \"#fb9f3a\"], [0.8888888888888888, \"#fdca26\"], [1.0, \"#f0f921\"]], \"type\": \"histogram2dcontour\"}], \"mesh3d\": [{\"colorbar\": {\"outlinewidth\": 0, \"ticks\": \"\"}, \"type\": \"mesh3d\"}], \"parcoords\": [{\"line\": {\"colorbar\": {\"outlinewidth\": 0, \"ticks\": \"\"}}, \"type\": \"parcoords\"}], \"pie\": [{\"automargin\": true, \"type\": \"pie\"}], \"scatter\": [{\"marker\": {\"colorbar\": {\"outlinewidth\": 0, \"ticks\": \"\"}}, \"type\": \"scatter\"}], \"scatter3d\": [{\"line\": {\"colorbar\": {\"outlinewidth\": 0, \"ticks\": \"\"}}, \"marker\": {\"colorbar\": {\"outlinewidth\": 0, \"ticks\": \"\"}}, \"type\": \"scatter3d\"}], \"scattercarpet\": [{\"marker\": {\"colorbar\": {\"outlinewidth\": 0, \"ticks\": \"\"}}, \"type\": \"scattercarpet\"}], \"scattergeo\": [{\"marker\": {\"colorbar\": {\"outlinewidth\": 0, \"ticks\": \"\"}}, \"type\": \"scattergeo\"}], \"scattergl\": [{\"marker\": {\"colorbar\": {\"outlinewidth\": 0, \"ticks\": \"\"}}, \"type\": \"scattergl\"}], \"scattermapbox\": [{\"marker\": {\"colorbar\": {\"outlinewidth\": 0, \"ticks\": \"\"}}, \"type\": \"scattermapbox\"}], \"scatterpolar\": [{\"marker\": {\"colorbar\": {\"outlinewidth\": 0, \"ticks\": \"\"}}, \"type\": \"scatterpolar\"}], \"scatterpolargl\": [{\"marker\": {\"colorbar\": {\"outlinewidth\": 0, \"ticks\": \"\"}}, \"type\": \"scatterpolargl\"}], \"scatterternary\": [{\"marker\": {\"colorbar\": {\"outlinewidth\": 0, \"ticks\": \"\"}}, \"type\": \"scatterternary\"}], \"surface\": [{\"colorbar\": {\"outlinewidth\": 0, \"ticks\": \"\"}, \"colorscale\": [[0.0, \"#0d0887\"], [0.1111111111111111, \"#46039f\"], [0.2222222222222222, \"#7201a8\"], [0.3333333333333333, \"#9c179e\"], [0.4444444444444444, \"#bd3786\"], [0.5555555555555556, \"#d8576b\"], [0.6666666666666666, \"#ed7953\"], [0.7777777777777778, \"#fb9f3a\"], [0.8888888888888888, \"#fdca26\"], [1.0, \"#f0f921\"]], \"type\": \"surface\"}], \"table\": [{\"cells\": {\"fill\": {\"color\": \"#EBF0F8\"}, \"line\": {\"color\": \"white\"}}, \"header\": {\"fill\": {\"color\": \"#C8D4E3\"}, \"line\": {\"color\": \"white\"}}, \"type\": \"table\"}]}, \"layout\": {\"annotationdefaults\": {\"arrowcolor\": \"#2a3f5f\", \"arrowhead\": 0, \"arrowwidth\": 1}, \"autotypenumbers\": \"strict\", \"coloraxis\": {\"colorbar\": {\"outlinewidth\": 0, \"ticks\": \"\"}}, \"colorscale\": {\"diverging\": [[0, \"#8e0152\"], [0.1, \"#c51b7d\"], [0.2, \"#de77ae\"], [0.3, \"#f1b6da\"], [0.4, \"#fde0ef\"], [0.5, \"#f7f7f7\"], [0.6, \"#e6f5d0\"], [0.7, \"#b8e186\"], [0.8, \"#7fbc41\"], [0.9, \"#4d9221\"], [1, \"#276419\"]], \"sequential\": [[0.0, \"#0d0887\"], [0.1111111111111111, \"#46039f\"], [0.2222222222222222, \"#7201a8\"], [0.3333333333333333, \"#9c179e\"], [0.4444444444444444, \"#bd3786\"], [0.5555555555555556, \"#d8576b\"], [0.6666666666666666, \"#ed7953\"], [0.7777777777777778, \"#fb9f3a\"], [0.8888888888888888, \"#fdca26\"], [1.0, \"#f0f921\"]], \"sequentialminus\": [[0.0, \"#0d0887\"], [0.1111111111111111, \"#46039f\"], [0.2222222222222222, \"#7201a8\"], [0.3333333333333333, \"#9c179e\"], [0.4444444444444444, \"#bd3786\"], [0.5555555555555556, \"#d8576b\"], [0.6666666666666666, \"#ed7953\"], [0.7777777777777778, \"#fb9f3a\"], [0.8888888888888888, \"#fdca26\"], [1.0, \"#f0f921\"]]}, \"colorway\": [\"#636efa\", \"#EF553B\", \"#00cc96\", \"#ab63fa\", \"#FFA15A\", \"#19d3f3\", \"#FF6692\", \"#B6E880\", \"#FF97FF\", \"#FECB52\"], \"font\": {\"color\": \"#2a3f5f\"}, \"geo\": {\"bgcolor\": \"white\", \"lakecolor\": \"white\", \"landcolor\": \"#E5ECF6\", \"showlakes\": true, \"showland\": true, \"subunitcolor\": \"white\"}, \"hoverlabel\": {\"align\": \"left\"}, \"hovermode\": \"closest\", \"mapbox\": {\"style\": \"light\"}, \"paper_bgcolor\": \"white\", \"plot_bgcolor\": \"#E5ECF6\", \"polar\": {\"angularaxis\": {\"gridcolor\": \"white\", \"linecolor\": \"white\", \"ticks\": \"\"}, \"bgcolor\": \"#E5ECF6\", \"radialaxis\": {\"gridcolor\": \"white\", \"linecolor\": \"white\", \"ticks\": \"\"}}, \"scene\": {\"xaxis\": {\"backgroundcolor\": \"#E5ECF6\", \"gridcolor\": \"white\", \"gridwidth\": 2, \"linecolor\": \"white\", \"showbackground\": true, \"ticks\": \"\", \"zerolinecolor\": \"white\"}, \"yaxis\": {\"backgroundcolor\": \"#E5ECF6\", \"gridcolor\": \"white\", \"gridwidth\": 2, \"linecolor\": \"white\", \"showbackground\": true, \"ticks\": \"\", \"zerolinecolor\": \"white\"}, \"zaxis\": {\"backgroundcolor\": \"#E5ECF6\", \"gridcolor\": \"white\", \"gridwidth\": 2, \"linecolor\": \"white\", \"showbackground\": true, \"ticks\": \"\", \"zerolinecolor\": \"white\"}}, \"shapedefaults\": {\"line\": {\"color\": \"#2a3f5f\"}}, \"ternary\": {\"aaxis\": {\"gridcolor\": \"white\", \"linecolor\": \"white\", \"ticks\": \"\"}, \"baxis\": {\"gridcolor\": \"white\", \"linecolor\": \"white\", \"ticks\": \"\"}, \"bgcolor\": \"#E5ECF6\", \"caxis\": {\"gridcolor\": \"white\", \"linecolor\": \"white\", \"ticks\": \"\"}}, \"title\": {\"x\": 0.05}, \"xaxis\": {\"automargin\": true, \"gridcolor\": \"white\", \"linecolor\": \"white\", \"ticks\": \"\", \"title\": {\"standoff\": 15}, \"zerolinecolor\": \"white\", \"zerolinewidth\": 2}, \"yaxis\": {\"automargin\": true, \"gridcolor\": \"white\", \"linecolor\": \"white\", \"ticks\": \"\", \"title\": {\"standoff\": 15}, \"zerolinecolor\": \"white\", \"zerolinewidth\": 2}}}, \"title\": {\"text\": \"Weight of each feature for predicting Coronary Heart Disease\"}, \"xaxis\": {\"anchor\": \"y\", \"domain\": [0.0, 1.0], \"title\": {\"text\": \"Feature\"}}, \"yaxis\": {\"anchor\": \"x\", \"domain\": [0.0, 1.0], \"title\": {\"text\": \"Linear coefficient\"}}},                        {\"responsive\": true}                    ).then(function(){\n",
       "                            \n",
       "var gd = document.getElementById('0cc9804b-8709-43c3-8cb3-0249ce341373');\n",
       "var x = new MutationObserver(function (mutations, observer) {{\n",
       "        var display = window.getComputedStyle(gd).display;\n",
       "        if (!display || display === 'none') {{\n",
       "            console.log([gd, 'removed!']);\n",
       "            Plotly.purge(gd);\n",
       "            observer.disconnect();\n",
       "        }}\n",
       "}});\n",
       "\n",
       "// Listen for the removal of the full notebook cells\n",
       "var notebookContainer = gd.closest('#notebook-container');\n",
       "if (notebookContainer) {{\n",
       "    x.observe(notebookContainer, {childList: true});\n",
       "}}\n",
       "\n",
       "// Listen for the clearing of the current output cell\n",
       "var outputEl = gd.closest('.output');\n",
       "if (outputEl) {{\n",
       "    x.observe(outputEl, {childList: true});\n",
       "}}\n",
       "\n",
       "                        })                };                });            </script>        </div>"
      ]
     },
     "metadata": {},
     "output_type": "display_data"
    }
   ],
   "source": [
    "import pandas as pd\n",
    "import plotly.express as px\n",
    "import plotly.graph_objects as go\n",
    "from sklearn.linear_model import LinearRegression\n",
    "\n",
    "ddf = pd.read_csv('health_pollution_final_wide.csv')\n",
    "ddf = ddf[['Asthma Admissions Over 19yr', 'Nitrogen dioxide', 'Ozone']]\n",
    "ddf.dropna(inplace=True)\n",
    "\n",
    "X = ddf.drop(columns=['Asthma Admissions Over 19yr'])\n",
    "y = ddf['Asthma Admissions Over 19yr']\n",
    "\n",
    "\n",
    "model = LinearRegression()\n",
    "model.fit(X, y)\n",
    "\n",
    "colors = ['Positive' if c > 0 else 'Negative' for c in model.coef_]\n",
    "\n",
    "print(model.coef_)\n",
    "\n",
    "fig = px.bar(\n",
    "    x=X.columns, y=model.coef_, color=colors,\n",
    "    color_discrete_sequence=['red', 'blue'],\n",
    "    labels=dict(x='Feature', y='Linear coefficient'),\n",
    "    title='Weight of each feature for predicting Coronary Heart Disease'\n",
    ")\n",
    "fig.show()"
   ]
  },
  {
   "cell_type": "markdown",
   "metadata": {},
   "source": [
    "Sanity check to melt heathrow data (get the distance as a indicator name. workaround/easier than changing everything)\n"
   ]
  },
  {
   "cell_type": "code",
   "execution_count": 51,
   "metadata": {},
   "outputs": [],
   "source": [
    "df = pd.read_csv('health_pollution_final.csv')\n"
   ]
  },
  {
   "cell_type": "code",
   "execution_count": 52,
   "metadata": {},
   "outputs": [
    {
     "data": {
      "text/html": [
       "<div>\n",
       "<style scoped>\n",
       "    .dataframe tbody tr th:only-of-type {\n",
       "        vertical-align: middle;\n",
       "    }\n",
       "\n",
       "    .dataframe tbody tr th {\n",
       "        vertical-align: top;\n",
       "    }\n",
       "\n",
       "    .dataframe thead th {\n",
       "        text-align: right;\n",
       "    }\n",
       "</style>\n",
       "<table border=\"1\" class=\"dataframe\">\n",
       "  <thead>\n",
       "    <tr style=\"text-align: right;\">\n",
       "      <th></th>\n",
       "      <th>Unnamed: 0</th>\n",
       "      <th>Year</th>\n",
       "      <th>Area Name</th>\n",
       "      <th>heathrow_distance</th>\n",
       "      <th>CCG_Poll_Map</th>\n",
       "      <th>Radius Location</th>\n",
       "      <th>LAT</th>\n",
       "      <th>LONG</th>\n",
       "      <th>Indicator Name</th>\n",
       "      <th>Value</th>\n",
       "      <th>Indicator Type</th>\n",
       "    </tr>\n",
       "  </thead>\n",
       "  <tbody>\n",
       "    <tr>\n",
       "      <th>0</th>\n",
       "      <td>0</td>\n",
       "      <td>2003</td>\n",
       "      <td>NHS Berkshire West CCG</td>\n",
       "      <td>49791.742293</td>\n",
       "      <td>Reading</td>\n",
       "      <td>Outer</td>\n",
       "      <td>51.4458</td>\n",
       "      <td>-1.16963</td>\n",
       "      <td>&lt;75 Coronary Heart Disease</td>\n",
       "      <td>57.82</td>\n",
       "      <td>Health - Mortality</td>\n",
       "    </tr>\n",
       "    <tr>\n",
       "      <th>1</th>\n",
       "      <td>1</td>\n",
       "      <td>2003</td>\n",
       "      <td>NHS Brent CCG</td>\n",
       "      <td>16247.542449</td>\n",
       "      <td>No Pollution Readings</td>\n",
       "      <td>Outer</td>\n",
       "      <td>51.5644</td>\n",
       "      <td>-0.27568</td>\n",
       "      <td>&lt;75 Coronary Heart Disease</td>\n",
       "      <td>76.04</td>\n",
       "      <td>Health - Mortality</td>\n",
       "    </tr>\n",
       "    <tr>\n",
       "      <th>2</th>\n",
       "      <td>2</td>\n",
       "      <td>2003</td>\n",
       "      <td>NHS Buckinghamshire CCG</td>\n",
       "      <td>38818.061527</td>\n",
       "      <td>No Pollution Readings</td>\n",
       "      <td>Outer</td>\n",
       "      <td>51.7414</td>\n",
       "      <td>-0.80644</td>\n",
       "      <td>&lt;75 Coronary Heart Disease</td>\n",
       "      <td>51.21</td>\n",
       "      <td>Health - Mortality</td>\n",
       "    </tr>\n",
       "    <tr>\n",
       "      <th>3</th>\n",
       "      <td>3</td>\n",
       "      <td>2003</td>\n",
       "      <td>NHS Croydon CCG</td>\n",
       "      <td>28645.840703</td>\n",
       "      <td>No Pollution Readings</td>\n",
       "      <td>Outer</td>\n",
       "      <td>51.3660</td>\n",
       "      <td>-0.07761</td>\n",
       "      <td>&lt;75 Coronary Heart Disease</td>\n",
       "      <td>65.63</td>\n",
       "      <td>Health - Mortality</td>\n",
       "    </tr>\n",
       "    <tr>\n",
       "      <th>4</th>\n",
       "      <td>4</td>\n",
       "      <td>2003</td>\n",
       "      <td>NHS Ealing CCG</td>\n",
       "      <td>11465.530929</td>\n",
       "      <td>Ealing</td>\n",
       "      <td>Inner</td>\n",
       "      <td>51.5244</td>\n",
       "      <td>-0.31405</td>\n",
       "      <td>&lt;75 Coronary Heart Disease</td>\n",
       "      <td>82.91</td>\n",
       "      <td>Health - Mortality</td>\n",
       "    </tr>\n",
       "  </tbody>\n",
       "</table>\n",
       "</div>"
      ],
      "text/plain": [
       "   Unnamed: 0  Year                Area Name  heathrow_distance  \\\n",
       "0           0  2003   NHS Berkshire West CCG       49791.742293   \n",
       "1           1  2003            NHS Brent CCG       16247.542449   \n",
       "2           2  2003  NHS Buckinghamshire CCG       38818.061527   \n",
       "3           3  2003          NHS Croydon CCG       28645.840703   \n",
       "4           4  2003           NHS Ealing CCG       11465.530929   \n",
       "\n",
       "            CCG_Poll_Map Radius Location      LAT     LONG  \\\n",
       "0                Reading           Outer  51.4458 -1.16963   \n",
       "1  No Pollution Readings           Outer  51.5644 -0.27568   \n",
       "2  No Pollution Readings           Outer  51.7414 -0.80644   \n",
       "3  No Pollution Readings           Outer  51.3660 -0.07761   \n",
       "4                 Ealing           Inner  51.5244 -0.31405   \n",
       "\n",
       "               Indicator Name  Value      Indicator Type  \n",
       "0  <75 Coronary Heart Disease  57.82  Health - Mortality  \n",
       "1  <75 Coronary Heart Disease  76.04  Health - Mortality  \n",
       "2  <75 Coronary Heart Disease  51.21  Health - Mortality  \n",
       "3  <75 Coronary Heart Disease  65.63  Health - Mortality  \n",
       "4  <75 Coronary Heart Disease  82.91  Health - Mortality  "
      ]
     },
     "execution_count": 52,
     "metadata": {},
     "output_type": "execute_result"
    }
   ],
   "source": [
    "df.head()"
   ]
  },
  {
   "cell_type": "code",
   "execution_count": 70,
   "metadata": {},
   "outputs": [
    {
     "name": "stdout",
     "output_type": "stream",
     "text": [
      " the new marks are {'2013': '2013', '2014': '2014', '2015': '2015', '2016': '2016', '2017': '2017', '2018': '2018'}\n",
      "the min is 2013\n",
      "the max is 2018\n"
     ]
    }
   ],
   "source": [
    "# indicator1_years= df[(df['Indicator Name'] =='Asthma Admissions Over 19yr') & (~df['Value'].isnull())]['Year'].unique()\n",
    "# indicator2_years=  df[(df['Indicator Name'] =='Ozone') & (~df['Value'].isnull())]['Year'].unique()\n",
    "\n",
    "\n",
    "indicator1_years = df[(df['Indicator Name'] == 'Asthma Admissions Over 19yr') & (~df['Value'].isnull())]\n",
    "indicator1_years = indicator1_years[indicator1_years['Value'] != 0]['Year'].unique()\n",
    "\n",
    "indicator2_years = df[(df['Indicator Name'] == 'Ozone') & (~df['Value'].isnull())]\n",
    "indicator2_years = indicator2_years[indicator2_years['Value'] != 0]['Year'].unique()\n",
    "\n",
    "both = sorted(list(set(indicator1_years) & set(indicator2_years)))\n",
    "\n",
    "\n",
    "\n",
    "\n",
    "\n",
    "# return the new marks, new min and new max\n",
    "new_marks = {str(year): str(year) for year in both}\n",
    "\n",
    "print(' the new marks are', new_marks)\n",
    "\n",
    "new_min = min(both)\n",
    "\n",
    "print('the min is', new_min)\n",
    "new_max = max(both)\n",
    "print('the max is', new_max)"
   ]
  },
  {
   "cell_type": "code",
   "execution_count": 17,
   "metadata": {},
   "outputs": [],
   "source": [
    "import pandas as pd\n",
    "df_t = pd.read_csv('health_pollution_final.csv')\n"
   ]
  },
  {
   "cell_type": "code",
   "execution_count": 4,
   "metadata": {},
   "outputs": [
    {
     "name": "stdout",
     "output_type": "stream",
     "text": [
      "       Unnamed: 0  Year                Area Name  heathrow_distance  \\\n",
      "200           235  2013   NHS Berkshire West CCG       49791.742290   \n",
      "201           236  2013            NHS Brent CCG       16247.542450   \n",
      "202           237  2013  NHS Buckinghamshire CCG       38818.061530   \n",
      "203           238  2013          NHS Croydon CCG       28645.840700   \n",
      "204           239  2013           NHS Ealing CCG       11465.530930   \n",
      "...           ...   ...                      ...                ...   \n",
      "9949        10909  2014         NHS Hounslow CCG        5336.984712   \n",
      "9969        10929  2015         NHS Hounslow CCG        5336.984712   \n",
      "9989        10949  2016         NHS Hounslow CCG        5336.984712   \n",
      "10009       10969  2017         NHS Hounslow CCG        5336.984712   \n",
      "10025       10985  2018         NHS Hounslow CCG        5336.984712   \n",
      "\n",
      "                CCG_Poll_Map Radius Location      LAT     LONG  \\\n",
      "200                  Reading           Outer  51.4458 -1.16963   \n",
      "201    No Pollution Readings           Outer  51.5644 -0.27568   \n",
      "202    No Pollution Readings           Outer  51.7414 -0.80644   \n",
      "203    No Pollution Readings           Outer  51.3660 -0.07761   \n",
      "204                   Ealing           Inner  51.5244 -0.31405   \n",
      "...                      ...             ...      ...      ...   \n",
      "9949                Hounslow           Inner  51.4624 -0.37847   \n",
      "9969                Hounslow           Inner  51.4624 -0.37847   \n",
      "9989                Hounslow           Inner  51.4624 -0.37847   \n",
      "10009               Hounslow           Inner  51.4624 -0.37847   \n",
      "10025               Hounslow           Inner  51.4624 -0.37847   \n",
      "\n",
      "                                  Indicator Name      Value  \\\n",
      "200    <75 Coronary Heart Disease Mortality Rate  32.470000   \n",
      "201    <75 Coronary Heart Disease Mortality Rate  51.970000   \n",
      "202    <75 Coronary Heart Disease Mortality Rate  26.130000   \n",
      "203    <75 Coronary Heart Disease Mortality Rate  39.940000   \n",
      "204    <75 Coronary Heart Disease Mortality Rate  47.580000   \n",
      "...                                          ...        ...   \n",
      "9949                             Sulphur dioxide   1.858235   \n",
      "9969                             Sulphur dioxide   1.491848   \n",
      "9989                             Sulphur dioxide   1.531786   \n",
      "10009                            Sulphur dioxide   1.060868   \n",
      "10025                            Sulphur dioxide   1.206037   \n",
      "\n",
      "           Indicator Type  \n",
      "200    Health - Mortality  \n",
      "201    Health - Mortality  \n",
      "202    Health - Mortality  \n",
      "203    Health - Mortality  \n",
      "204    Health - Mortality  \n",
      "...                   ...  \n",
      "9949        Air Pollutant  \n",
      "9969        Air Pollutant  \n",
      "9989        Air Pollutant  \n",
      "10009       Air Pollutant  \n",
      "10025       Air Pollutant  \n",
      "\n",
      "[2456 rows x 11 columns]\n",
      "xvars is  532     75.59\n",
      "534     52.50\n",
      "536    139.52\n",
      "537     77.60\n",
      "539    150.38\n",
      "        ...  \n",
      "643     71.18\n",
      "644     78.49\n",
      "645     79.10\n",
      "646    101.75\n",
      "647     94.09\n",
      "Name: Value, Length: 96, dtype: float64\n",
      "length of xvar is 96\n",
      "y_vars is  8885    35.006125\n",
      "8892    34.602025\n",
      "8893    46.691983\n",
      "8894    46.691983\n",
      "8897    46.691983\n",
      "8899    46.691983\n",
      "8900    46.691983\n",
      "8905    36.152357\n",
      "8912    34.739756\n",
      "8913    46.118400\n",
      "8914    46.118400\n",
      "8917    46.118400\n",
      "8919    46.118400\n",
      "8920    46.118400\n",
      "8925    36.436665\n",
      "8932    36.509612\n",
      "8933    49.470074\n",
      "8934    49.470074\n",
      "8937    49.470074\n",
      "8939    49.470074\n",
      "8940    49.470074\n",
      "8945    25.474153\n",
      "8952    31.746314\n",
      "8953    45.569314\n",
      "8954    45.569314\n",
      "8957    45.569314\n",
      "8959    45.569314\n",
      "8960    45.569314\n",
      "8972    31.394449\n",
      "8973    43.244163\n",
      "8974    43.244163\n",
      "8977    43.244163\n",
      "8979    43.244163\n",
      "8980    43.244163\n",
      "8988    36.821549\n",
      "8989    46.121206\n",
      "8990    46.121206\n",
      "8993    46.121206\n",
      "8995    46.121206\n",
      "8996    46.121206\n",
      "Name: Value, dtype: float64\n",
      "length of yvar is 40\n"
     ]
    }
   ],
   "source": [
    "dff = df_t.dropna()\n",
    "\n",
    "years_1 = dff[(dff['Indicator Name'] == 'Asthma Admissions Over 19yr') & (~dff['Value'].isnull())]['Year'].unique()\n",
    "years_2 = dff[(dff['Indicator Name'] == 'Ozone') & (~dff['Value'].isnull())]['Year'].unique()\n",
    "\n",
    "intersection = sorted(list(set(years_1) & set(years_2)))\n",
    "\n",
    "dff = dff[dff['Year'].isin(intersection)]\n",
    "\n",
    "print(dff)\n",
    "\n",
    "x_vars = dff[(dff['Indicator Name'] == 'Asthma Admissions Over 19yr')]['Value']\n",
    "\n",
    "print('xvars is ', x_vars)\n",
    "print('length of xvar is', len(x_vars))\n",
    "\n",
    "y_vars = dff[(dff['Indicator Name'] == 'Ozone')]['Value']\n",
    "\n",
    "print('y_vars is ', y_vars)\n",
    "print('length of yvar is', len(y_vars))"
   ]
  },
  {
   "cell_type": "code",
   "execution_count": 33,
   "metadata": {},
   "outputs": [],
   "source": [
    "df_t = pd.read_csv('health_pollution_final.csv')\n",
    "\n",
    "dff = df_t.dropna()\n"
   ]
  },
  {
   "cell_type": "code",
   "execution_count": 26,
   "metadata": {},
   "outputs": [
    {
     "name": "stdout",
     "output_type": "stream",
     "text": [
      "['NHS Ealing CCG' 'NHS Hounslow CCG' 'NHS Kingston CCG' 'NHS Merton CCG'\n",
      " 'NHS Richmond CCG' 'NHS Sutton CCG' 'NHS Wandsworth CCG']\n",
      "['NHS Ealing CCG', 'NHS Hounslow CCG', 'NHS Kingston CCG', 'NHS Merton CCG', 'NHS Richmond CCG', 'NHS Sutton CCG', 'NHS Wandsworth CCG']\n"
     ]
    },
    {
     "data": {
      "text/plain": [
       "(1100, 11)"
      ]
     },
     "execution_count": 26,
     "metadata": {},
     "output_type": "execute_result"
    }
   ],
   "source": [
    "years_1 = dff[(dff['Indicator Name'] == 'Asthma Admissions Over 19yr') & (~dff['Value'].isnull())]['Year'].unique()\n",
    "years_2 = dff[(dff['Indicator Name'] == 'Ozone') & (~dff['Value'].isnull())]['Year'].unique()\n",
    "\n",
    "ccgs1 = dff[(dff['Indicator Name'] == 'Asthma Admissions Over 19yr')]['Area Name'].unique()\n",
    "ccgs2 = dff[(dff['Indicator Name'] == 'Ozone')]['Area Name'].unique()\n",
    "\n",
    "\n",
    "print(ccgs1)\n",
    "\n",
    "intersection_years = sorted(list(set(years_1) & set(years_2)))\n",
    "\n",
    "print(intersection_ccgs)\n",
    "intersection_ccgs = sorted(list(set(ccgs1) & set(ccgs2)))\n",
    "\n",
    "\n",
    "dff = dff[(dff['Year'].isin(intersection_years)) ]\n",
    "\n",
    "dff = dff[(dff['Area Name'].isin(intersection_ccgs)) ]\n",
    "\n",
    "\n",
    "dff.shape"
   ]
  },
  {
   "cell_type": "code",
   "execution_count": 46,
   "metadata": {},
   "outputs": [
    {
     "name": "stdout",
     "output_type": "stream",
     "text": [
      "(208, 11)\n"
     ]
    },
    {
     "data": {
      "text/html": [
       "<div>\n",
       "<style scoped>\n",
       "    .dataframe tbody tr th:only-of-type {\n",
       "        vertical-align: middle;\n",
       "    }\n",
       "\n",
       "    .dataframe tbody tr th {\n",
       "        vertical-align: top;\n",
       "    }\n",
       "\n",
       "    .dataframe thead th {\n",
       "        text-align: right;\n",
       "    }\n",
       "</style>\n",
       "<table border=\"1\" class=\"dataframe\">\n",
       "  <thead>\n",
       "    <tr style=\"text-align: right;\">\n",
       "      <th></th>\n",
       "      <th>Unnamed: 0</th>\n",
       "      <th>Year</th>\n",
       "      <th>Area Name</th>\n",
       "      <th>heathrow_distance</th>\n",
       "      <th>CCG_Poll_Map</th>\n",
       "      <th>Radius Location</th>\n",
       "      <th>LAT</th>\n",
       "      <th>LONG</th>\n",
       "      <th>Indicator Name</th>\n",
       "      <th>Value</th>\n",
       "      <th>Indicator Type</th>\n",
       "    </tr>\n",
       "  </thead>\n",
       "  <tbody>\n",
       "    <tr>\n",
       "      <th>9037</th>\n",
       "      <td>9933</td>\n",
       "      <td>2004</td>\n",
       "      <td>NHS Ealing CCG</td>\n",
       "      <td>11465.53093</td>\n",
       "      <td>Ealing</td>\n",
       "      <td>Inner</td>\n",
       "      <td>51.5244</td>\n",
       "      <td>-0.31405</td>\n",
       "      <td>PM10</td>\n",
       "      <td>23.333576</td>\n",
       "      <td>Air Pollutant</td>\n",
       "    </tr>\n",
       "    <tr>\n",
       "      <th>9038</th>\n",
       "      <td>9934</td>\n",
       "      <td>2004</td>\n",
       "      <td>NHS East Berkshire CCG</td>\n",
       "      <td>15803.71343</td>\n",
       "      <td>East Berkshire</td>\n",
       "      <td>Outer</td>\n",
       "      <td>51.4541</td>\n",
       "      <td>-0.68026</td>\n",
       "      <td>PM10</td>\n",
       "      <td>23.849996</td>\n",
       "      <td>Air Pollutant</td>\n",
       "    </tr>\n",
       "    <tr>\n",
       "      <th>9040</th>\n",
       "      <td>9936</td>\n",
       "      <td>2004</td>\n",
       "      <td>NHS Hammersmith And Fulham CCG</td>\n",
       "      <td>16573.14549</td>\n",
       "      <td>Hammersmith and Fulham</td>\n",
       "      <td>Outer</td>\n",
       "      <td>51.4873</td>\n",
       "      <td>-0.21735</td>\n",
       "      <td>PM10</td>\n",
       "      <td>26.158435</td>\n",
       "      <td>Air Pollutant</td>\n",
       "    </tr>\n",
       "    <tr>\n",
       "      <th>9041</th>\n",
       "      <td>9937</td>\n",
       "      <td>2004</td>\n",
       "      <td>NHS Hammersmith And Fulham CCG</td>\n",
       "      <td>16573.14549</td>\n",
       "      <td>Hammersmith and Fulham</td>\n",
       "      <td>Outer</td>\n",
       "      <td>51.4873</td>\n",
       "      <td>-0.21735</td>\n",
       "      <td>PM10</td>\n",
       "      <td>30.948655</td>\n",
       "      <td>Air Pollutant</td>\n",
       "    </tr>\n",
       "    <tr>\n",
       "      <th>9042</th>\n",
       "      <td>9938</td>\n",
       "      <td>2004</td>\n",
       "      <td>NHS Hammersmith And Fulham CCG</td>\n",
       "      <td>16573.14549</td>\n",
       "      <td>Hammersmith and Fulham</td>\n",
       "      <td>Outer</td>\n",
       "      <td>51.4873</td>\n",
       "      <td>-0.21735</td>\n",
       "      <td>PM10</td>\n",
       "      <td>26.324390</td>\n",
       "      <td>Air Pollutant</td>\n",
       "    </tr>\n",
       "    <tr>\n",
       "      <th>...</th>\n",
       "      <td>...</td>\n",
       "      <td>...</td>\n",
       "      <td>...</td>\n",
       "      <td>...</td>\n",
       "      <td>...</td>\n",
       "      <td>...</td>\n",
       "      <td>...</td>\n",
       "      <td>...</td>\n",
       "      <td>...</td>\n",
       "      <td>...</td>\n",
       "      <td>...</td>\n",
       "    </tr>\n",
       "    <tr>\n",
       "      <th>9373</th>\n",
       "      <td>10269</td>\n",
       "      <td>2019</td>\n",
       "      <td>NHS Merton CCG</td>\n",
       "      <td>19616.70838</td>\n",
       "      <td>South West London</td>\n",
       "      <td>Outer</td>\n",
       "      <td>51.4106</td>\n",
       "      <td>-0.18867</td>\n",
       "      <td>PM10</td>\n",
       "      <td>17.127388</td>\n",
       "      <td>Air Pollutant</td>\n",
       "    </tr>\n",
       "    <tr>\n",
       "      <th>9374</th>\n",
       "      <td>10270</td>\n",
       "      <td>2019</td>\n",
       "      <td>NHS North West Surrey CCG</td>\n",
       "      <td>12083.80783</td>\n",
       "      <td>Surrey Heartlands</td>\n",
       "      <td>Inner</td>\n",
       "      <td>51.3683</td>\n",
       "      <td>-0.51519</td>\n",
       "      <td>PM10</td>\n",
       "      <td>15.330294</td>\n",
       "      <td>Air Pollutant</td>\n",
       "    </tr>\n",
       "    <tr>\n",
       "      <th>9376</th>\n",
       "      <td>10272</td>\n",
       "      <td>2019</td>\n",
       "      <td>NHS Richmond CCG</td>\n",
       "      <td>11948.41495</td>\n",
       "      <td>South West London</td>\n",
       "      <td>Inner</td>\n",
       "      <td>51.4403</td>\n",
       "      <td>-0.28911</td>\n",
       "      <td>PM10</td>\n",
       "      <td>17.127388</td>\n",
       "      <td>Air Pollutant</td>\n",
       "    </tr>\n",
       "    <tr>\n",
       "      <th>9378</th>\n",
       "      <td>10274</td>\n",
       "      <td>2019</td>\n",
       "      <td>NHS Sutton CCG</td>\n",
       "      <td>23268.28951</td>\n",
       "      <td>South West London</td>\n",
       "      <td>Outer</td>\n",
       "      <td>51.3576</td>\n",
       "      <td>-0.17227</td>\n",
       "      <td>PM10</td>\n",
       "      <td>17.127388</td>\n",
       "      <td>Air Pollutant</td>\n",
       "    </tr>\n",
       "    <tr>\n",
       "      <th>9379</th>\n",
       "      <td>10275</td>\n",
       "      <td>2019</td>\n",
       "      <td>NHS Wandsworth CCG</td>\n",
       "      <td>17762.40187</td>\n",
       "      <td>South West London</td>\n",
       "      <td>Outer</td>\n",
       "      <td>51.4524</td>\n",
       "      <td>-0.20028</td>\n",
       "      <td>PM10</td>\n",
       "      <td>17.127388</td>\n",
       "      <td>Air Pollutant</td>\n",
       "    </tr>\n",
       "  </tbody>\n",
       "</table>\n",
       "<p>208 rows × 11 columns</p>\n",
       "</div>"
      ],
      "text/plain": [
       "      Unnamed: 0  Year                       Area Name  heathrow_distance  \\\n",
       "9037        9933  2004                  NHS Ealing CCG        11465.53093   \n",
       "9038        9934  2004          NHS East Berkshire CCG        15803.71343   \n",
       "9040        9936  2004  NHS Hammersmith And Fulham CCG        16573.14549   \n",
       "9041        9937  2004  NHS Hammersmith And Fulham CCG        16573.14549   \n",
       "9042        9938  2004  NHS Hammersmith And Fulham CCG        16573.14549   \n",
       "...          ...   ...                             ...                ...   \n",
       "9373       10269  2019                  NHS Merton CCG        19616.70838   \n",
       "9374       10270  2019       NHS North West Surrey CCG        12083.80783   \n",
       "9376       10272  2019                NHS Richmond CCG        11948.41495   \n",
       "9378       10274  2019                  NHS Sutton CCG        23268.28951   \n",
       "9379       10275  2019              NHS Wandsworth CCG        17762.40187   \n",
       "\n",
       "                CCG_Poll_Map Radius Location      LAT     LONG Indicator Name  \\\n",
       "9037                  Ealing           Inner  51.5244 -0.31405           PM10   \n",
       "9038          East Berkshire           Outer  51.4541 -0.68026           PM10   \n",
       "9040  Hammersmith and Fulham           Outer  51.4873 -0.21735           PM10   \n",
       "9041  Hammersmith and Fulham           Outer  51.4873 -0.21735           PM10   \n",
       "9042  Hammersmith and Fulham           Outer  51.4873 -0.21735           PM10   \n",
       "...                      ...             ...      ...      ...            ...   \n",
       "9373       South West London           Outer  51.4106 -0.18867           PM10   \n",
       "9374       Surrey Heartlands           Inner  51.3683 -0.51519           PM10   \n",
       "9376       South West London           Inner  51.4403 -0.28911           PM10   \n",
       "9378       South West London           Outer  51.3576 -0.17227           PM10   \n",
       "9379       South West London           Outer  51.4524 -0.20028           PM10   \n",
       "\n",
       "          Value Indicator Type  \n",
       "9037  23.333576  Air Pollutant  \n",
       "9038  23.849996  Air Pollutant  \n",
       "9040  26.158435  Air Pollutant  \n",
       "9041  30.948655  Air Pollutant  \n",
       "9042  26.324390  Air Pollutant  \n",
       "...         ...            ...  \n",
       "9373  17.127388  Air Pollutant  \n",
       "9374  15.330294  Air Pollutant  \n",
       "9376  17.127388  Air Pollutant  \n",
       "9378  17.127388  Air Pollutant  \n",
       "9379  17.127388  Air Pollutant  \n",
       "\n",
       "[208 rows x 11 columns]"
      ]
     },
     "execution_count": 46,
     "metadata": {},
     "output_type": "execute_result"
    }
   ],
   "source": [
    "print(dff[(dff['Indicator Name'] == 'PM10')].shape)\n",
    "\n",
    "dff[(dff['Indicator Name'] == 'PM10')]\n"
   ]
  },
  {
   "cell_type": "code",
   "execution_count": 47,
   "metadata": {},
   "outputs": [
    {
     "name": "stdout",
     "output_type": "stream",
     "text": [
      "(220, 11)\n"
     ]
    },
    {
     "data": {
      "text/html": [
       "<div>\n",
       "<style scoped>\n",
       "    .dataframe tbody tr th:only-of-type {\n",
       "        vertical-align: middle;\n",
       "    }\n",
       "\n",
       "    .dataframe tbody tr th {\n",
       "        vertical-align: top;\n",
       "    }\n",
       "\n",
       "    .dataframe thead th {\n",
       "        text-align: right;\n",
       "    }\n",
       "</style>\n",
       "<table border=\"1\" class=\"dataframe\">\n",
       "  <thead>\n",
       "    <tr style=\"text-align: right;\">\n",
       "      <th></th>\n",
       "      <th>Unnamed: 0</th>\n",
       "      <th>Year</th>\n",
       "      <th>Area Name</th>\n",
       "      <th>heathrow_distance</th>\n",
       "      <th>CCG_Poll_Map</th>\n",
       "      <th>Radius Location</th>\n",
       "      <th>LAT</th>\n",
       "      <th>LONG</th>\n",
       "      <th>Indicator Name</th>\n",
       "      <th>Value</th>\n",
       "      <th>Indicator Type</th>\n",
       "    </tr>\n",
       "  </thead>\n",
       "  <tbody>\n",
       "    <tr>\n",
       "      <th>1056</th>\n",
       "      <td>1171</td>\n",
       "      <td>2006</td>\n",
       "      <td>NHS Berkshire West CCG</td>\n",
       "      <td>49791.742290</td>\n",
       "      <td>Reading</td>\n",
       "      <td>Outer</td>\n",
       "      <td>51.4458</td>\n",
       "      <td>-1.16963</td>\n",
       "      <td>Asthma Mortality Rate</td>\n",
       "      <td>2.321572</td>\n",
       "      <td>Health - Mortality</td>\n",
       "    </tr>\n",
       "    <tr>\n",
       "      <th>1057</th>\n",
       "      <td>1173</td>\n",
       "      <td>2006</td>\n",
       "      <td>NHS Brent CCG</td>\n",
       "      <td>16247.542450</td>\n",
       "      <td>No Pollution Readings</td>\n",
       "      <td>Outer</td>\n",
       "      <td>51.5644</td>\n",
       "      <td>-0.27568</td>\n",
       "      <td>Asthma Mortality Rate</td>\n",
       "      <td>3.563913</td>\n",
       "      <td>Health - Mortality</td>\n",
       "    </tr>\n",
       "    <tr>\n",
       "      <th>1058</th>\n",
       "      <td>1174</td>\n",
       "      <td>2006</td>\n",
       "      <td>NHS Buckinghamshire CCG</td>\n",
       "      <td>38818.061530</td>\n",
       "      <td>No Pollution Readings</td>\n",
       "      <td>Outer</td>\n",
       "      <td>51.7414</td>\n",
       "      <td>-0.80644</td>\n",
       "      <td>Asthma Mortality Rate</td>\n",
       "      <td>2.454168</td>\n",
       "      <td>Health - Mortality</td>\n",
       "    </tr>\n",
       "    <tr>\n",
       "      <th>1059</th>\n",
       "      <td>1175</td>\n",
       "      <td>2006</td>\n",
       "      <td>NHS Croydon CCG</td>\n",
       "      <td>28645.840700</td>\n",
       "      <td>No Pollution Readings</td>\n",
       "      <td>Outer</td>\n",
       "      <td>51.3660</td>\n",
       "      <td>-0.07761</td>\n",
       "      <td>Asthma Mortality Rate</td>\n",
       "      <td>2.990000</td>\n",
       "      <td>Health - Mortality</td>\n",
       "    </tr>\n",
       "    <tr>\n",
       "      <th>1060</th>\n",
       "      <td>1176</td>\n",
       "      <td>2006</td>\n",
       "      <td>NHS Ealing CCG</td>\n",
       "      <td>11465.530930</td>\n",
       "      <td>Ealing</td>\n",
       "      <td>Inner</td>\n",
       "      <td>51.5244</td>\n",
       "      <td>-0.31405</td>\n",
       "      <td>Asthma Mortality Rate</td>\n",
       "      <td>2.726769</td>\n",
       "      <td>Health - Mortality</td>\n",
       "    </tr>\n",
       "    <tr>\n",
       "      <th>...</th>\n",
       "      <td>...</td>\n",
       "      <td>...</td>\n",
       "      <td>...</td>\n",
       "      <td>...</td>\n",
       "      <td>...</td>\n",
       "      <td>...</td>\n",
       "      <td>...</td>\n",
       "      <td>...</td>\n",
       "      <td>...</td>\n",
       "      <td>...</td>\n",
       "      <td>...</td>\n",
       "    </tr>\n",
       "    <tr>\n",
       "      <th>1284</th>\n",
       "      <td>1424</td>\n",
       "      <td>2017</td>\n",
       "      <td>NHS Harrow CCG</td>\n",
       "      <td>16107.864870</td>\n",
       "      <td>No Pollution Readings</td>\n",
       "      <td>Outer</td>\n",
       "      <td>51.5946</td>\n",
       "      <td>-0.33603</td>\n",
       "      <td>Asthma Mortality Rate</td>\n",
       "      <td>2.844983</td>\n",
       "      <td>Health - Mortality</td>\n",
       "    </tr>\n",
       "    <tr>\n",
       "      <th>1285</th>\n",
       "      <td>1425</td>\n",
       "      <td>2017</td>\n",
       "      <td>NHS Herts Valleys CCG</td>\n",
       "      <td>29114.522130</td>\n",
       "      <td>Watford</td>\n",
       "      <td>Outer</td>\n",
       "      <td>51.7317</td>\n",
       "      <td>-0.45521</td>\n",
       "      <td>Asthma Mortality Rate</td>\n",
       "      <td>1.706894</td>\n",
       "      <td>Health - Mortality</td>\n",
       "    </tr>\n",
       "    <tr>\n",
       "      <th>1286</th>\n",
       "      <td>1426</td>\n",
       "      <td>2017</td>\n",
       "      <td>NHS Hillingdon CCG</td>\n",
       "      <td>7458.185529</td>\n",
       "      <td>Hillingdon</td>\n",
       "      <td>Inner</td>\n",
       "      <td>51.5366</td>\n",
       "      <td>-0.44180</td>\n",
       "      <td>Asthma Mortality Rate</td>\n",
       "      <td>2.991859</td>\n",
       "      <td>Health - Mortality</td>\n",
       "    </tr>\n",
       "    <tr>\n",
       "      <th>1287</th>\n",
       "      <td>1427</td>\n",
       "      <td>2017</td>\n",
       "      <td>NHS Hounslow CCG</td>\n",
       "      <td>5336.984712</td>\n",
       "      <td>Hounslow</td>\n",
       "      <td>Inner</td>\n",
       "      <td>51.4624</td>\n",
       "      <td>-0.37847</td>\n",
       "      <td>Asthma Mortality Rate</td>\n",
       "      <td>3.538386</td>\n",
       "      <td>Health - Mortality</td>\n",
       "    </tr>\n",
       "    <tr>\n",
       "      <th>1291</th>\n",
       "      <td>1431</td>\n",
       "      <td>2017</td>\n",
       "      <td>NHS Oxfordshire CCG</td>\n",
       "      <td>66982.407890</td>\n",
       "      <td>Oxford</td>\n",
       "      <td>Outer</td>\n",
       "      <td>51.7715</td>\n",
       "      <td>-1.29146</td>\n",
       "      <td>Asthma Mortality Rate</td>\n",
       "      <td>2.936432</td>\n",
       "      <td>Health - Mortality</td>\n",
       "    </tr>\n",
       "  </tbody>\n",
       "</table>\n",
       "<p>220 rows × 11 columns</p>\n",
       "</div>"
      ],
      "text/plain": [
       "      Unnamed: 0  Year                Area Name  heathrow_distance  \\\n",
       "1056        1171  2006   NHS Berkshire West CCG       49791.742290   \n",
       "1057        1173  2006            NHS Brent CCG       16247.542450   \n",
       "1058        1174  2006  NHS Buckinghamshire CCG       38818.061530   \n",
       "1059        1175  2006          NHS Croydon CCG       28645.840700   \n",
       "1060        1176  2006           NHS Ealing CCG       11465.530930   \n",
       "...          ...   ...                      ...                ...   \n",
       "1284        1424  2017           NHS Harrow CCG       16107.864870   \n",
       "1285        1425  2017    NHS Herts Valleys CCG       29114.522130   \n",
       "1286        1426  2017       NHS Hillingdon CCG        7458.185529   \n",
       "1287        1427  2017         NHS Hounslow CCG        5336.984712   \n",
       "1291        1431  2017      NHS Oxfordshire CCG       66982.407890   \n",
       "\n",
       "               CCG_Poll_Map Radius Location      LAT     LONG  \\\n",
       "1056                Reading           Outer  51.4458 -1.16963   \n",
       "1057  No Pollution Readings           Outer  51.5644 -0.27568   \n",
       "1058  No Pollution Readings           Outer  51.7414 -0.80644   \n",
       "1059  No Pollution Readings           Outer  51.3660 -0.07761   \n",
       "1060                 Ealing           Inner  51.5244 -0.31405   \n",
       "...                     ...             ...      ...      ...   \n",
       "1284  No Pollution Readings           Outer  51.5946 -0.33603   \n",
       "1285                Watford           Outer  51.7317 -0.45521   \n",
       "1286             Hillingdon           Inner  51.5366 -0.44180   \n",
       "1287               Hounslow           Inner  51.4624 -0.37847   \n",
       "1291                 Oxford           Outer  51.7715 -1.29146   \n",
       "\n",
       "             Indicator Name     Value      Indicator Type  \n",
       "1056  Asthma Mortality Rate  2.321572  Health - Mortality  \n",
       "1057  Asthma Mortality Rate  3.563913  Health - Mortality  \n",
       "1058  Asthma Mortality Rate  2.454168  Health - Mortality  \n",
       "1059  Asthma Mortality Rate  2.990000  Health - Mortality  \n",
       "1060  Asthma Mortality Rate  2.726769  Health - Mortality  \n",
       "...                     ...       ...                 ...  \n",
       "1284  Asthma Mortality Rate  2.844983  Health - Mortality  \n",
       "1285  Asthma Mortality Rate  1.706894  Health - Mortality  \n",
       "1286  Asthma Mortality Rate  2.991859  Health - Mortality  \n",
       "1287  Asthma Mortality Rate  3.538386  Health - Mortality  \n",
       "1291  Asthma Mortality Rate  2.936432  Health - Mortality  \n",
       "\n",
       "[220 rows x 11 columns]"
      ]
     },
     "execution_count": 47,
     "metadata": {},
     "output_type": "execute_result"
    }
   ],
   "source": [
    "print(dff[(dff['Indicator Name'] == 'Asthma Mortality Rate')].shape)\n",
    "dff[(dff['Indicator Name'] == 'Asthma Mortality Rate')]"
   ]
  },
  {
   "cell_type": "code",
   "execution_count": 54,
   "metadata": {},
   "outputs": [],
   "source": [
    "dff = df_t.dropna()\n",
    "\n",
    "joined_cols = ['Area Name', 'Year', 'Indicator Name', 'Value']\n",
    "x = dff[(dff['Indicator Name'] == 'Asthma Admissions Over 19yr')]\n",
    "y = dff[(dff['Indicator Name'] == 'PM10')]\n",
    "joined = pd.merge(x[joined_cols], y[joined_cols], how ='inner', on=['Year', 'Area Name'], suffixes=('_x', '_y'))"
   ]
  },
  {
   "cell_type": "code",
   "execution_count": 55,
   "metadata": {},
   "outputs": [
    {
     "data": {
      "text/html": [
       "<div>\n",
       "<style scoped>\n",
       "    .dataframe tbody tr th:only-of-type {\n",
       "        vertical-align: middle;\n",
       "    }\n",
       "\n",
       "    .dataframe tbody tr th {\n",
       "        vertical-align: top;\n",
       "    }\n",
       "\n",
       "    .dataframe thead th {\n",
       "        text-align: right;\n",
       "    }\n",
       "</style>\n",
       "<table border=\"1\" class=\"dataframe\">\n",
       "  <thead>\n",
       "    <tr style=\"text-align: right;\">\n",
       "      <th></th>\n",
       "      <th>Area Name</th>\n",
       "      <th>Year</th>\n",
       "      <th>Indicator Name_x</th>\n",
       "      <th>Value_x</th>\n",
       "      <th>Indicator Name_y</th>\n",
       "      <th>Value_y</th>\n",
       "    </tr>\n",
       "  </thead>\n",
       "  <tbody>\n",
       "    <tr>\n",
       "      <th>0</th>\n",
       "      <td>NHS Ealing CCG</td>\n",
       "      <td>2013</td>\n",
       "      <td>Asthma Admissions Over 19yr</td>\n",
       "      <td>139.52</td>\n",
       "      <td>PM10</td>\n",
       "      <td>25.208132</td>\n",
       "    </tr>\n",
       "    <tr>\n",
       "      <th>1</th>\n",
       "      <td>NHS East Berkshire CCG</td>\n",
       "      <td>2013</td>\n",
       "      <td>Asthma Admissions Over 19yr</td>\n",
       "      <td>77.60</td>\n",
       "      <td>PM10</td>\n",
       "      <td>22.190330</td>\n",
       "    </tr>\n",
       "    <tr>\n",
       "      <th>2</th>\n",
       "      <td>NHS Hillingdon CCG</td>\n",
       "      <td>2013</td>\n",
       "      <td>Asthma Admissions Over 19yr</td>\n",
       "      <td>109.50</td>\n",
       "      <td>PM10</td>\n",
       "      <td>22.727337</td>\n",
       "    </tr>\n",
       "    <tr>\n",
       "      <th>3</th>\n",
       "      <td>NHS Kingston CCG</td>\n",
       "      <td>2013</td>\n",
       "      <td>Asthma Admissions Over 19yr</td>\n",
       "      <td>48.36</td>\n",
       "      <td>PM10</td>\n",
       "      <td>21.258820</td>\n",
       "    </tr>\n",
       "    <tr>\n",
       "      <th>4</th>\n",
       "      <td>NHS Merton CCG</td>\n",
       "      <td>2013</td>\n",
       "      <td>Asthma Admissions Over 19yr</td>\n",
       "      <td>62.78</td>\n",
       "      <td>PM10</td>\n",
       "      <td>21.258820</td>\n",
       "    </tr>\n",
       "    <tr>\n",
       "      <th>5</th>\n",
       "      <td>NHS North West Surrey CCG</td>\n",
       "      <td>2013</td>\n",
       "      <td>Asthma Admissions Over 19yr</td>\n",
       "      <td>65.10</td>\n",
       "      <td>PM10</td>\n",
       "      <td>21.585237</td>\n",
       "    </tr>\n",
       "    <tr>\n",
       "      <th>6</th>\n",
       "      <td>NHS Richmond CCG</td>\n",
       "      <td>2013</td>\n",
       "      <td>Asthma Admissions Over 19yr</td>\n",
       "      <td>35.68</td>\n",
       "      <td>PM10</td>\n",
       "      <td>21.258820</td>\n",
       "    </tr>\n",
       "    <tr>\n",
       "      <th>7</th>\n",
       "      <td>NHS Sutton CCG</td>\n",
       "      <td>2013</td>\n",
       "      <td>Asthma Admissions Over 19yr</td>\n",
       "      <td>77.91</td>\n",
       "      <td>PM10</td>\n",
       "      <td>21.258820</td>\n",
       "    </tr>\n",
       "    <tr>\n",
       "      <th>8</th>\n",
       "      <td>NHS Wandsworth CCG</td>\n",
       "      <td>2013</td>\n",
       "      <td>Asthma Admissions Over 19yr</td>\n",
       "      <td>84.18</td>\n",
       "      <td>PM10</td>\n",
       "      <td>21.258820</td>\n",
       "    </tr>\n",
       "    <tr>\n",
       "      <th>9</th>\n",
       "      <td>NHS Ealing CCG</td>\n",
       "      <td>2014</td>\n",
       "      <td>Asthma Admissions Over 19yr</td>\n",
       "      <td>142.95</td>\n",
       "      <td>PM10</td>\n",
       "      <td>20.096600</td>\n",
       "    </tr>\n",
       "    <tr>\n",
       "      <th>10</th>\n",
       "      <td>NHS East Berkshire CCG</td>\n",
       "      <td>2014</td>\n",
       "      <td>Asthma Admissions Over 19yr</td>\n",
       "      <td>102.05</td>\n",
       "      <td>PM10</td>\n",
       "      <td>19.033874</td>\n",
       "    </tr>\n",
       "    <tr>\n",
       "      <th>11</th>\n",
       "      <td>NHS Hillingdon CCG</td>\n",
       "      <td>2014</td>\n",
       "      <td>Asthma Admissions Over 19yr</td>\n",
       "      <td>132.98</td>\n",
       "      <td>PM10</td>\n",
       "      <td>21.325229</td>\n",
       "    </tr>\n",
       "    <tr>\n",
       "      <th>12</th>\n",
       "      <td>NHS Kingston CCG</td>\n",
       "      <td>2014</td>\n",
       "      <td>Asthma Admissions Over 19yr</td>\n",
       "      <td>53.85</td>\n",
       "      <td>PM10</td>\n",
       "      <td>17.834867</td>\n",
       "    </tr>\n",
       "    <tr>\n",
       "      <th>13</th>\n",
       "      <td>NHS Merton CCG</td>\n",
       "      <td>2014</td>\n",
       "      <td>Asthma Admissions Over 19yr</td>\n",
       "      <td>108.15</td>\n",
       "      <td>PM10</td>\n",
       "      <td>17.834867</td>\n",
       "    </tr>\n",
       "    <tr>\n",
       "      <th>14</th>\n",
       "      <td>NHS North West Surrey CCG</td>\n",
       "      <td>2014</td>\n",
       "      <td>Asthma Admissions Over 19yr</td>\n",
       "      <td>69.17</td>\n",
       "      <td>PM10</td>\n",
       "      <td>17.701810</td>\n",
       "    </tr>\n",
       "    <tr>\n",
       "      <th>15</th>\n",
       "      <td>NHS Richmond CCG</td>\n",
       "      <td>2014</td>\n",
       "      <td>Asthma Admissions Over 19yr</td>\n",
       "      <td>45.63</td>\n",
       "      <td>PM10</td>\n",
       "      <td>17.834867</td>\n",
       "    </tr>\n",
       "    <tr>\n",
       "      <th>16</th>\n",
       "      <td>NHS Sutton CCG</td>\n",
       "      <td>2014</td>\n",
       "      <td>Asthma Admissions Over 19yr</td>\n",
       "      <td>94.67</td>\n",
       "      <td>PM10</td>\n",
       "      <td>17.834867</td>\n",
       "    </tr>\n",
       "    <tr>\n",
       "      <th>17</th>\n",
       "      <td>NHS Wandsworth CCG</td>\n",
       "      <td>2014</td>\n",
       "      <td>Asthma Admissions Over 19yr</td>\n",
       "      <td>103.58</td>\n",
       "      <td>PM10</td>\n",
       "      <td>17.834867</td>\n",
       "    </tr>\n",
       "    <tr>\n",
       "      <th>18</th>\n",
       "      <td>NHS Ealing CCG</td>\n",
       "      <td>2015</td>\n",
       "      <td>Asthma Admissions Over 19yr</td>\n",
       "      <td>140.65</td>\n",
       "      <td>PM10</td>\n",
       "      <td>22.298302</td>\n",
       "    </tr>\n",
       "    <tr>\n",
       "      <th>19</th>\n",
       "      <td>NHS East Berkshire CCG</td>\n",
       "      <td>2015</td>\n",
       "      <td>Asthma Admissions Over 19yr</td>\n",
       "      <td>77.06</td>\n",
       "      <td>PM10</td>\n",
       "      <td>16.242082</td>\n",
       "    </tr>\n",
       "    <tr>\n",
       "      <th>20</th>\n",
       "      <td>NHS Hillingdon CCG</td>\n",
       "      <td>2015</td>\n",
       "      <td>Asthma Admissions Over 19yr</td>\n",
       "      <td>93.14</td>\n",
       "      <td>PM10</td>\n",
       "      <td>18.931073</td>\n",
       "    </tr>\n",
       "    <tr>\n",
       "      <th>21</th>\n",
       "      <td>NHS Kingston CCG</td>\n",
       "      <td>2015</td>\n",
       "      <td>Asthma Admissions Over 19yr</td>\n",
       "      <td>53.96</td>\n",
       "      <td>PM10</td>\n",
       "      <td>15.319123</td>\n",
       "    </tr>\n",
       "    <tr>\n",
       "      <th>22</th>\n",
       "      <td>NHS Merton CCG</td>\n",
       "      <td>2015</td>\n",
       "      <td>Asthma Admissions Over 19yr</td>\n",
       "      <td>102.64</td>\n",
       "      <td>PM10</td>\n",
       "      <td>15.319123</td>\n",
       "    </tr>\n",
       "    <tr>\n",
       "      <th>23</th>\n",
       "      <td>NHS North West Surrey CCG</td>\n",
       "      <td>2015</td>\n",
       "      <td>Asthma Admissions Over 19yr</td>\n",
       "      <td>57.60</td>\n",
       "      <td>PM10</td>\n",
       "      <td>13.508985</td>\n",
       "    </tr>\n",
       "    <tr>\n",
       "      <th>24</th>\n",
       "      <td>NHS Richmond CCG</td>\n",
       "      <td>2015</td>\n",
       "      <td>Asthma Admissions Over 19yr</td>\n",
       "      <td>61.40</td>\n",
       "      <td>PM10</td>\n",
       "      <td>15.319123</td>\n",
       "    </tr>\n",
       "    <tr>\n",
       "      <th>25</th>\n",
       "      <td>NHS Sutton CCG</td>\n",
       "      <td>2015</td>\n",
       "      <td>Asthma Admissions Over 19yr</td>\n",
       "      <td>95.44</td>\n",
       "      <td>PM10</td>\n",
       "      <td>15.319123</td>\n",
       "    </tr>\n",
       "    <tr>\n",
       "      <th>26</th>\n",
       "      <td>NHS Wandsworth CCG</td>\n",
       "      <td>2015</td>\n",
       "      <td>Asthma Admissions Over 19yr</td>\n",
       "      <td>95.21</td>\n",
       "      <td>PM10</td>\n",
       "      <td>15.319123</td>\n",
       "    </tr>\n",
       "    <tr>\n",
       "      <th>27</th>\n",
       "      <td>NHS Ealing CCG</td>\n",
       "      <td>2016</td>\n",
       "      <td>Asthma Admissions Over 19yr</td>\n",
       "      <td>147.82</td>\n",
       "      <td>PM10</td>\n",
       "      <td>22.008693</td>\n",
       "    </tr>\n",
       "    <tr>\n",
       "      <th>28</th>\n",
       "      <td>NHS East Berkshire CCG</td>\n",
       "      <td>2016</td>\n",
       "      <td>Asthma Admissions Over 19yr</td>\n",
       "      <td>117.37</td>\n",
       "      <td>PM10</td>\n",
       "      <td>15.282021</td>\n",
       "    </tr>\n",
       "    <tr>\n",
       "      <th>29</th>\n",
       "      <td>NHS Hillingdon CCG</td>\n",
       "      <td>2016</td>\n",
       "      <td>Asthma Admissions Over 19yr</td>\n",
       "      <td>94.93</td>\n",
       "      <td>PM10</td>\n",
       "      <td>19.543862</td>\n",
       "    </tr>\n",
       "    <tr>\n",
       "      <th>30</th>\n",
       "      <td>NHS Kingston CCG</td>\n",
       "      <td>2016</td>\n",
       "      <td>Asthma Admissions Over 19yr</td>\n",
       "      <td>84.57</td>\n",
       "      <td>PM10</td>\n",
       "      <td>18.424106</td>\n",
       "    </tr>\n",
       "    <tr>\n",
       "      <th>31</th>\n",
       "      <td>NHS Merton CCG</td>\n",
       "      <td>2016</td>\n",
       "      <td>Asthma Admissions Over 19yr</td>\n",
       "      <td>101.38</td>\n",
       "      <td>PM10</td>\n",
       "      <td>18.424106</td>\n",
       "    </tr>\n",
       "    <tr>\n",
       "      <th>32</th>\n",
       "      <td>NHS North West Surrey CCG</td>\n",
       "      <td>2016</td>\n",
       "      <td>Asthma Admissions Over 19yr</td>\n",
       "      <td>65.58</td>\n",
       "      <td>PM10</td>\n",
       "      <td>14.579729</td>\n",
       "    </tr>\n",
       "    <tr>\n",
       "      <th>33</th>\n",
       "      <td>NHS Richmond CCG</td>\n",
       "      <td>2016</td>\n",
       "      <td>Asthma Admissions Over 19yr</td>\n",
       "      <td>60.18</td>\n",
       "      <td>PM10</td>\n",
       "      <td>18.424106</td>\n",
       "    </tr>\n",
       "    <tr>\n",
       "      <th>34</th>\n",
       "      <td>NHS Sutton CCG</td>\n",
       "      <td>2016</td>\n",
       "      <td>Asthma Admissions Over 19yr</td>\n",
       "      <td>97.27</td>\n",
       "      <td>PM10</td>\n",
       "      <td>18.424106</td>\n",
       "    </tr>\n",
       "    <tr>\n",
       "      <th>35</th>\n",
       "      <td>NHS Wandsworth CCG</td>\n",
       "      <td>2016</td>\n",
       "      <td>Asthma Admissions Over 19yr</td>\n",
       "      <td>113.05</td>\n",
       "      <td>PM10</td>\n",
       "      <td>18.424106</td>\n",
       "    </tr>\n",
       "    <tr>\n",
       "      <th>36</th>\n",
       "      <td>NHS Ealing CCG</td>\n",
       "      <td>2017</td>\n",
       "      <td>Asthma Admissions Over 19yr</td>\n",
       "      <td>167.12</td>\n",
       "      <td>PM10</td>\n",
       "      <td>25.726537</td>\n",
       "    </tr>\n",
       "    <tr>\n",
       "      <th>37</th>\n",
       "      <td>NHS East Berkshire CCG</td>\n",
       "      <td>2017</td>\n",
       "      <td>Asthma Admissions Over 19yr</td>\n",
       "      <td>91.59</td>\n",
       "      <td>PM10</td>\n",
       "      <td>17.412889</td>\n",
       "    </tr>\n",
       "    <tr>\n",
       "      <th>38</th>\n",
       "      <td>NHS Hillingdon CCG</td>\n",
       "      <td>2017</td>\n",
       "      <td>Asthma Admissions Over 19yr</td>\n",
       "      <td>118.38</td>\n",
       "      <td>PM10</td>\n",
       "      <td>18.347888</td>\n",
       "    </tr>\n",
       "    <tr>\n",
       "      <th>39</th>\n",
       "      <td>NHS Kingston CCG</td>\n",
       "      <td>2017</td>\n",
       "      <td>Asthma Admissions Over 19yr</td>\n",
       "      <td>65.99</td>\n",
       "      <td>PM10</td>\n",
       "      <td>18.097912</td>\n",
       "    </tr>\n",
       "    <tr>\n",
       "      <th>40</th>\n",
       "      <td>NHS Merton CCG</td>\n",
       "      <td>2017</td>\n",
       "      <td>Asthma Admissions Over 19yr</td>\n",
       "      <td>85.60</td>\n",
       "      <td>PM10</td>\n",
       "      <td>18.097912</td>\n",
       "    </tr>\n",
       "    <tr>\n",
       "      <th>41</th>\n",
       "      <td>NHS North West Surrey CCG</td>\n",
       "      <td>2017</td>\n",
       "      <td>Asthma Admissions Over 19yr</td>\n",
       "      <td>55.66</td>\n",
       "      <td>PM10</td>\n",
       "      <td>13.704659</td>\n",
       "    </tr>\n",
       "    <tr>\n",
       "      <th>42</th>\n",
       "      <td>NHS Richmond CCG</td>\n",
       "      <td>2017</td>\n",
       "      <td>Asthma Admissions Over 19yr</td>\n",
       "      <td>72.45</td>\n",
       "      <td>PM10</td>\n",
       "      <td>18.097912</td>\n",
       "    </tr>\n",
       "    <tr>\n",
       "      <th>43</th>\n",
       "      <td>NHS Sutton CCG</td>\n",
       "      <td>2017</td>\n",
       "      <td>Asthma Admissions Over 19yr</td>\n",
       "      <td>119.72</td>\n",
       "      <td>PM10</td>\n",
       "      <td>18.097912</td>\n",
       "    </tr>\n",
       "    <tr>\n",
       "      <th>44</th>\n",
       "      <td>NHS Wandsworth CCG</td>\n",
       "      <td>2017</td>\n",
       "      <td>Asthma Admissions Over 19yr</td>\n",
       "      <td>98.07</td>\n",
       "      <td>PM10</td>\n",
       "      <td>18.097912</td>\n",
       "    </tr>\n",
       "    <tr>\n",
       "      <th>45</th>\n",
       "      <td>NHS Ealing CCG</td>\n",
       "      <td>2018</td>\n",
       "      <td>Asthma Admissions Over 19yr</td>\n",
       "      <td>152.31</td>\n",
       "      <td>PM10</td>\n",
       "      <td>24.810243</td>\n",
       "    </tr>\n",
       "    <tr>\n",
       "      <th>46</th>\n",
       "      <td>NHS East Berkshire CCG</td>\n",
       "      <td>2018</td>\n",
       "      <td>Asthma Admissions Over 19yr</td>\n",
       "      <td>114.44</td>\n",
       "      <td>PM10</td>\n",
       "      <td>17.522004</td>\n",
       "    </tr>\n",
       "    <tr>\n",
       "      <th>47</th>\n",
       "      <td>NHS Hillingdon CCG</td>\n",
       "      <td>2018</td>\n",
       "      <td>Asthma Admissions Over 19yr</td>\n",
       "      <td>120.61</td>\n",
       "      <td>PM10</td>\n",
       "      <td>18.876481</td>\n",
       "    </tr>\n",
       "    <tr>\n",
       "      <th>48</th>\n",
       "      <td>NHS Kingston CCG</td>\n",
       "      <td>2018</td>\n",
       "      <td>Asthma Admissions Over 19yr</td>\n",
       "      <td>68.04</td>\n",
       "      <td>PM10</td>\n",
       "      <td>17.522024</td>\n",
       "    </tr>\n",
       "    <tr>\n",
       "      <th>49</th>\n",
       "      <td>NHS Merton CCG</td>\n",
       "      <td>2018</td>\n",
       "      <td>Asthma Admissions Over 19yr</td>\n",
       "      <td>93.74</td>\n",
       "      <td>PM10</td>\n",
       "      <td>17.522024</td>\n",
       "    </tr>\n",
       "    <tr>\n",
       "      <th>50</th>\n",
       "      <td>NHS North West Surrey CCG</td>\n",
       "      <td>2018</td>\n",
       "      <td>Asthma Admissions Over 19yr</td>\n",
       "      <td>55.40</td>\n",
       "      <td>PM10</td>\n",
       "      <td>14.849231</td>\n",
       "    </tr>\n",
       "    <tr>\n",
       "      <th>51</th>\n",
       "      <td>NHS Richmond CCG</td>\n",
       "      <td>2018</td>\n",
       "      <td>Asthma Admissions Over 19yr</td>\n",
       "      <td>78.49</td>\n",
       "      <td>PM10</td>\n",
       "      <td>17.522024</td>\n",
       "    </tr>\n",
       "    <tr>\n",
       "      <th>52</th>\n",
       "      <td>NHS Sutton CCG</td>\n",
       "      <td>2018</td>\n",
       "      <td>Asthma Admissions Over 19yr</td>\n",
       "      <td>101.75</td>\n",
       "      <td>PM10</td>\n",
       "      <td>17.522024</td>\n",
       "    </tr>\n",
       "    <tr>\n",
       "      <th>53</th>\n",
       "      <td>NHS Wandsworth CCG</td>\n",
       "      <td>2018</td>\n",
       "      <td>Asthma Admissions Over 19yr</td>\n",
       "      <td>94.09</td>\n",
       "      <td>PM10</td>\n",
       "      <td>17.522024</td>\n",
       "    </tr>\n",
       "  </tbody>\n",
       "</table>\n",
       "</div>"
      ],
      "text/plain": [
       "                    Area Name  Year             Indicator Name_x  Value_x  \\\n",
       "0              NHS Ealing CCG  2013  Asthma Admissions Over 19yr   139.52   \n",
       "1      NHS East Berkshire CCG  2013  Asthma Admissions Over 19yr    77.60   \n",
       "2          NHS Hillingdon CCG  2013  Asthma Admissions Over 19yr   109.50   \n",
       "3            NHS Kingston CCG  2013  Asthma Admissions Over 19yr    48.36   \n",
       "4              NHS Merton CCG  2013  Asthma Admissions Over 19yr    62.78   \n",
       "5   NHS North West Surrey CCG  2013  Asthma Admissions Over 19yr    65.10   \n",
       "6            NHS Richmond CCG  2013  Asthma Admissions Over 19yr    35.68   \n",
       "7              NHS Sutton CCG  2013  Asthma Admissions Over 19yr    77.91   \n",
       "8          NHS Wandsworth CCG  2013  Asthma Admissions Over 19yr    84.18   \n",
       "9              NHS Ealing CCG  2014  Asthma Admissions Over 19yr   142.95   \n",
       "10     NHS East Berkshire CCG  2014  Asthma Admissions Over 19yr   102.05   \n",
       "11         NHS Hillingdon CCG  2014  Asthma Admissions Over 19yr   132.98   \n",
       "12           NHS Kingston CCG  2014  Asthma Admissions Over 19yr    53.85   \n",
       "13             NHS Merton CCG  2014  Asthma Admissions Over 19yr   108.15   \n",
       "14  NHS North West Surrey CCG  2014  Asthma Admissions Over 19yr    69.17   \n",
       "15           NHS Richmond CCG  2014  Asthma Admissions Over 19yr    45.63   \n",
       "16             NHS Sutton CCG  2014  Asthma Admissions Over 19yr    94.67   \n",
       "17         NHS Wandsworth CCG  2014  Asthma Admissions Over 19yr   103.58   \n",
       "18             NHS Ealing CCG  2015  Asthma Admissions Over 19yr   140.65   \n",
       "19     NHS East Berkshire CCG  2015  Asthma Admissions Over 19yr    77.06   \n",
       "20         NHS Hillingdon CCG  2015  Asthma Admissions Over 19yr    93.14   \n",
       "21           NHS Kingston CCG  2015  Asthma Admissions Over 19yr    53.96   \n",
       "22             NHS Merton CCG  2015  Asthma Admissions Over 19yr   102.64   \n",
       "23  NHS North West Surrey CCG  2015  Asthma Admissions Over 19yr    57.60   \n",
       "24           NHS Richmond CCG  2015  Asthma Admissions Over 19yr    61.40   \n",
       "25             NHS Sutton CCG  2015  Asthma Admissions Over 19yr    95.44   \n",
       "26         NHS Wandsworth CCG  2015  Asthma Admissions Over 19yr    95.21   \n",
       "27             NHS Ealing CCG  2016  Asthma Admissions Over 19yr   147.82   \n",
       "28     NHS East Berkshire CCG  2016  Asthma Admissions Over 19yr   117.37   \n",
       "29         NHS Hillingdon CCG  2016  Asthma Admissions Over 19yr    94.93   \n",
       "30           NHS Kingston CCG  2016  Asthma Admissions Over 19yr    84.57   \n",
       "31             NHS Merton CCG  2016  Asthma Admissions Over 19yr   101.38   \n",
       "32  NHS North West Surrey CCG  2016  Asthma Admissions Over 19yr    65.58   \n",
       "33           NHS Richmond CCG  2016  Asthma Admissions Over 19yr    60.18   \n",
       "34             NHS Sutton CCG  2016  Asthma Admissions Over 19yr    97.27   \n",
       "35         NHS Wandsworth CCG  2016  Asthma Admissions Over 19yr   113.05   \n",
       "36             NHS Ealing CCG  2017  Asthma Admissions Over 19yr   167.12   \n",
       "37     NHS East Berkshire CCG  2017  Asthma Admissions Over 19yr    91.59   \n",
       "38         NHS Hillingdon CCG  2017  Asthma Admissions Over 19yr   118.38   \n",
       "39           NHS Kingston CCG  2017  Asthma Admissions Over 19yr    65.99   \n",
       "40             NHS Merton CCG  2017  Asthma Admissions Over 19yr    85.60   \n",
       "41  NHS North West Surrey CCG  2017  Asthma Admissions Over 19yr    55.66   \n",
       "42           NHS Richmond CCG  2017  Asthma Admissions Over 19yr    72.45   \n",
       "43             NHS Sutton CCG  2017  Asthma Admissions Over 19yr   119.72   \n",
       "44         NHS Wandsworth CCG  2017  Asthma Admissions Over 19yr    98.07   \n",
       "45             NHS Ealing CCG  2018  Asthma Admissions Over 19yr   152.31   \n",
       "46     NHS East Berkshire CCG  2018  Asthma Admissions Over 19yr   114.44   \n",
       "47         NHS Hillingdon CCG  2018  Asthma Admissions Over 19yr   120.61   \n",
       "48           NHS Kingston CCG  2018  Asthma Admissions Over 19yr    68.04   \n",
       "49             NHS Merton CCG  2018  Asthma Admissions Over 19yr    93.74   \n",
       "50  NHS North West Surrey CCG  2018  Asthma Admissions Over 19yr    55.40   \n",
       "51           NHS Richmond CCG  2018  Asthma Admissions Over 19yr    78.49   \n",
       "52             NHS Sutton CCG  2018  Asthma Admissions Over 19yr   101.75   \n",
       "53         NHS Wandsworth CCG  2018  Asthma Admissions Over 19yr    94.09   \n",
       "\n",
       "   Indicator Name_y    Value_y  \n",
       "0              PM10  25.208132  \n",
       "1              PM10  22.190330  \n",
       "2              PM10  22.727337  \n",
       "3              PM10  21.258820  \n",
       "4              PM10  21.258820  \n",
       "5              PM10  21.585237  \n",
       "6              PM10  21.258820  \n",
       "7              PM10  21.258820  \n",
       "8              PM10  21.258820  \n",
       "9              PM10  20.096600  \n",
       "10             PM10  19.033874  \n",
       "11             PM10  21.325229  \n",
       "12             PM10  17.834867  \n",
       "13             PM10  17.834867  \n",
       "14             PM10  17.701810  \n",
       "15             PM10  17.834867  \n",
       "16             PM10  17.834867  \n",
       "17             PM10  17.834867  \n",
       "18             PM10  22.298302  \n",
       "19             PM10  16.242082  \n",
       "20             PM10  18.931073  \n",
       "21             PM10  15.319123  \n",
       "22             PM10  15.319123  \n",
       "23             PM10  13.508985  \n",
       "24             PM10  15.319123  \n",
       "25             PM10  15.319123  \n",
       "26             PM10  15.319123  \n",
       "27             PM10  22.008693  \n",
       "28             PM10  15.282021  \n",
       "29             PM10  19.543862  \n",
       "30             PM10  18.424106  \n",
       "31             PM10  18.424106  \n",
       "32             PM10  14.579729  \n",
       "33             PM10  18.424106  \n",
       "34             PM10  18.424106  \n",
       "35             PM10  18.424106  \n",
       "36             PM10  25.726537  \n",
       "37             PM10  17.412889  \n",
       "38             PM10  18.347888  \n",
       "39             PM10  18.097912  \n",
       "40             PM10  18.097912  \n",
       "41             PM10  13.704659  \n",
       "42             PM10  18.097912  \n",
       "43             PM10  18.097912  \n",
       "44             PM10  18.097912  \n",
       "45             PM10  24.810243  \n",
       "46             PM10  17.522004  \n",
       "47             PM10  18.876481  \n",
       "48             PM10  17.522024  \n",
       "49             PM10  17.522024  \n",
       "50             PM10  14.849231  \n",
       "51             PM10  17.522024  \n",
       "52             PM10  17.522024  \n",
       "53             PM10  17.522024  "
      ]
     },
     "execution_count": 55,
     "metadata": {},
     "output_type": "execute_result"
    }
   ],
   "source": [
    "joined"
   ]
  },
  {
   "cell_type": "code",
   "execution_count": 56,
   "metadata": {},
   "outputs": [
    {
     "data": {
      "text/plain": [
       "<AxesSubplot:xlabel='Value_x', ylabel='Value_y'>"
      ]
     },
     "execution_count": 56,
     "metadata": {},
     "output_type": "execute_result"
    },
    {
     "data": {
      "image/png": "[encoded data removed]",
      "text/plain": [
       "<Figure size 432x288 with 1 Axes>"
      ]
     },
     "metadata": {
      "needs_background": "light"
     },
     "output_type": "display_data"
    }
   ],
   "source": [
    "joined.plot.scatter('Value_x', 'Value_y' )"
   ]
  }
 ],
 "metadata": {
  "kernelspec": {
   "display_name": "Python 3",
   "language": "python",
   "name": "python3"
  },
  "language_info": {
   "codemirror_mode": {
    "name": "ipython",
    "version": 3
   },
   "file_extension": ".py",
   "mimetype": "text/x-python",
   "name": "python",
   "nbconvert_exporter": "python",
   "pygments_lexer": "ipython3",
   "version": "3.7.4"
  }
 },
 "nbformat": 4,
 "nbformat_minor": 4
}
