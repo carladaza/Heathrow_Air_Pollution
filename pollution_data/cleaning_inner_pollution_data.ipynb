{
 "cells": [
  {
   "cell_type": "markdown",
   "metadata": {},
   "source": [
    "# Cleaning methodology for pollutant data"
   ]
  },
  {
   "cell_type": "markdown",
   "metadata": {},
   "source": [
    "This notebook contains the key steps taken to gather and clean air pollution data. As the data set is quite large and can only be downloaded in small chunks, we are currently investigation different ways of downloading the data in order to increase efficiency. As we continue to explore the data, more substantial filtering and cleaning will take place. "
   ]
  },
  {
   "cell_type": "code",
   "execution_count": 1,
   "metadata": {},
   "outputs": [],
   "source": [
    "import pandas as pd\n",
    "import numpy as np"
   ]
  },
  {
   "cell_type": "markdown",
   "metadata": {},
   "source": [
    "## Step 1: Identify boundary for monitoring. \n",
    "\n",
    "Having manually sifted through the data, we were able to split several monitoring sites into \"inner\" and \"outer\" ranges based on their geographic location. The data points closest to our area of focus (Heathrow Airport) have been categorised as \"inner\" locations and will be vital in our investigation into emissions. The \"outer\" locations will be used as a way of comparisson to gain a deeper understanding of the scale of the impact arising from air pollution. "
   ]
  },
  {
   "cell_type": "markdown",
   "metadata": {},
   "source": [
    "|CCG | Borough| Inner location - monitoring station| Outer location - monitoring site|\n",
    "|---:|:-----|:-----------|:------------|\n",
    "|Hillingdon |Hillingdon| Hillingdon South Ruislip, Hillingdon 2 Hillingdon Hospital, Hillingdon Oxford Avenue, Hillingdon Harmondsworth, Hillingdon Harmondsworth Osiris, Hillingdon Hayes, Heathrow LHR2, Heathrow Bath Road, Hillingdon Sipson, Heathrow Green Gates| |\n",
    "|East Berkshire | Slough |Slough Town Centre Wellington Street,Slough Brands Hill London Road,Slough Windmill Bath Road,Slough Colnbrook,Slough Town Centre A4,Slough Lakeside 1 Osiris,Slough Colnbrook Osiris,Slough Chalvey,Slough Lakeside 2,Slough Lakeside 2 Osiris,Slough - Dennis Way LP11,Slough - Monksfield Way LP20,Slough - The Hawthorns LP2,Slough - Erica Close LP3,Slough - Hatton Avenue LP13,Slough - St Andrews Way LP12,Slough - The Hawthorns LP10,Slough - Francis Way LP13,Slough - The Hawthorns LP1,Slough - Monksfield Way LP19,Slough - Brighton Spur LP3,Slough - Bower Way LP1,Slough - Hatton Avenue LP3,Slough - Cinder Track LP37|\n",
    "|Hounslow| Hounslow | Hounslow Cranford, Hounslow Chiswick, Hounslow Brentford, Hounslow Heston, Hounslow Hatton Cross, Hounslow Feltham, Hounslow Gunnersbury |\n",
    "|Ealing | Ealing | Ealing Horn Lane\n",
    "|Buckinghamshire|South Bucks|Iver Thorney Lane North, Iver North Park Road, Iver Primary School|\n",
    "|Surrey Heartlands|Richmond|- |Elmbridge|\n",
    "| - | Spelthorne | Spelthorne Shepperton Squire's Bridge Road, Spelthorne knowle Green, Spelthorne Sunbury Cross, Heathrow Oaks Road|\n",
    "| - |Waverly and Woking | - | H&F Shepherd’s Bush, Godalming Ockford Road 2|\n",
    "|South West London| Richmond | London Teddington Bushy Park. |\n",
    "|Hammersmith & Fulham|London Borough of Hammersmith and Fulham|-| H&F Hammersmith Town Centre, H&F Shepherd’s Bush|\n",
    "|Watford|Hertfordshire and Bedfordshire|-|Watford Town Hall|\n",
    "|Oxfordshire|Oxfordshire|-|Oxford High St, Oxford St Ebbes (Cal Club), Oxford Center Roadside, Oxford St Ebbes|\n",
    "| Berkshire West| Readiing| - | Reading Caversham Road, Reading Oxford Road, Reading London Road, Reading New Town|"
   ]
  },
  {
   "cell_type": "markdown",
   "metadata": {},
   "source": [
    "## Step 2: Format the Data"
   ]
  },
  {
   "cell_type": "code",
   "execution_count": 2,
   "metadata": {},
   "outputs": [],
   "source": [
    "boroughs = ['ealing', 'hounslow', 'hillingdon', 'richmond', 'slough', 'spelthorne']"
   ]
  },
  {
   "cell_type": "code",
   "execution_count": null,
   "metadata": {},
   "outputs": [],
   "source": [
    "li = []\n",
    "\n",
    "for borough in boroughs:\n",
    "    df = pd.read_excel('./raw_data/{}.xlsx'.format(borough), header=[0,1], sheet_name=None)\n",
    "    df = pd.concat(df.values(), axis=0)\n",
    "    df = pd.DataFrame(df, columns=df.keys())\n",
    "    li.append(df)\n",
    "\n",
    "frame = pd.concat(li, axis=0, ignore_index=True)"
   ]
  },
  {
   "cell_type": "code",
   "execution_count": null,
   "metadata": {},
   "outputs": [],
   "source": [
    "# frame.to_excel(\"concatinated_pollution_data.xlsx\")"
   ]
  },
  {
   "cell_type": "code",
   "execution_count": null,
   "metadata": {},
   "outputs": [],
   "source": [
    "# df = pd.read_excel('concatinated_pollution_data.xlsx', header=[0,1], sheet_name=None)\n",
    "# df = pd.concat(df.values(), axis=0)\n",
    "# df = pd.DataFrame(df, columns=df.keys())\n",
    "# df.head()"
   ]
  },
  {
   "cell_type": "code",
   "execution_count": null,
   "metadata": {},
   "outputs": [],
   "source": [
    "# pd.set_option('display.max_columns', 100)"
   ]
  },
  {
   "cell_type": "markdown",
   "metadata": {},
   "source": [
    "## Step 3: Unify missing data"
   ]
  },
  {
   "cell_type": "code",
   "execution_count": null,
   "metadata": {},
   "outputs": [],
   "source": [
    "df = frame.replace('No data', np.nan)\n",
    "df = df.replace('No Data', np.nan)\n",
    "df.head()"
   ]
  },
  {
   "cell_type": "markdown",
   "metadata": {},
   "source": [
    "## Step 4: Identify closed monitoring stations"
   ]
  },
  {
   "cell_type": "code",
   "execution_count": null,
   "metadata": {},
   "outputs": [],
   "source": [
    "non_null_columns = [col for col in df.columns if df.loc[:, col].notna().any()]\n",
    "open_monitoring_sites = df[non_null_columns]\n",
    "open_monitoring_sites"
   ]
  },
  {
   "cell_type": "markdown",
   "metadata": {},
   "source": [
    "## Step 5: Setting Date and Time columns to Datetime"
   ]
  },
  {
   "cell_type": "code",
   "execution_count": null,
   "metadata": {},
   "outputs": [],
   "source": [
    "open_monitoring_sites[('Unnamed: 1_level_0','Time')] = [str(x)[-8:] for x in open_monitoring_sites[('Unnamed: 1_level_0','Time')]]"
   ]
  },
  {
   "cell_type": "code",
   "execution_count": null,
   "metadata": {},
   "outputs": [],
   "source": [
    "open_monitoring_sites"
   ]
  },
  {
   "cell_type": "code",
   "execution_count": null,
   "metadata": {},
   "outputs": [],
   "source": [
    "open_monitoring_sites[('Unnamed: 1_level_0','Time')] = pd.to_datetime(open_monitoring_sites[('Unnamed: 1_level_0','Time')], format='%H:%M:%S').dt.strftime(\"%H:%M:%S\")"
   ]
  },
  {
   "cell_type": "code",
   "execution_count": null,
   "metadata": {},
   "outputs": [],
   "source": [
    "open_monitoring_sites.columns"
   ]
  },
  {
   "cell_type": "code",
   "execution_count": null,
   "metadata": {
    "scrolled": true
   },
   "outputs": [],
   "source": [
    "open_monitoring_sites.set_index([('Unnamed: 0_level_0','Date'), ('Unnamed: 1_level_0','Time')], inplace=True)\n",
    "open_monitoring_sites"
   ]
  },
  {
   "cell_type": "code",
   "execution_count": null,
   "metadata": {},
   "outputs": [],
   "source": [
    "open_monitoring_sites = open_monitoring_sites.rename_axis(['Date','Time'])\n",
    "open_monitoring_sites"
   ]
  },
  {
   "cell_type": "markdown",
   "metadata": {},
   "source": [
    "## Step 6: Removing Multi-tier Columns"
   ]
  },
  {
   "cell_type": "code",
   "execution_count": null,
   "metadata": {
    "scrolled": true
   },
   "outputs": [],
   "source": [
    "open_monitoring_sites_stack = open_monitoring_sites.stack(0, dropna=True).rename_axis(('Date', 'Time','Location'))\n",
    "open_monitoring_sites_stack"
   ]
  },
  {
   "cell_type": "code",
   "execution_count": null,
   "metadata": {
    "scrolled": true
   },
   "outputs": [],
   "source": [
    "open_monitoring_sites_stack.reset_index(level=['Location'])"
   ]
  },
  {
   "cell_type": "markdown",
   "metadata": {},
   "source": [
    "## Renaming status columns"
   ]
  },
  {
   "cell_type": "code",
   "execution_count": null,
   "metadata": {},
   "outputs": [],
   "source": [
    "list(open_monitoring_sites_stack.columns)"
   ]
  },
  {
   "cell_type": "code",
   "execution_count": null,
   "metadata": {},
   "outputs": [],
   "source": [
    "pollutants = ['Carbon monoxide',\n",
    " 'Nitric Oxide',\n",
    " 'Nitrogen dioxide',\n",
    " 'Non-volatile PM10',\n",
    " 'Non-volatile PM2.5',\n",
    " 'Oxides of Nitrogen',\n",
    " 'Ozone',\n",
    " 'PM1 Particulates',\n",
    " 'PM10 Particulate matter',\n",
    " 'PM10 particulate matter (Hourly measured)',\n",
    " 'PM2.5 Particulate matter',\n",
    " 'PM2.5 Particulate matter.1',\n",
    " 'PM2.5 particulate matter (Hourly measured)',\n",
    " 'Sulphur dioxide',\n",
    " 'Volatile PM10']"
   ]
  },
  {
   "cell_type": "code",
   "execution_count": null,
   "metadata": {},
   "outputs": [],
   "source": [
    "units = {'Status': 'Carbon monoxide units',\n",
    " 'Status.1' : 'Nitric Oxide units',\n",
    " 'Status.10' :'Nitrogen dioxide units',\n",
    " 'Status.12' :'Non-volatile PM10 units',\n",
    " 'Status.14' : 'Non-volatile PM2.5 units',\n",
    " 'Status.2' : 'Oxides of Nitrogen units',\n",
    " 'Status.3' : 'Ozone units',\n",
    " 'Status.4' : 'PM1 Particulates units',\n",
    " 'Status.5' : 'PM10 Particulate matter units',\n",
    " 'Status.6' : 'PM10 particulate matter (Hourly measured) units',\n",
    " 'Status.7' : 'PM2.5 Particulate matter units',\n",
    " 'Status.8' : 'PM2.5 Particulate matter.1 units',\n",
    " 'Status.9' : 'PM2.5 particulate matter (Hourly measured) units'\n",
    " }"
   ]
  },
  {
   "cell_type": "code",
   "execution_count": null,
   "metadata": {},
   "outputs": [],
   "source": [
    "# open_monitoring_sites_stack.columns = open_monitoring_sites_stack.columns.map(units)"
   ]
  },
  {
   "cell_type": "code",
   "execution_count": null,
   "metadata": {},
   "outputs": [],
   "source": [
    "open_monitoring_sites_stack.to_csv(\"stacked_inner_pollution_data.csv\")"
   ]
  },
  {
   "cell_type": "code",
   "execution_count": null,
   "metadata": {},
   "outputs": [],
   "source": [
    "# clean_data = pd.read_excel('concatinated_pollution_data.xlsx', header=[0,1], sheet_name=None)\n",
    "# clean_dataclean_data = pd.concat(clean_data.values(), axis=0)\n",
    "# clean_data = pd.DataFrame(clean_data, columns=clean_data.keys())\n",
    "# clean_data.head()"
   ]
  },
  {
   "cell_type": "markdown",
   "metadata": {},
   "source": [
    "## Next Steps"
   ]
  },
  {
   "cell_type": "markdown",
   "metadata": {},
   "source": [
    "- Use API call to gather data from monitoring stations\n",
    "- Investigate other data sources for mass downloads and ease\n",
    "- Aggregate data on a daily basis\n",
    "- Investigate similarities/differences between outer and inner locations, perform EDA on each\n",
    "- Aggregate data annually and merge with Health and Flight data\n"
   ]
  },
  {
   "cell_type": "code",
   "execution_count": null,
   "metadata": {},
   "outputs": [],
   "source": []
  }
 ],
 "metadata": {
  "kernelspec": {
   "display_name": "Python 3",
   "language": "python",
   "name": "python3"
  },
  "language_info": {
   "codemirror_mode": {
    "name": "ipython",
    "version": 3
   },
   "file_extension": ".py",
   "mimetype": "text/x-python",
   "name": "python",
   "nbconvert_exporter": "python",
   "pygments_lexer": "ipython3",
   "version": "3.6.7"
  }
 },
 "nbformat": 4,
 "nbformat_minor": 2
}
