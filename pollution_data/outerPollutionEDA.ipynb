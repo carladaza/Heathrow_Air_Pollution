{
 "cells": [
  {
   "cell_type": "code",
   "execution_count": 2,
   "metadata": {},
   "outputs": [],
   "source": [
    "import pandas as pd\n",
    "import matplotlib.pyplot as plt\n",
    "import seaborn as sns\n",
    "import numpy as np"
   ]
  },
  {
   "cell_type": "code",
   "execution_count": 3,
   "metadata": {},
   "outputs": [
    {
     "data": {
      "text/plain": [
       "'0.23.4'"
      ]
     },
     "execution_count": 3,
     "metadata": {},
     "output_type": "execute_result"
    }
   ],
   "source": [
    "pd.__version__"
   ]
  },
  {
   "cell_type": "code",
   "execution_count": 7,
   "metadata": {},
   "outputs": [],
   "source": [
    "monthly = pd.read_csv('./monthlyOuterStacked.csv')\n",
    "yearly = pd.read_csv('./yearlyOuterStacked.csv')"
   ]
  },
  {
   "cell_type": "code",
   "execution_count": 8,
   "metadata": {},
   "outputs": [
    {
     "data": {
      "text/html": [
       "<div>\n",
       "<style scoped>\n",
       "    .dataframe tbody tr th:only-of-type {\n",
       "        vertical-align: middle;\n",
       "    }\n",
       "\n",
       "    .dataframe tbody tr th {\n",
       "        vertical-align: top;\n",
       "    }\n",
       "\n",
       "    .dataframe thead th {\n",
       "        text-align: right;\n",
       "    }\n",
       "</style>\n",
       "<table border=\"1\" class=\"dataframe\">\n",
       "  <thead>\n",
       "    <tr style=\"text-align: right;\">\n",
       "      <th></th>\n",
       "      <th>Date</th>\n",
       "      <th>Location</th>\n",
       "      <th>Nitrogen dioxide</th>\n",
       "      <th>Ozone</th>\n",
       "      <th>PM10 particulate matter (Hourly measured)</th>\n",
       "      <th>PM2.5 particulate matter (Hourly measured)</th>\n",
       "      <th>Sulphur dioxide</th>\n",
       "      <th>CCG</th>\n",
       "    </tr>\n",
       "  </thead>\n",
       "  <tbody>\n",
       "    <tr>\n",
       "      <th>0</th>\n",
       "      <td>1970-01-31</td>\n",
       "      <td>Broadway</td>\n",
       "      <td>79.700234</td>\n",
       "      <td>NaN</td>\n",
       "      <td>31.075978</td>\n",
       "      <td>NaN</td>\n",
       "      <td>6.884052</td>\n",
       "      <td>Hammersmith and Fulham</td>\n",
       "    </tr>\n",
       "    <tr>\n",
       "      <th>1</th>\n",
       "      <td>1970-01-31</td>\n",
       "      <td>Brook Green</td>\n",
       "      <td>39.241718</td>\n",
       "      <td>NaN</td>\n",
       "      <td>22.586616</td>\n",
       "      <td>NaN</td>\n",
       "      <td>NaN</td>\n",
       "      <td>Hammersmith and Fulham</td>\n",
       "    </tr>\n",
       "    <tr>\n",
       "      <th>2</th>\n",
       "      <td>1970-01-31</td>\n",
       "      <td>H&amp;F Hammersmith Town Centre</td>\n",
       "      <td>44.916206</td>\n",
       "      <td>35.32659</td>\n",
       "      <td>20.188576</td>\n",
       "      <td>14.253794</td>\n",
       "      <td>NaN</td>\n",
       "      <td>Hammersmith and Fulham</td>\n",
       "    </tr>\n",
       "    <tr>\n",
       "      <th>3</th>\n",
       "      <td>1970-01-31</td>\n",
       "      <td>H&amp;F Shepherd's Bush</td>\n",
       "      <td>72.864932</td>\n",
       "      <td>NaN</td>\n",
       "      <td>27.532192</td>\n",
       "      <td>NaN</td>\n",
       "      <td>NaN</td>\n",
       "      <td>Hammersmith and Fulham</td>\n",
       "    </tr>\n",
       "    <tr>\n",
       "      <th>4</th>\n",
       "      <td>1970-01-31</td>\n",
       "      <td>Oxford High St</td>\n",
       "      <td>49.439685</td>\n",
       "      <td>NaN</td>\n",
       "      <td>22.168788</td>\n",
       "      <td>NaN</td>\n",
       "      <td>NaN</td>\n",
       "      <td>Oxford</td>\n",
       "    </tr>\n",
       "  </tbody>\n",
       "</table>\n",
       "</div>"
      ],
      "text/plain": [
       "         Date                     Location  Nitrogen dioxide     Ozone  \\\n",
       "0  1970-01-31                     Broadway         79.700234       NaN   \n",
       "1  1970-01-31                  Brook Green         39.241718       NaN   \n",
       "2  1970-01-31  H&F Hammersmith Town Centre         44.916206  35.32659   \n",
       "3  1970-01-31          H&F Shepherd's Bush         72.864932       NaN   \n",
       "4  1970-01-31               Oxford High St         49.439685       NaN   \n",
       "\n",
       "   PM10 particulate matter (Hourly measured)  \\\n",
       "0                                  31.075978   \n",
       "1                                  22.586616   \n",
       "2                                  20.188576   \n",
       "3                                  27.532192   \n",
       "4                                  22.168788   \n",
       "\n",
       "   PM2.5 particulate matter (Hourly measured)  Sulphur dioxide  \\\n",
       "0                                         NaN         6.884052   \n",
       "1                                         NaN              NaN   \n",
       "2                                   14.253794              NaN   \n",
       "3                                         NaN              NaN   \n",
       "4                                         NaN              NaN   \n",
       "\n",
       "                      CCG  \n",
       "0  Hammersmith and Fulham  \n",
       "1  Hammersmith and Fulham  \n",
       "2  Hammersmith and Fulham  \n",
       "3  Hammersmith and Fulham  \n",
       "4                  Oxford  "
      ]
     },
     "execution_count": 8,
     "metadata": {},
     "output_type": "execute_result"
    }
   ],
   "source": [
    "monthly.head()"
   ]
  },
  {
   "cell_type": "code",
   "execution_count": null,
   "metadata": {},
   "outputs": [],
   "source": []
  }
 ],
 "metadata": {
  "kernelspec": {
   "display_name": "Python 3",
   "language": "python",
   "name": "python3"
  },
  "language_info": {
   "codemirror_mode": {
    "name": "ipython",
    "version": 3
   },
   "file_extension": ".py",
   "mimetype": "text/x-python",
   "name": "python",
   "nbconvert_exporter": "python",
   "pygments_lexer": "ipython3",
   "version": "3.6.7"
  }
 },
 "nbformat": 4,
 "nbformat_minor": 2
}
